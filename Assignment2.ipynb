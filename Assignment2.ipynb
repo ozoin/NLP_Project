{
 "cells": [
  {
   "cell_type": "markdown",
   "metadata": {},
   "source": [
    "Please fill out the information of your group!\n",
    "\n",
    "| <p style=\"text-align: center;\">First Name</p>  | <p style=\"text-align: center;\">Family Name</p> | Matr.-No. |\n",
    "| ---------------------------------------------- | ---------------------------------------------- | -------- |\n",
    "| <p style=\"text-align: left\">Arturs</p>| <p style=\"text-align: left\">Jegorovs</p> | k12126837 |\n",
    "| <p style=\"text-align: left\">Nikita</p>| <p style=\"text-align: left\">Tymofieiev</p> | k12133178 |\n",
    "\n"
   ]
  },
  {
   "cell_type": "markdown",
   "metadata": {},
   "source": [
    "<h2 style=\"text-align: center\">344.105/6/7 UE: Natural Language Processing (WS2023/24)</h2>\n",
    "<h1 style=\"color:rgb(0,120,170)\">Assignment 2</h1>\n",
    "<h2 style=\"color:rgb(0,120,170)\">Getting to Know Word Embedding!</h2>                  "
   ]
  },
  {
   "cell_type": "markdown",
   "metadata": {},
   "source": [
    "<b>Terms of Use</b><br>\n",
    "This  material is prepared for educational purposes at the Johannes Kepler University (JKU) Linz, and is exclusively provided to the registered students of the mentioned course at JKU. It is strictly forbidden to distribute the current file, the contents of the assignment, and its solution. The use or reproduction of this manuscript is only allowed for educational purposes in non-profit organizations, while in this case, the explicit prior acceptance of the author(s) is required.\n",
    "\n",
    "**Authors:** Navid Rekab-saz, Oleg Lesota<br>\n"
   ]
  },
  {
   "cell_type": "markdown",
   "metadata": {},
   "source": [
    "<h2>Table of contents</h2>\n",
    "<ol>\n",
    "    <a href=\"#section-general-guidelines\"><li style=\"font-size:large;font-weight:bold\">General Guidelines</li></a>\n",
    "    <a href=\"#section-taskA\"><li style=\"font-size:large;font-weight:bold\">Task A: Words Similarity and Nearest Neighbors (15 points)</li></a>\n",
    "    <a href=\"#section-taskB\"><li style=\"font-size:large;font-weight:bold\">Task B: Document Classification with Word Embedding (15 points)</li></a>\n",
    "    <a href=\"#section-taskC\"><li style=\"font-size:large;font-weight:bold\">Task C: Classification with sent2vec Document Embeddings (2 extra point)</li></a>\n",
    "    <a href=\"#section-references\"><li style=\"font-size:large;font-weight:bold\">References</li></a>\n",
    "    \n",
    "</ol>"
   ]
  },
  {
   "cell_type": "markdown",
   "metadata": {},
   "source": [
    "<a name=\"section-general-guidelines\"></a><h2 style=\"color:rgb(0,120,170)\">General Guidelines</h2>"
   ]
  },
  {
   "cell_type": "markdown",
   "metadata": {},
   "source": [
    "### Assignment objective\n",
    "The aim of this assignment is to get familiarized with using word embedding (WE) models in practice. The assignment in total has **30 points**; it also offers **2 extra points** which can cover any missing point.\n",
    "\n",
    "This Notebook encompasses all aspects of the assignment, namely the descriptions of tasks as well as your solutions and reports. Feel free to add any required cell for solutions. The cells can contain code, reports, charts, tables, or any other material, required for the assignment. Feel free to provide the solutions in an interactive and visual way! \n",
    "\n",
    "Please discuss any unclear point in the assignment in the provided forum in MOODLE. It is also encouraged to provide answers to your peer's questions. However when submitting a post, keep in mind to avoid providing solutions. Please let the tutor(s) know shall you find any error or unclarity in the assignment.\n"
   ]
  },
  {
   "cell_type": "markdown",
   "metadata": {},
   "source": [
    "### Libraries & Dataset\n",
    "\n",
    "The assignment should be implemented with recent versions of `Python` (>3.7). Any standard Python library can be used, so far that the library is free and can be simply installed using `pip` or `conda`. Examples of potentially useful libraries are `scikit-learn`, `numpy`, `scipy`, `gensim`, `nltk`, `spaCy`, and `AllenNLP`. Use the latest stable version of each library.\n",
    "\n",
    "To conduct the experiments, we use a subset of the `HumSet` dataset [1] (https://blog.thedeep.io/humset/). `HumSet` is created by the DEEP (https://www.thedeep.io) project – an open source platform which aims to facilitate processing of textual data for international humanitarian response organizations. The platform enables the classification of text excerpts, extracted from news and reports into a set of domain specific classes. The provided dataset contains the classes (labels) referring to the humanitarian sectors like agriculture, health, and protection. The dataset contains an overall number of 17,301 data points. \n",
    "\n",
    "Download the dataset from the Moodle page of the course.\n",
    "\n",
    "the provided zip file consists of the following files:\n",
    "- `thedeep.subset.train.txt`: Train set in csv format with three fields: sentence_id, text, and label.\n",
    "- `thedeep.subset.validation.txt`: Validation set in csv format with three fields: sentence_id, text, and label.\n",
    "- `thedeep.subset.test.txt`: Test set in csv format with three fields: sentence_id, text, and label.\n",
    "- `thedeep.subset.label.txt`: Captions of the labels.\n",
    "- `thedeep.ToU.txt`: Terms of use of the dataset.\n",
    "\n",
    "[1] HumSet: Dataset of Multilingual Information Extraction and Classification for Humanitarian Crises Response\n",
    "*Selim Fekih, Nicolo' Tamagnone, Benjamin Minixhofer, Ranjan Shrestha, Ximena Contla, Ewan Oglethorpe and Navid Rekabsaz.* \n",
    "In Findings of the 2022 Conference on Empirical Methods in Natural Language Processing (Findings of EMNLP), December 2022.\n"
   ]
  },
  {
   "cell_type": "markdown",
   "metadata": {},
   "source": [
    "\n",
    "### Submission\n",
    "\n",
    "Each group should submit the following two files:\n",
    "\n",
    "- One Jupyter Notebook file (`.ipynb`), containing all the code, results, visualizations, etc. **In the submitted Notebook, all the results and visualizations should already be present, and can be observed simply by loading the Notebook in a browser.** The Notebook must be self-contained, meaning that (if necessary) one can run all the cells from top to bottom without any error. Do not forget to put in your names and student numbers in the first cell of the Notebook. \n",
    "- The HTML file (`.html`) achieved from exporting the Jupyter Notebook to HTML (Download As HTML).\n",
    "\n",
    "You do not need to include the data files in the submission.\n"
   ]
  },
  {
   "cell_type": "markdown",
   "metadata": {},
   "source": [
    "<a name=\"section-taskA\"></a><h2 style=\"color:rgb(0,120,170)\">Task A: Words Similarity and Nearest Neighbors (15 points)</h2>"
   ]
  },
  {
   "cell_type": "markdown",
   "metadata": {},
   "source": [
    "\n",
    "**Loading a word embedding (WE) model (1 points).** Download a pre-trained word embedding model such as word2vec (https://code.google.com/archive/p/word2vec/) or GloVe (https://nlp.stanford.edu/projects/glove/). You can load the downloaded vectors into arrays, or use libraries such as `gensim` to download and process the vectors. \n",
    "\n",
    "**Calculating word-to-word similarities (4 points).** Select <ins>5 arbitrary words</ins> from 5 different topics like objects, science disciplines, verbs, adjectives, animals, etc. Let us refer to these words as *source words*. For each source word, calculate its cosine similarities to <ins>6 target words</ins>. The target words of each source word are also selected by you and should cover various levels of semantic relations – according to your linguistic judgement – to the source word, namely from highly-related to not related at all. Organize the target words in tables, such that the target words of each source word are sorted from the highest to the lowest relevance (according to your judgement). Consider the following points:\n",
    "\n",
    "- **Implementation (2/4 points):** Implement cosine similarity as a function that takes two vectors and returns the similarity score. Implement cosine by yourself and do NOT use the provided functionalities of any library.\n",
    "- **Reporting and observations (2/4 points):** Report the calculated similarities side by side with your word-to-word semantic relevance judgements in tables. Compare the results and report your observations.  \n",
    "\n",
    "**Calculating nearest neighbors (10 points).** For the 5 source words, retrieve the $k=10$ nearest neighbors using the word embedding model, namely the words with the highest similarities to the source word. Consider the following points: \n",
    "    \n",
    "- **Overall implementation (3/10 points):** your implemented function takes a source vector, a set of target vectors, and the $k$ parameter, and returns the $k$ nearest neighbors and their similarity scores. Implement nearest neighbor calculation by yourself and do NOT use the provided functionalities of any library.\n",
    "- **Similarity metrics (2/10 points):** execute the calculation of nearest neighbors according to <ins>two similarity metrics</ins> namely cosine and dot product.\n",
    "- **Efficiency (3/10 points):** your nearest neighbor functions should provide an *efficient* calculation of nearest neighbors. An inefficient way (which should be avoided!) would be looping over the set of vectors in the word embedding model, and one by one calculating the cosine/dot product similarity of the source vector to each of the target vectors. As a hint for an efficient way, consider that in `numpy` (and other libraries), calculating the dot product of a vector to a matrix is much faster than the dot products of the vector to each vector of the matrix.\n",
    "- **Reporting and observations (2/10 points):** report the results in tables, which enable comparing between the outputs of the two similarity metrics. Which similarity metric would you prefer? Report your observations.\n",
    "\n",
    "</div>"
   ]
  },
  {
   "cell_type": "code",
   "execution_count": 1,
   "metadata": {},
   "outputs": [
    {
     "name": "stdout",
     "output_type": "stream",
     "text": [
      "Vectorized model already is loaded\n"
     ]
    }
   ],
   "source": [
    "import numpy as np\n",
    "import os\n",
    "from gensim.scripts.glove2word2vec import glove2word2vec\n",
    "from gensim.models import KeyedVectors\n",
    "#DONWLOAD GLOVE  https://nlp.stanford.edu/data/glove.6B.zip\n",
    "#UNZIP glove.6B.50d.txt TO nlp2023_24_data FOLDER!\n",
    "#CHOSE WHITCH MODEL TO USE. DIFFERENCE IN DIMS (50 OR 200 DIMS) FOR EACH WORD\n",
    "# glove_model_200 = 'glove.6B.200d.txt' \n",
    "\n",
    "glove_model_50 = 'glove.6B.50d.txt' \n",
    "glove_model_output = 'glove.6B.50d.word2vec'\n",
    "\n",
    "glove_file = os.path.join('nlp2023_24_data',glove_model_50)\n",
    "output_path = os.path.join('nlp2023_24_data',glove_model_output)\n",
    "\n",
    "if glove_model_output not in os.listdir('nlp2023_24_data'):\n",
    "    glove2word2vec(glove_file, output_path)\n",
    "    print('Vectorized model loaded successfully')\n",
    "else:\n",
    "    print('Vectorized model already is loaded')\n",
    "\n",
    "model = KeyedVectors.load_word2vec_format(output_path, binary=False)"
   ]
  },
  {
   "cell_type": "markdown",
   "metadata": {},
   "source": [
    "<h2>Calculating word-to-word similarities</h2>"
   ]
  },
  {
   "cell_type": "code",
   "execution_count": 2,
   "metadata": {},
   "outputs": [
    {
     "name": "stdout",
     "output_type": "stream",
     "text": [
      "Source word = car\n",
      "\n",
      "| Our Judgement | Model Output | Match? |\n",
      "|---------------|--------------|--------|\n",
      "| truck         | truck        | Yes    |\n",
      "| engine        | engine       | Yes    |\n",
      "| highway       | highway      | Yes    |\n",
      "| city          | city         | Yes    |\n",
      "| apple         | apple        | Yes    |\n",
      "| philosophy    | philosophy   | Yes    |\n",
      "\n",
      "\n",
      "Source word = biology\n",
      "\n",
      "| Our Judgement | Model Output | Match? |\n",
      "|---------------|--------------|--------|\n",
      "| genetics      | genetics     | Yes    |\n",
      "| cell          | organism     | No     |\n",
      "| organism      | art          | No     |\n",
      "| planet        | cell         | No     |\n",
      "| music         | music        | Yes    |\n",
      "| art           | planet       | No     |\n",
      "\n",
      "\n",
      "Source word = run\n",
      "\n",
      "| Our Judgement | Model Output | Match? |\n",
      "|---------------|--------------|--------|\n",
      "| jog           | river        | No     |\n",
      "| sprint        | walk         | No     |\n",
      "| walk          | sprint       | No     |\n",
      "| river         | book         | No     |\n",
      "| book          | emotion      | No     |\n",
      "| emotion       | jog          | No     |\n",
      "\n",
      "\n",
      "Source word = beautiful\n",
      "\n",
      "| Our Judgement | Model Output | Match? |\n",
      "|---------------|--------------|--------|\n",
      "| gorgeous      | pretty       | No     |\n",
      "| pretty        | gorgeous     | No     |\n",
      "| plain         | mountain     | No     |\n",
      "| mountain      | plain        | No     |\n",
      "| computer      | computer     | Yes    |\n",
      "| economics     | economics    | Yes    |\n",
      "\n",
      "\n",
      "Source word = tiger\n",
      "\n",
      "| Our Judgement | Model Output | Match? |\n",
      "|---------------|--------------|--------|\n",
      "| lion          | leopard      | No     |\n",
      "| leopard       | forest       | No     |\n",
      "| forest        | lion         | No     |\n",
      "| ocean         | ocean        | Yes    |\n",
      "| clock         | clock        | Yes    |\n",
      "| mathematics   | mathematics  | Yes    |\n",
      "\n",
      "\n"
     ]
    }
   ],
   "source": [
    "#Define dictionary of words\n",
    "dictionary = {\n",
    "    \"car\": [\"truck\", \"engine\", \"highway\", \"city\", \"apple\", \"philosophy\"], \n",
    "    \"biology\": [\"genetics\", \"cell\", \"organism\", \"planet\", \"music\", \"art\"], \n",
    "    \"run\": [\"jog\", \"sprint\", \"walk\", \"river\", \"book\", \"emotion\"], \n",
    "    \"beautiful\": [\"gorgeous\", \"pretty\", \"plain\", \"mountain\", \"computer\", \"economics\"], \n",
    "    \"tiger\": [\"lion\", \"leopard\", \"forest\", \"ocean\", \"clock\", \"mathematics\"] \n",
    "}\n",
    "\n",
    "def cosine_similarity(vec1,vec2):\n",
    "    dot_prod = np.dot(vec1,vec2)\n",
    "    norm_vec1 = np.linalg.norm(vec1)\n",
    "    norm_vec2 = np.linalg.norm(vec2)\n",
    "    if norm_vec1 == 0 and norm_vec2 == 0:\n",
    "        return None #division by zero\n",
    "    return (dot_prod)/norm_vec1*norm_vec2\n",
    "\n",
    "#Calculate similarities within our dictionary\n",
    "def dict_similarity(dictionary):\n",
    "    similarities = dict()\n",
    "    for source_word, target_words in dictionary.items():\n",
    "        source_vector = model[source_word]\n",
    "        similarities[source_word] = {}\n",
    "        for word in target_words:\n",
    "            target_vector = model[word]\n",
    "            sim_score = cosine_similarity(source_vector,target_vector)\n",
    "            similarities[source_word][word] = sim_score\n",
    "    return similarities\n",
    "\n",
    "similarities = dict_similarity(dictionary=dictionary)\n",
    "\n",
    "def print_table(dictionary, similarities):\n",
    "    for source_word, sims in similarities.items():\n",
    "        sorted_keys = sorted(sims, key=sims.get, reverse=True)\n",
    "        print(f'Source word = {source_word}')\n",
    "        print(\"\\n| Our Judgement | Model Output | Match? |\")\n",
    "        print(\"|---------------|--------------|--------|\")\n",
    "        for our_word, model_word in zip(dictionary[source_word], sorted_keys):\n",
    "            match = \"Yes\" if our_word == model_word else \"No\"\n",
    "            print(f\"| {our_word:<13} | {model_word:<12} | {match:<6} |\")\n",
    "        print(\"\\n\")\n",
    "\n",
    "\n",
    "print_table(dictionary, similarities)"
   ]
  },
  {
   "cell_type": "markdown",
   "metadata": {},
   "source": [
    "<h3>\n",
    "Clearly,we see some contradictions on model output, that does not seems to be logic. For example, for word=run, the model does not perform well, and the result does not seem to be correct...\n",
    "For some words, it performs quite well. It might be the problem of the logic of our chosen words...\n",
    "</h3>"
   ]
  },
  {
   "cell_type": "markdown",
   "metadata": {},
   "source": [
    "<h1>Calculating nearest neighbors</h1>"
   ]
  },
  {
   "cell_type": "code",
   "execution_count": 6,
   "metadata": {},
   "outputs": [],
   "source": [
    "def cosine_similarity_vectorized(source_vector, all_vectors):\n",
    "    source_norm = np.linalg.norm(source_vector)\n",
    "    source_vector_normalized = source_vector / source_norm if source_norm != 0 else source_vector\n",
    "    norms = np.linalg.norm(all_vectors, axis=1)\n",
    "    all_vectors_normalized = all_vectors / norms[:, np.newaxis]\n",
    "    dot_products = np.dot(all_vectors_normalized, source_vector_normalized)\n",
    "    return dot_products\n",
    "\n",
    "def dot_product_vectorized(source_vector,all_vectors):\n",
    "    dot_prod = np.dot(source_vector[None,:],all_vectors.T)\n",
    "    return dot_prod[0]\n",
    "\n",
    "def knns_vectorized(source_vector, metric='', k=10):\n",
    "    all_vectors = np.stack(model.vectors)\n",
    "    if metric == 'Cos':\n",
    "        similarities = cosine_similarity_vectorized(source_vector,all_vectors)\n",
    "    elif metric == 'Dot':\n",
    "        similarities = dot_product_vectorized(source_vector,all_vectors)\n",
    "    else:\n",
    "        return None\n",
    "    top_k_indices = np.argsort(similarities)[::-1][1:k+1]\n",
    "    nearest_neighbors = [(model.index_to_key[i], similarities[i]) for i in top_k_indices]\n",
    "    return nearest_neighbors\n",
    "\n",
    "def find_NN(metric=''):\n",
    "    nearest_sims = dict()\n",
    "    for source_word in dictionary.keys():\n",
    "        if source_word in model:\n",
    "            src_vec = model[source_word]\n",
    "            neighbors = knns_vectorized(src_vec,metric,k=10)\n",
    "            nearest_sims[source_word] = neighbors\n",
    "\n",
    "                        # Print the table for each source word\n",
    "            print(f\"Source Word: {source_word} ({metric} Similarity)\")\n",
    "            print(\"| Rank | Word       | Similarity |\")\n",
    "            print(\"|------|------------|------------|\")\n",
    "            for rank, (word, similarity) in enumerate(neighbors, start=1):\n",
    "                print(f\"| {rank:<4} | {word:<10} | {similarity:.5f} |\")\n",
    "            print(\"\\n\")\n",
    "    \n",
    "    return nearest_sims\n",
    "\n",
    "\n"
   ]
  },
  {
   "cell_type": "code",
   "execution_count": 7,
   "metadata": {},
   "outputs": [
    {
     "name": "stdout",
     "output_type": "stream",
     "text": [
      "Source Word: car (Cos Similarity)\n",
      "| Rank | Word       | Similarity |\n",
      "|------|------------|------------|\n",
      "| 1    | truck      | 0.92086 |\n",
      "| 2    | cars       | 0.88702 |\n",
      "| 3    | vehicle    | 0.88337 |\n",
      "| 4    | driver     | 0.84640 |\n",
      "| 5    | driving    | 0.83842 |\n",
      "| 6    | bus        | 0.82105 |\n",
      "| 7    | vehicles   | 0.81750 |\n",
      "| 8    | parked     | 0.79022 |\n",
      "| 9    | motorcycle | 0.78665 |\n",
      "| 10   | taxi       | 0.78339 |\n",
      "\n",
      "\n",
      "Source Word: biology (Cos Similarity)\n",
      "| Rank | Word       | Similarity |\n",
      "|------|------------|------------|\n",
      "| 1    | genetics   | 0.87744 |\n",
      "| 2    | psychology | 0.86979 |\n",
      "| 3    | biochemistry | 0.86841 |\n",
      "| 4    | physiology | 0.84296 |\n",
      "| 5    | studies    | 0.83660 |\n",
      "| 6    | chemistry  | 0.83150 |\n",
      "| 7    | science    | 0.82758 |\n",
      "| 8    | neuroscience | 0.82517 |\n",
      "| 9    | physics    | 0.82419 |\n",
      "| 10   | anthropology | 0.82383 |\n",
      "\n",
      "\n",
      "Source Word: run (Cos Similarity)\n",
      "| Rank | Word       | Similarity |\n",
      "|------|------------|------------|\n",
      "| 1    | running    | 0.88026 |\n",
      "| 2    | runs       | 0.84517 |\n",
      "| 3    | went       | 0.84497 |\n",
      "| 4    | start      | 0.83516 |\n",
      "| 5    | ran        | 0.82897 |\n",
      "| 6    | out        | 0.81536 |\n",
      "| 7    | third      | 0.81013 |\n",
      "| 8    | home       | 0.80859 |\n",
      "| 9    | off        | 0.80303 |\n",
      "| 10   | got        | 0.80101 |\n",
      "\n",
      "\n",
      "Source Word: beautiful (Cos Similarity)\n",
      "| Rank | Word       | Similarity |\n",
      "|------|------------|------------|\n",
      "| 1    | lovely     | 0.92109 |\n",
      "| 2    | gorgeous   | 0.89349 |\n",
      "| 3    | wonderful  | 0.82964 |\n",
      "| 4    | charming   | 0.82492 |\n",
      "| 5    | beauty     | 0.80147 |\n",
      "| 6    | elegant    | 0.77442 |\n",
      "| 7    | looks      | 0.75818 |\n",
      "| 8    | love       | 0.73599 |\n",
      "| 9    | graceful   | 0.73502 |\n",
      "| 10   | magnificent | 0.73464 |\n",
      "\n",
      "\n",
      "Source Word: tiger (Cos Similarity)\n",
      "| Rank | Word       | Similarity |\n",
      "|------|------------|------------|\n",
      "| 1    | tigers     | 0.72392 |\n",
      "| 2    | woods      | 0.68527 |\n",
      "| 3    | warrior    | 0.68221 |\n",
      "| 4    | ltte       | 0.66646 |\n",
      "| 5    | wild       | 0.64957 |\n",
      "| 6    | elephant   | 0.64881 |\n",
      "| 7    | crocodile  | 0.64700 |\n",
      "| 8    | leopard    | 0.64595 |\n",
      "| 9    | eelam      | 0.64173 |\n",
      "| 10   | warriors   | 0.63969 |\n",
      "\n",
      "\n"
     ]
    }
   ],
   "source": [
    "cosine_nns = find_NN('Cos')\n",
    "# cosine_nns\n",
    "# dot_nns"
   ]
  },
  {
   "cell_type": "code",
   "execution_count": 8,
   "metadata": {},
   "outputs": [
    {
     "name": "stdout",
     "output_type": "stream",
     "text": [
      "Source Word: car (Dot Similarity)\n",
      "| Rank | Word       | Similarity |\n",
      "|------|------------|------------|\n",
      "| 1    | cars       | 30.95170 |\n",
      "| 2    | truck      | 30.05412 |\n",
      "| 3    | vehicles   | 27.85709 |\n",
      "| 4    | vehicle    | 27.46118 |\n",
      "| 5    | driver     | 27.45163 |\n",
      "| 6    | bus        | 26.14254 |\n",
      "| 7    | trucks     | 26.11950 |\n",
      "| 8    | passenger  | 24.76724 |\n",
      "| 9    | parked     | 24.73026 |\n",
      "| 10   | engine     | 24.13950 |\n",
      "\n",
      "\n",
      "Source Word: biology (Dot Similarity)\n",
      "| Rank | Word       | Similarity |\n",
      "|------|------------|------------|\n",
      "| 1    | physics    | 28.53918 |\n",
      "| 2    | psychology | 27.96035 |\n",
      "| 3    | molecular  | 27.87811 |\n",
      "| 4    | studies    | 27.71197 |\n",
      "| 5    | science    | 27.55225 |\n",
      "| 6    | biochemistry | 27.49306 |\n",
      "| 7    | research   | 27.19753 |\n",
      "| 8    | chemistry  | 26.59284 |\n",
      "| 9    | physiology | 26.42691 |\n",
      "| 10   | mathematics | 26.42495 |\n",
      "\n",
      "\n",
      "Source Word: run (Dot Similarity)\n",
      "| Rank | Word       | Similarity |\n",
      "|------|------------|------------|\n",
      "| 1    | -          | 21.73955 |\n",
      "| 2    | game       | 21.67716 |\n",
      "| 3    | off        | 21.57171 |\n",
      "| 4    | hit        | 21.35930 |\n",
      "| 5    | out        | 20.89102 |\n",
      "| 6    | games      | 20.79464 |\n",
      "| 7    | runs       | 20.52802 |\n",
      "| 8    | win        | 20.44484 |\n",
      "| 9    | start      | 20.26535 |\n",
      "| 10   | inning     | 20.19087 |\n",
      "\n",
      "\n",
      "Source Word: beautiful (Dot Similarity)\n",
      "| Rank | Word       | Similarity |\n",
      "|------|------------|------------|\n",
      "| 1    | lovely     | 21.25957 |\n",
      "| 2    | #e         | 20.99657 |\n",
      "| 3    | love       | 20.00384 |\n",
      "| 4    | pretty     | 19.72844 |\n",
      "| 5    | wonderful  | 19.70658 |\n",
      "| 6    | beauty     | 19.69096 |\n",
      "| 7    | elegant    | 19.56190 |\n",
      "| 8    | her        | 19.55746 |\n",
      "| 9    | very       | 19.40234 |\n",
      "| 10   | you        | 19.37244 |\n",
      "\n",
      "\n",
      "Source Word: tiger (Dot Similarity)\n",
      "| Rank | Word       | Similarity |\n",
      "|------|------------|------------|\n",
      "| 1    | europe/africa | 20.64619 |\n",
      "| 2    | eelam      | 19.06154 |\n",
      "| 3    | tigers     | 18.70269 |\n",
      "| 4    | ltte       | 18.50057 |\n",
      "| 5    | rebels     | 17.63918 |\n",
      "| 6    | fighters   | 16.98198 |\n",
      "| 7    | rebel      | 16.92301 |\n",
      "| 8    | woods      | 16.68111 |\n",
      "| 9    | killed     | 16.64600 |\n",
      "| 10   | guerrillas | 16.60710 |\n",
      "\n",
      "\n"
     ]
    }
   ],
   "source": [
    "dot_nns = find_NN('Dot')\n",
    "# dot_nns"
   ]
  },
  {
   "cell_type": "markdown",
   "metadata": {},
   "source": [
    "<h3>\n",
    "Judging by the results, they seem to be more less similar. But, cosine similarity seems better in this case... Dot product metric sometimes gives some unexpected words. Cosine metric seems to be better because of normalization.\n",
    "\n",
    "</h3>"
   ]
  },
  {
   "cell_type": "markdown",
   "metadata": {},
   "source": [
    "<a name=\"section-taskB\"></a><h2 style=\"color:rgb(0,120,170)\">Task B: Document Classification with WE (15 points)</h2>"
   ]
  },
  {
   "cell_type": "markdown",
   "metadata": {},
   "source": [
    "\n",
    "This task follows the same instruction for document classification as provided in Assignment 1. You are indeed free to reuse any part of your code in Assignment 1 for this task. In Assignment 1, the representation of each document was created using a bag of words representation followed by dimensionality reduction. In this task, the document representations are created from the pre-trained word embeddings.\n",
    "\n",
    "**Map word embeddings to dictionary words (5 points).** For every word in the dictionary (as discussed and created in Assignment 1), fetch the corresponding word embedding from the pre-trained model. If no embedding is found, initialize the corresponding word embedding randomly.\n",
    "\n",
    "**Document embedding as the average of word embeddings (5 points).** Using the word embeddings, the representation of each document is defined as the *mean of the vectors of each document's words*. In particular, given the document $d$, consisting of words $\\left[ v_1, v_2, ..., v_{|d|} \\right]$, the document representation $\\mathbf{e}_d$ is defined as:\n",
    "\n",
    "$\\mathbf{e}_d = \\frac{1}{|d|}\\sum_{i=1}^{|d|}{\\mathbf{e}_{v_i}}$\n",
    "\n",
    "where $\\mathbf{e}_{v}$ is the vector of the word $v$, and $|d|$ is the length of the document.\n",
    "\n",
    "**Classification and evaluation (5 points)** Using these new document representations, apply <ins>three classification algorithms</ins> and report the evaluation results (based on accuracy metric) on the test set.\n",
    "\n"
   ]
  },
  {
   "cell_type": "markdown",
   "metadata": {},
   "source": [
    "<h2>Map word embeddings to dictionary words<h2>"
   ]
  },
  {
   "cell_type": "markdown",
   "metadata": {},
   "source": [
    "<h3> Preprocessing and dictionary creation just like in assignment 1... <h3>"
   ]
  },
  {
   "cell_type": "code",
   "execution_count": 9,
   "metadata": {},
   "outputs": [
    {
     "name": "stderr",
     "output_type": "stream",
     "text": [
      "[nltk_data] Downloading package stopwords to\n",
      "[nltk_data]     /Users/nikita/nltk_data...\n",
      "[nltk_data]   Package stopwords is already up-to-date!\n",
      "[nltk_data] Downloading package punkt to /Users/nikita/nltk_data...\n",
      "[nltk_data]   Package punkt is already up-to-date!\n"
     ]
    }
   ],
   "source": [
    "import pandas as pd\n",
    "import numpy as np\n",
    "import nltk\n",
    "from nltk.corpus import stopwords\n",
    "from nltk.tokenize import RegexpTokenizer\n",
    "from nltk.tokenize import word_tokenize\n",
    "nltk.download('stopwords')\n",
    "nltk.download('punkt')\n",
    "stopwords = stopwords.words('english')\n",
    "\n",
    "test_path = \"nlp2023_24_data/thedeep.subset.test.txt\"\n",
    "train_path = \"nlp2023_24_data/thedeep.subset.train.txt\"\n",
    "valid_path = \"nlp2023_24_data/thedeep.subset.validation.txt\"\n",
    "labels = \"nlp2023_24_data/thedeep.labels.txt\"\n",
    "\n",
    "df_test = pd.read_csv(test_path, header=None, names=[\"ID\", \"Text\", \"Label\"], delimiter=\",\")\n",
    "df_train = pd.read_csv(train_path, header=None, names=[\"ID\", \"Text\", \"Label\"], delimiter=\",\")\n",
    "df_valid = pd.read_csv(valid_path, header=None, names=[\"ID\", \"Text\", \"Label\"], delimiter=\",\")\n",
    "labels = pd.read_csv(labels, header=None, names=[\"ID\", \"Label\"], delimiter=\",\")\n",
    "\n",
    "\n",
    "import re\n",
    "from nltk.stem.porter import *\n",
    "\n",
    "#Text preprocesssing performed. \n",
    "#Lower all the words in the sentence\n",
    "#Tokenize each word (sentence is represented as list of elements, where each element is a word)\n",
    "#Remove numbers \n",
    "#Remove stowpords, such as 'i'm' . Remove punctuation!\n",
    "#Use stemmer. attacks -> attack\n",
    "def preprocessing(df):\n",
    "    \"Takes unprocessed Dataframe and returns already modified dataframe.\"\n",
    "    df = df.copy()\n",
    "    for i,row in df.iterrows():\n",
    "        sentence = row['Text'].lower()\n",
    "        sentence = re.sub(r'\\d+','',sentence)\n",
    "        # sentence = sentence.split()\n",
    "        tokenizer = RegexpTokenizer(r'\\w+|<NUM>')\n",
    "        sentence = tokenizer.tokenize(sentence)\n",
    "        remove_stopw = [word for word in sentence if not word in stopwords]\n",
    "        #MAYBE TRY NOT TO STEMM THE WORDS...\n",
    "        # stemmer = PorterStemmer()\n",
    "        # stemmed_sentence = [stemmer.stem(word) for word in remove_stopw]\n",
    "        df.at[i, 'Text'] = remove_stopw\n",
    "    return df\n",
    "\n",
    "#PREPROCESS ALL THE DATASETS\n",
    "df_test_prepr = preprocessing(df_test)\n",
    "df_train_prepr = preprocessing(df_train)\n",
    "df_valid_prepr = preprocessing(df_valid)\n",
    "\n",
    "from collections import Counter\n",
    "\n",
    "\n",
    "def create_vocab_dict(preprocessed: pd.DataFrame = df_train_prepr,\n",
    "                      topN: int = 1000):\n",
    "\n",
    "    all_words = list([item for sublist in preprocessed['Text'] for item in sublist])\n",
    "\n",
    "    dictionary = pd.DataFrame.from_dict(Counter(all_words), orient='index').reset_index()\n",
    "    dict_full = dictionary.rename(columns={'index':'word', 0:'count'})\n",
    "    dict_full = dict_full.sort_values(by='count', ascending = False)\n",
    "    dict_cut = dict_full.head(topN)\n",
    "    \n",
    "    return dict_full, dict_cut\n",
    "\n",
    "dict_size = 1500\n",
    "\n",
    "\n",
    "dict_full, dict_cut = create_vocab_dict(topN=dict_size)"
   ]
  },
  {
   "cell_type": "code",
   "execution_count": 10,
   "metadata": {},
   "outputs": [
    {
     "name": "stdout",
     "output_type": "stream",
     "text": [
      "THIS WORD IS NOT IN THE MODEL monguno\n",
      "THIS WORD IS NOT IN THE MODEL tamazuj\n",
      "THIS WORD IS NOT IN THE MODEL dikwa\n",
      "THIS WORD IS NOT IN THE MODEL idleb\n",
      "THIS WORD IS NOT IN THE MODEL isil\n",
      "THIS WORD IS NOT IN THE MODEL dabanga\n",
      "THIS WORD IS NOT IN THE MODEL nfis\n"
     ]
    },
    {
     "data": {
      "text/html": [
       "<div>\n",
       "<style scoped>\n",
       "    .dataframe tbody tr th:only-of-type {\n",
       "        vertical-align: middle;\n",
       "    }\n",
       "\n",
       "    .dataframe tbody tr th {\n",
       "        vertical-align: top;\n",
       "    }\n",
       "\n",
       "    .dataframe thead th {\n",
       "        text-align: right;\n",
       "    }\n",
       "</style>\n",
       "<table border=\"1\" class=\"dataframe\">\n",
       "  <thead>\n",
       "    <tr style=\"text-align: right;\">\n",
       "      <th></th>\n",
       "      <th>word</th>\n",
       "      <th>count</th>\n",
       "      <th>embedding</th>\n",
       "    </tr>\n",
       "  </thead>\n",
       "  <tbody>\n",
       "    <tr>\n",
       "      <th>299</th>\n",
       "      <td>cases</td>\n",
       "      <td>4789</td>\n",
       "      <td>[1.0667, -0.58909, -0.1097, 0.24335, -0.12807,...</td>\n",
       "    </tr>\n",
       "    <tr>\n",
       "      <th>51</th>\n",
       "      <td>food</td>\n",
       "      <td>4256</td>\n",
       "      <td>[0.47222, -0.44545, -0.51833, -0.26818, 0.4442...</td>\n",
       "    </tr>\n",
       "    <tr>\n",
       "      <th>17</th>\n",
       "      <td>people</td>\n",
       "      <td>3896</td>\n",
       "      <td>[0.95281, -0.20608, 0.55618, -0.46323, 0.73354...</td>\n",
       "    </tr>\n",
       "    <tr>\n",
       "      <th>446</th>\n",
       "      <td>reported</td>\n",
       "      <td>3696</td>\n",
       "      <td>[0.59565, -0.2463, 0.74569, 0.57129, -0.33117,...</td>\n",
       "    </tr>\n",
       "    <tr>\n",
       "      <th>9</th>\n",
       "      <td>children</td>\n",
       "      <td>2975</td>\n",
       "      <td>[0.53888, 0.50514, -0.045316, -1.3606, 0.6785,...</td>\n",
       "    </tr>\n",
       "    <tr>\n",
       "      <th>...</th>\n",
       "      <td>...</td>\n",
       "      <td>...</td>\n",
       "      <td>...</td>\n",
       "    </tr>\n",
       "    <tr>\n",
       "      <th>1331</th>\n",
       "      <td>requirements</td>\n",
       "      <td>60</td>\n",
       "      <td>[-0.68259, 0.15116, -0.12156, -0.60237, -0.478...</td>\n",
       "    </tr>\n",
       "    <tr>\n",
       "      <th>4905</th>\n",
       "      <td>landmines</td>\n",
       "      <td>60</td>\n",
       "      <td>[0.086301, -0.68803, 0.68077, 0.062116, -0.725...</td>\n",
       "    </tr>\n",
       "    <tr>\n",
       "      <th>1155</th>\n",
       "      <td>illness</td>\n",
       "      <td>60</td>\n",
       "      <td>[1.3116, 0.5549, -0.40181, -0.36342, -0.65207,...</td>\n",
       "    </tr>\n",
       "    <tr>\n",
       "      <th>3462</th>\n",
       "      <td>yei</td>\n",
       "      <td>60</td>\n",
       "      <td>[0.80009, -0.23327, 0.023373, 0.017121, -0.545...</td>\n",
       "    </tr>\n",
       "    <tr>\n",
       "      <th>7247</th>\n",
       "      <td>bring</td>\n",
       "      <td>60</td>\n",
       "      <td>[0.36521, 0.22801, 0.19305, -0.29554, 0.36734,...</td>\n",
       "    </tr>\n",
       "  </tbody>\n",
       "</table>\n",
       "<p>1500 rows × 3 columns</p>\n",
       "</div>"
      ],
      "text/plain": [
       "              word  count                                          embedding\n",
       "299          cases   4789  [1.0667, -0.58909, -0.1097, 0.24335, -0.12807,...\n",
       "51            food   4256  [0.47222, -0.44545, -0.51833, -0.26818, 0.4442...\n",
       "17          people   3896  [0.95281, -0.20608, 0.55618, -0.46323, 0.73354...\n",
       "446       reported   3696  [0.59565, -0.2463, 0.74569, 0.57129, -0.33117,...\n",
       "9         children   2975  [0.53888, 0.50514, -0.045316, -1.3606, 0.6785,...\n",
       "...            ...    ...                                                ...\n",
       "1331  requirements     60  [-0.68259, 0.15116, -0.12156, -0.60237, -0.478...\n",
       "4905     landmines     60  [0.086301, -0.68803, 0.68077, 0.062116, -0.725...\n",
       "1155       illness     60  [1.3116, 0.5549, -0.40181, -0.36342, -0.65207,...\n",
       "3462           yei     60  [0.80009, -0.23327, 0.023373, 0.017121, -0.545...\n",
       "7247         bring     60  [0.36521, 0.22801, 0.19305, -0.29554, 0.36734,...\n",
       "\n",
       "[1500 rows x 3 columns]"
      ]
     },
     "execution_count": 10,
     "metadata": {},
     "output_type": "execute_result"
    }
   ],
   "source": [
    "# now fetching the embeddings for all the words in a dictionary\n",
    "\n",
    "def create_dict_embeddings(dictionary):\n",
    "    embeddings = []\n",
    "    key_errors = 0\n",
    "    for word in dictionary['word']:\n",
    "        try:\n",
    "            embeddings.append(model[word])\n",
    "        except KeyError:\n",
    "            print('THIS WORD IS NOT IN THE MODEL',word)\n",
    "            key_errors += 1\n",
    "            embeddings.append(np.random.rand(50, ))\n",
    "            \n",
    "    return embeddings, key_errors\n",
    "\n",
    "dict_cut_copy = dict_cut.copy()\n",
    "\n",
    "\n",
    "embeddings, key_errors = create_dict_embeddings(dict_cut_copy)\n",
    "\n",
    "\n",
    "dict_cut_copy['embedding'] = embeddings\n",
    "\n",
    "dict_cut_copy"
   ]
  },
  {
   "cell_type": "code",
   "execution_count": 11,
   "metadata": {},
   "outputs": [
    {
     "name": "stdout",
     "output_type": "stream",
     "text": [
      "There are 7 words that our model doesn't know, e.g number of randomly initialied embeddings\n"
     ]
    }
   ],
   "source": [
    "print(f\"There are {key_errors} words that our model doesn't know, e.g number of randomly initialied embeddings\")"
   ]
  },
  {
   "cell_type": "markdown",
   "metadata": {},
   "source": [
    "<h2>Document embedding as the average of word embeddings<h2>"
   ]
  },
  {
   "cell_type": "code",
   "execution_count": 12,
   "metadata": {},
   "outputs": [],
   "source": [
    "from tqdm import tqdm\n",
    "\n",
    "def create_document_embeddings(preprocessed_text: pd.DataFrame,\n",
    "                               dictionary: pd.DataFrame,\n",
    "                               vector_size):\n",
    "\n",
    "    word_to_embedding = {row['word']: row['embedding'] for index, row in dictionary.iterrows()}\n",
    "\n",
    "    def embed_sentence(sentence: list):\n",
    "        embeddings = [word_to_embedding[word] for word in sentence if word in word_to_embedding]\n",
    "        \n",
    "        #treating the edge case\n",
    "        if len(embeddings) == 0:\n",
    "            return np.zeros(vector_size)\n",
    "\n",
    "        embedding = np.mean(embeddings, axis=0)\n",
    "        return embedding\n",
    "\n",
    "    preprocessed_text['embedding'] = [embed_sentence(sentence) for sentence in preprocessed_text['Text']]\n",
    "    return preprocessed_text"
   ]
  },
  {
   "cell_type": "code",
   "execution_count": 13,
   "metadata": {},
   "outputs": [],
   "source": [
    "X_train = create_document_embeddings(df_train_prepr, dict_cut_copy, 50)['embedding'].to_list()\n",
    "y_train = df_train_prepr['Label']\n",
    "\n",
    "X_test = create_document_embeddings(df_test_prepr, dict_cut_copy, 50)['embedding'].to_list()\n",
    "y_test = df_test_prepr['Label']\n",
    "\n",
    "X_val = create_document_embeddings(df_valid_prepr, dict_cut_copy, 50)['embedding'].to_list()\n",
    "y_val = df_valid_prepr['Label']"
   ]
  },
  {
   "cell_type": "markdown",
   "metadata": {},
   "source": [
    "<h2>Classification and evaluation<h2>"
   ]
  },
  {
   "cell_type": "markdown",
   "metadata": {},
   "source": [
    "<h3>Neural Net<h3>"
   ]
  },
  {
   "cell_type": "code",
   "execution_count": 14,
   "metadata": {},
   "outputs": [],
   "source": [
    "import torch\n",
    "from torch import nn\n",
    "from torch.utils.data import DataLoader, Dataset\n",
    "import torch.nn.functional as F\n",
    "device = 'cuda:0' if torch.cuda.is_available() else 'cpu'\n",
    "import matplotlib.pyplot as plt\n",
    "# torch.set_default_device(device)\n",
    "# torch.set_default_dtype(torch.float32)\n"
   ]
  },
  {
   "cell_type": "code",
   "execution_count": 15,
   "metadata": {},
   "outputs": [],
   "source": [
    "class SimpleNetwork(nn.Module):\n",
    "    def __init__(self, feature_dim, hidden_dim, output_dim, dropout_prob = 0.2):\n",
    "        super().__init__()\n",
    "        \n",
    "        \"Only 1 hidden layer, we don't need a complex model\"\n",
    "        \n",
    "        self.layer1 = nn.Sequential(\n",
    "            nn.Linear(feature_dim, hidden_dim),\n",
    "            nn.BatchNorm1d(hidden_dim),\n",
    "            nn.ReLU(),\n",
    "            nn.Dropout(dropout_prob)).to(device)\n",
    "\n",
    "        \n",
    "        self.classifier = nn.Linear(hidden_dim, output_dim).to(device)\n",
    "        \n",
    "    def forward(self,x):\n",
    "        return self.classifier(self.layer1(x))\n",
    "\n"
   ]
  },
  {
   "cell_type": "code",
   "execution_count": 16,
   "metadata": {},
   "outputs": [],
   "source": [
    "class WordDataset(Dataset):\n",
    "    def __init__(self, feature_set, labels):\n",
    "        \"Define data split and corresponding labels\"\n",
    "        self.feature_set = torch.tensor(feature_set, dtype=torch.float32)\n",
    "        self.labels = torch.tensor(labels, dtype=torch.long)\n",
    "        \n",
    "    def __len__(self):\n",
    "        return len(self.labels)\n",
    "    \n",
    "    def __getitem__(self, index):\n",
    "        return self.feature_set[index], self.labels[index]"
   ]
  },
  {
   "cell_type": "code",
   "execution_count": 17,
   "metadata": {},
   "outputs": [],
   "source": [
    "from tqdm.auto import tqdm\n",
    "from pathlib import Path\n",
    "def train_step(model: nn.Module,\n",
    "               dataloader: torch.utils.data.DataLoader,\n",
    "               loss_fn: torch.nn.modules.loss,\n",
    "               optimizer: torch.optim):\n",
    "    \n",
    "    train_loss, train_acc = 0, 0\n",
    "    \n",
    "    model.train()\n",
    "    model.to(device)\n",
    "    for batch, (X,y) in enumerate(dataloader):\n",
    "        X, y = X.to(device), y.to(device)\n",
    "        y_pred = model(X).to(device)\n",
    "        loss = loss_fn(y_pred, y)\n",
    "        loss.backward()\n",
    "        optimizer.step()\n",
    "        optimizer.zero_grad()\n",
    "        \n",
    "        y_class = torch.argmax(torch.softmax(y_pred, dim=1), dim=1)\n",
    "        acc = torch.eq(y_class, y).sum().item() / len(y_pred)\n",
    "        \n",
    "        train_loss += loss.item()\n",
    "        train_acc += acc\n",
    "    \n",
    "    train_loss /= len(dataloader)\n",
    "    train_acc /= len(dataloader)\n",
    "    \n",
    "    return train_loss, train_acc\n",
    "    \n",
    "    \n",
    "    \n",
    "def valid_step(model: nn. Module,\n",
    "              dataloader: torch.utils.data.DataLoader,\n",
    "              loss_fn : nn.Module):\n",
    "\n",
    "    model.eval()\n",
    "    model.to(device)\n",
    "    valid_loss, valid_acc = 0, 0\n",
    "    with torch.inference_mode():\n",
    "        for batch, (X, y) in enumerate(dataloader):\n",
    "            X, y = X.to(device), y.to(device)\n",
    "            y_pred = model(X).to(device)\n",
    "            loss = loss_fn(y_pred, y)\n",
    "            y_class = torch.argmax(torch.softmax(y_pred, dim=1), dim=1)\n",
    "            valid_loss += loss.item()\n",
    "            valid_acc += torch.eq(y_class, y).sum().item() / len(y_pred)\n",
    "\n",
    "    valid_loss /= len(dataloader)\n",
    "    valid_acc /= len(dataloader)\n",
    "\n",
    "    return valid_loss, valid_acc\n",
    "\n",
    "def train_validate_save(\n",
    "          res_dict_save: dict,\n",
    "          model: nn.Module,\n",
    "          train_loader: torch.utils.data.DataLoader,\n",
    "          val_loader: torch.utils.data.DataLoader,\n",
    "          optimizer: torch.optim,\n",
    "          loss_fn: nn.Module,\n",
    "          model_name: str,\n",
    "          epochs = 10,\n",
    "          save = True,\n",
    "          stats_show = True):\n",
    "\n",
    "    results = dict(train_loss=[], train_acc=[], valid_loss=[], valid_acc=[])\n",
    "\n",
    "    for epoch in tqdm(range(epochs)):\n",
    "        train_loss, train_acc = train_step(model=model.to(device),\n",
    "                                           dataloader=train_loader,\n",
    "                                           optimizer=optimizer,\n",
    "                                           loss_fn=loss_fn)\n",
    "\n",
    "        \n",
    "        val_loss, val_acc = valid_step(model=model.to(device),\n",
    "                                       dataloader=val_loader,\n",
    "                                      loss_fn=loss_fn)\n",
    "        \n",
    "        \n",
    "        if epoch % 5 == 0:\n",
    "            print(f\"Epoch: {epoch+5} | Train loss: {train_loss:.4f} | Train acc: {train_acc:.4f} | Validation loss: {val_loss:.4f} | Validation acc: {val_acc:.4f}\")\n",
    "        results['train_loss'].append(train_loss)\n",
    "        results['train_acc'].append(train_acc)\n",
    "        results['valid_loss'].append(val_loss)\n",
    "        results['valid_acc'].append(val_acc)\n",
    "\n",
    "    print(\"=\"*20)\n",
    "    \n",
    "    final_train_acc = results['train_acc'][-1]\n",
    "    print(f\"Final Train Accuracy: {final_train_acc:.4f}\") \n",
    "    final_val_acc = results['valid_acc'][-1]\n",
    "    print(f\"Final Validation Accuracy: {final_val_acc:.4f}\")\n",
    "    res_dict_save['NN'] = [final_train_acc,final_val_acc]\n",
    "    print(\"=\"*20)\n",
    "    \n",
    "    if save:\n",
    "        \n",
    "        path = Path('torch_models')\n",
    "        path.mkdir(exist_ok = True)\n",
    "\n",
    "        torch.save(model.state_dict(), f'torch_models/{model_name}({epochs}_epochs).pth')\n",
    "        \n",
    "\n",
    "    plt.figure(figsize=(15, 7))\n",
    "\n",
    "    epochs = np.arange(epochs)\n",
    "    plt.subplot(1, 2, 1)\n",
    "    plt.plot(epochs, results[\"train_loss\"], label = 'train loss')\n",
    "    plt.plot(epochs, results[\"valid_loss\"], label = 'valid_loss')\n",
    "    plt.title(f'Loss-{model_name}')\n",
    "\n",
    "    plt.legend()\n",
    "\n",
    "    plt.subplot(1, 2, 2)\n",
    "\n",
    "    plt.plot(epochs, results[\"train_acc\"], label='train accuracy')\n",
    "    plt.plot(epochs, results[\"valid_acc\"], label='validation accuracy')\n",
    "    plt.title(f'Accuracy-{model_name}')\n",
    "\n",
    "    plt.legend()\n",
    "\n",
    "    plt.suptitle(f'{model_name} curves')\n",
    "    \n",
    "    plt.savefig(f'torch_models/{model_name}_train_stats')\n",
    "    \n",
    "    if not stats_show:\n",
    "\n",
    "        plt.close()\n",
    "    \n",
    "    return model\n"
   ]
  },
  {
   "cell_type": "code",
   "execution_count": 18,
   "metadata": {},
   "outputs": [],
   "source": [
    "def get_loaded_model(model: nn.Module,\n",
    "                     state_dict_path: str):\n",
    "    \n",
    "    \"Upload saved state_dict(parameters) to previously defined torch model\"\n",
    "    \n",
    "    state_dict = torch.load(state_dict_path)\n",
    "    model.load_state_dict(state_dict)\n",
    "    return model\n",
    "\n",
    "\n",
    "def predict_sentence(model, feature):\n",
    "    feature = np.array(feature)\n",
    "    feature = torch.tensor(feature, dtype=torch.float32).unsqueeze(0)\n",
    "    with torch.no_grad():\n",
    "        pred = model(feature)\n",
    "        pred = F.softmax(pred, dim=1)\n",
    "        pred = torch.argmax(pred, dim=1)\n",
    "    return pred.item()"
   ]
  },
  {
   "cell_type": "code",
   "execution_count": 19,
   "metadata": {},
   "outputs": [
    {
     "name": "stderr",
     "output_type": "stream",
     "text": [
      "/var/folders/kh/g4116db97yzdbzhf4r7ykf580000gn/T/ipykernel_1882/4204818741.py:4: UserWarning: Creating a tensor from a list of numpy.ndarrays is extremely slow. Please consider converting the list to a single numpy.ndarray with numpy.array() before converting to a tensor. (Triggered internally at /Users/runner/work/pytorch/pytorch/pytorch/torch/csrc/utils/tensor_new.cpp:264.)\n",
      "  self.feature_set = torch.tensor(feature_set, dtype=torch.float32)\n"
     ]
    }
   ],
   "source": [
    "train_data = WordDataset(feature_set=X_train,  \n",
    "                               labels=y_train)\n",
    "\n",
    "valid_data = WordDataset(feature_set=X_val,  \n",
    "                               labels=y_val)\n",
    "\n",
    "\n",
    "train_loader = DataLoader(dataset=train_data,\n",
    "                                batch_size=32,\n",
    "                                shuffle=True)\n",
    "\n",
    "valid_loader = DataLoader(dataset=valid_data,\n",
    "                                batch_size=32,\n",
    "                                shuffle=False)\n"
   ]
  },
  {
   "cell_type": "code",
   "execution_count": 20,
   "metadata": {},
   "outputs": [],
   "source": [
    "nn_model = SimpleNetwork(feature_dim = 50,\n",
    "                         hidden_dim = 100,\n",
    "                         output_dim = len(labels)).to(device)\n",
    "\n",
    "optimizer = torch.optim.Adam(params = nn_model.parameters())\n",
    "\n",
    "\n",
    "loss_fn = nn.CrossEntropyLoss()"
   ]
  },
  {
   "cell_type": "code",
   "execution_count": 21,
   "metadata": {},
   "outputs": [
    {
     "data": {
      "application/vnd.jupyter.widget-view+json": {
       "model_id": "2882487eb5d945deb1f0d247bbb4495a",
       "version_major": 2,
       "version_minor": 0
      },
      "text/plain": [
       "  0%|          | 0/100 [00:00<?, ?it/s]"
      ]
     },
     "metadata": {},
     "output_type": "display_data"
    },
    {
     "name": "stdout",
     "output_type": "stream",
     "text": [
      "Epoch: 5 | Train loss: 1.2944 | Train acc: 0.6310 | Validation loss: 0.9630 | Validation acc: 0.7195\n",
      "Epoch: 10 | Train loss: 0.8941 | Train acc: 0.7373 | Validation loss: 0.8506 | Validation acc: 0.7504\n",
      "Epoch: 15 | Train loss: 0.8599 | Train acc: 0.7436 | Validation loss: 0.8261 | Validation acc: 0.7626\n",
      "Epoch: 20 | Train loss: 0.8378 | Train acc: 0.7473 | Validation loss: 0.8307 | Validation acc: 0.7572\n",
      "Epoch: 25 | Train loss: 0.8239 | Train acc: 0.7562 | Validation loss: 0.8233 | Validation acc: 0.7664\n",
      "Epoch: 30 | Train loss: 0.7999 | Train acc: 0.7597 | Validation loss: 0.8179 | Validation acc: 0.7671\n",
      "Epoch: 35 | Train loss: 0.7966 | Train acc: 0.7628 | Validation loss: 0.8304 | Validation acc: 0.7626\n",
      "Epoch: 40 | Train loss: 0.7821 | Train acc: 0.7622 | Validation loss: 0.8284 | Validation acc: 0.7614\n",
      "Epoch: 45 | Train loss: 0.7738 | Train acc: 0.7664 | Validation loss: 0.8343 | Validation acc: 0.7626\n",
      "Epoch: 50 | Train loss: 0.7708 | Train acc: 0.7660 | Validation loss: 0.8361 | Validation acc: 0.7630\n",
      "Epoch: 55 | Train loss: 0.7720 | Train acc: 0.7659 | Validation loss: 0.8360 | Validation acc: 0.7691\n",
      "Epoch: 60 | Train loss: 0.7540 | Train acc: 0.7696 | Validation loss: 0.8424 | Validation acc: 0.7710\n",
      "Epoch: 65 | Train loss: 0.7517 | Train acc: 0.7715 | Validation loss: 0.8432 | Validation acc: 0.7622\n",
      "Epoch: 70 | Train loss: 0.7490 | Train acc: 0.7725 | Validation loss: 0.8444 | Validation acc: 0.7633\n",
      "Epoch: 75 | Train loss: 0.7553 | Train acc: 0.7713 | Validation loss: 0.8470 | Validation acc: 0.7630\n",
      "Epoch: 80 | Train loss: 0.7435 | Train acc: 0.7753 | Validation loss: 0.8431 | Validation acc: 0.7660\n",
      "Epoch: 85 | Train loss: 0.7448 | Train acc: 0.7745 | Validation loss: 0.8611 | Validation acc: 0.7576\n",
      "Epoch: 90 | Train loss: 0.7375 | Train acc: 0.7751 | Validation loss: 0.8685 | Validation acc: 0.7611\n",
      "Epoch: 95 | Train loss: 0.7337 | Train acc: 0.7738 | Validation loss: 0.8620 | Validation acc: 0.7595\n",
      "Epoch: 100 | Train loss: 0.7340 | Train acc: 0.7775 | Validation loss: 0.8605 | Validation acc: 0.7607\n",
      "====================\n",
      "Final Train Accuracy: 0.7743\n",
      "Final Validation Accuracy: 0.7633\n",
      "====================\n"
     ]
    },
    {
     "data": {
      "text/plain": [
       "SimpleNetwork(\n",
       "  (layer1): Sequential(\n",
       "    (0): Linear(in_features=50, out_features=100, bias=True)\n",
       "    (1): BatchNorm1d(100, eps=1e-05, momentum=0.1, affine=True, track_running_stats=True)\n",
       "    (2): ReLU()\n",
       "    (3): Dropout(p=0.2, inplace=False)\n",
       "  )\n",
       "  (classifier): Linear(in_features=100, out_features=12, bias=True)\n",
       ")"
      ]
     },
     "execution_count": 21,
     "metadata": {},
     "output_type": "execute_result"
    },
    {
     "data": {
      "image/png": "[encoded data removed]",
      "text/plain": [
       "<Figure size 1080x504 with 2 Axes>"
      ]
     },
     "metadata": {
      "needs_background": "light"
     },
     "output_type": "display_data"
    }
   ],
   "source": [
    "result_embed = {\n",
    "    \"SVM\":[],\n",
    "    \"NN\":[],\n",
    "    \"Grad.Boost clsf\":[]\n",
    "}\n",
    "\n",
    "train_validate_save(result_embed, nn_model, train_loader, valid_loader, optimizer,\n",
    "                   loss_fn, 'nn_embedding',\n",
    "                   epochs = 100)"
   ]
  },
  {
   "cell_type": "code",
   "execution_count": 22,
   "metadata": {},
   "outputs": [
    {
     "name": "stdout",
     "output_type": "stream",
     "text": [
      "Fitting 5 folds for each of 6 candidates, totalling 30 fits\n",
      "[CV 1/5] END learning_rate=0.1, n_estimators=100;, score=0.540 total time=   8.0s\n",
      "[CV 2/5] END learning_rate=0.1, n_estimators=100;, score=0.620 total time=   7.6s\n",
      "[CV 3/5] END learning_rate=0.1, n_estimators=100;, score=0.580 total time=   6.6s\n",
      "[CV 4/5] END learning_rate=0.1, n_estimators=100;, score=0.560 total time=   6.6s\n",
      "[CV 5/5] END learning_rate=0.1, n_estimators=100;, score=0.590 total time=   7.1s\n",
      "[CV 1/5] END learning_rate=0.1, n_estimators=120;, score=0.550 total time=   9.8s\n",
      "[CV 2/5] END learning_rate=0.1, n_estimators=120;, score=0.620 total time=   8.8s\n",
      "[CV 3/5] END learning_rate=0.1, n_estimators=120;, score=0.590 total time=   9.0s\n",
      "[CV 4/5] END learning_rate=0.1, n_estimators=120;, score=0.590 total time=   9.4s\n",
      "[CV 5/5] END learning_rate=0.1, n_estimators=120;, score=0.640 total time=   8.8s\n",
      "[CV 1/5] END learning_rate=0.1, n_estimators=140;, score=0.570 total time=  10.7s\n",
      "[CV 2/5] END learning_rate=0.1, n_estimators=140;, score=0.620 total time=  11.0s\n",
      "[CV 3/5] END learning_rate=0.1, n_estimators=140;, score=0.590 total time=  10.5s\n",
      "[CV 4/5] END learning_rate=0.1, n_estimators=140;, score=0.560 total time=  10.1s\n",
      "[CV 5/5] END learning_rate=0.1, n_estimators=140;, score=0.630 total time=  10.0s\n",
      "[CV 1/5] END learning_rate=0.001, n_estimators=100;, score=0.360 total time=   7.0s\n",
      "[CV 2/5] END learning_rate=0.001, n_estimators=100;, score=0.370 total time=   6.9s\n",
      "[CV 3/5] END learning_rate=0.001, n_estimators=100;, score=0.370 total time=   6.9s\n",
      "[CV 4/5] END learning_rate=0.001, n_estimators=100;, score=0.330 total time=   7.0s\n",
      "[CV 5/5] END learning_rate=0.001, n_estimators=100;, score=0.490 total time=   7.0s\n",
      "[CV 1/5] END learning_rate=0.001, n_estimators=120;, score=0.400 total time=   9.1s\n",
      "[CV 2/5] END learning_rate=0.001, n_estimators=120;, score=0.370 total time=   9.6s\n",
      "[CV 3/5] END learning_rate=0.001, n_estimators=120;, score=0.380 total time=   8.9s\n",
      "[CV 4/5] END learning_rate=0.001, n_estimators=120;, score=0.340 total time=   9.4s\n",
      "[CV 5/5] END learning_rate=0.001, n_estimators=120;, score=0.500 total time=   8.3s\n",
      "[CV 1/5] END learning_rate=0.001, n_estimators=140;, score=0.380 total time=   9.6s\n",
      "[CV 2/5] END learning_rate=0.001, n_estimators=140;, score=0.380 total time=  10.0s\n",
      "[CV 3/5] END learning_rate=0.001, n_estimators=140;, score=0.440 total time=  10.6s\n",
      "[CV 4/5] END learning_rate=0.001, n_estimators=140;, score=0.340 total time=  10.0s\n",
      "[CV 5/5] END learning_rate=0.001, n_estimators=140;, score=0.500 total time=  10.8s\n",
      "Best parameters {'learning_rate': 0.1, 'n_estimators': 120}\n"
     ]
    },
    {
     "data": {
      "text/plain": [
       "{'learning_rate': 0.1, 'n_estimators': 120}"
      ]
     },
     "execution_count": 22,
     "metadata": {},
     "output_type": "execute_result"
    }
   ],
   "source": [
    "from sklearn.model_selection import GridSearchCV\n",
    "from sklearn.naive_bayes import GaussianNB,MultinomialNB\n",
    "from sklearn.metrics import make_scorer, f1_score\n",
    "from sklearn import svm\n",
    "from sklearn.metrics import (\n",
    "    accuracy_score,\n",
    "    confusion_matrix,\n",
    "    ConfusionMatrixDisplay,\n",
    "    f1_score,\n",
    ")\n",
    "from sklearn.ensemble import GradientBoostingClassifier\n",
    "param_grid_NB = {\n",
    "    'alpha': [0.0, 0.8, 0.9, 1.0,1.5,2.0],\n",
    "    'fit_prior': [True, False],\n",
    "    'class_prior': [None, [0.1]*12, [0.2]*12,[0.5]*12] #12 classes\n",
    "}\n",
    "\n",
    "param_grid_SVM = {\n",
    "    'kernel':['rbf'],\n",
    "    'C':[0.01,1,10,100],\n",
    "    'gamma':[0.001,0.01,0.1]\n",
    "}\n",
    "\n",
    "param_grid_xgboost = {\n",
    "    'learning_rate':[0.1,0.001],\n",
    "    'n_estimators':[100,120,140],\n",
    "}\n",
    "\n",
    "y_train = df_train_prepr['Label'].to_numpy()\n",
    "y_test = df_test_prepr['Label'].to_numpy()\n",
    "y_val = df_valid_prepr['Label'].to_numpy()\n",
    "\n",
    "classifier_svm = svm.SVC()\n",
    "classifier_nb= MultinomialNB()\n",
    "classifier_xg = GradientBoostingClassifier()\n",
    "\n",
    "def model_tuning(X_train,y_train,classifier,params):\n",
    "    acc_scorer = make_scorer(accuracy_score)\n",
    "    grid_search = GridSearchCV(classifier, params, scoring=acc_scorer, cv=5,verbose=5)\n",
    "    grid_search.fit(X_train, y_train)\n",
    "    best_params = grid_search.best_params_\n",
    "    print('Best parameters', best_params)\n",
    "    return best_params\n",
    "\n",
    "# model_tuning(X_train[:500],y_train[:500],classifier_svm,param_grid_SVM)\n",
    "model_tuning(X_train[:500],y_train[:500],classifier_xg,param_grid_xgboost)\n"
   ]
  },
  {
   "cell_type": "markdown",
   "metadata": {},
   "source": [
    "<h1>Training  SVM and GradientBoostingClassifier</h1>"
   ]
  },
  {
   "cell_type": "code",
   "execution_count": 23,
   "metadata": {},
   "outputs": [
    {
     "name": "stdout",
     "output_type": "stream",
     "text": [
      "Test Set Evaluation:\n",
      "Accuracy: 0.7591522157996147\n",
      "F1 Score: 0.7727804566033682\n",
      "\n",
      "Validation Set Evaluation:\n",
      "Accuracy: 0.762326656394453\n",
      "F1 Score: 0.7768638756818919\n",
      "Test Set Evaluation:\n",
      "Accuracy: 0.7225433526011561\n",
      "F1 Score: 0.7411452087452248\n",
      "\n",
      "Validation Set Evaluation:\n",
      "Accuracy: 0.7122496147919877\n",
      "F1 Score: 0.7326274012534666\n"
     ]
    }
   ],
   "source": [
    "from sklearn.naive_bayes import GaussianNB,MultinomialNB\n",
    "from sklearn.metrics import (\n",
    "    accuracy_score,\n",
    "    confusion_matrix,\n",
    "    ConfusionMatrixDisplay,\n",
    "    f1_score,\n",
    ")\n",
    "import joblib\n",
    "from sklearn import svm\n",
    "from sklearn import tree\n",
    "from sklearn.ensemble import RandomForestClassifier\n",
    "from sklearn.ensemble import GradientBoostingClassifier\n",
    "y_train = df_train_prepr['Label'].to_numpy()\n",
    "y_test = df_test_prepr['Label'].to_numpy()\n",
    "y_val = df_valid_prepr['Label'].to_numpy()\n",
    "\n",
    "def train_classifier(classifier,X_train,y_train,X_test,y_test,X_val,y_val,model_filename='default.pkl',save=False):\n",
    "    classifier.fit(X_train, y_train)\n",
    "    y_pred_test = classifier.predict(X_test)\n",
    "    # TEST PREDICT\n",
    "    acc_test = accuracy_score(y_pred_test, y_test)\n",
    "    f1_test = f1_score(y_pred_test, y_test, average=\"weighted\")\n",
    "    print(\"Test Set Evaluation:\")\n",
    "    print(\"Accuracy:\", acc_test)\n",
    "    print(\"F1 Score:\", f1_test)\n",
    "    \n",
    "    # VAL PREDICT\n",
    "    y_pred_val = classifier.predict(X_val)\n",
    "    acc_val = accuracy_score(y_pred_val, y_val)\n",
    "    f1_val = f1_score(y_pred_val, y_val, average=\"weighted\")\n",
    "    print(\"\\nValidation Set Evaluation:\")\n",
    "    print(\"Accuracy:\", acc_val)\n",
    "    print(\"F1 Score:\", f1_val)\n",
    "    \n",
    "    if save:\n",
    "        joblib.dump(classifier, model_filename)\n",
    "        print(f\"\\nModel saved to {model_filename}\")\n",
    "    return acc_test,acc_val\n",
    "\n",
    "\n",
    "classifier = svm.SVC(C=10,gamma=0.1,kernel=\"rbf\")\n",
    "result_embed[\"SVM\"] = list(train_classifier(classifier,X_train,y_train,X_test,y_test,X_val,y_val))\n",
    "\n",
    "\n",
    "dt_classifier = GradientBoostingClassifier(learning_rate=0.1, n_estimators=120)\n",
    "result_embed[\"Grad.Boost clsf\"] = list(train_classifier(dt_classifier,X_train,y_train,X_test,y_test,X_val,y_val))\n",
    "\n"
   ]
  },
  {
   "cell_type": "code",
   "execution_count": 25,
   "metadata": {},
   "outputs": [
    {
     "data": {
      "text/plain": [
       "<matplotlib.legend.Legend at 0x7ff55b4dabe0>"
      ]
     },
     "execution_count": 25,
     "metadata": {},
     "output_type": "execute_result"
    },
    {
     "data": {
      "image/png": "[encoded data removed]",
      "text/plain": [
       "<Figure size 720x432 with 1 Axes>"
      ]
     },
     "metadata": {
      "needs_background": "light"
     },
     "output_type": "display_data"
    }
   ],
   "source": [
    "fig, ax = plt.subplots(figsize=(10, 6))\n",
    "\n",
    "for key, value in result_embed.items():\n",
    "    label = f\"{key}  - Test: {value[0]:.4f}, Validation: {value[1]:.4f}\"\n",
    "    ax.plot(['Test Set', 'Validation set'], value, label=label, marker='o')\n",
    "\n",
    "\n",
    "ax.set_title('SVM, Grad.Boost, and NN models performance plot')\n",
    "ax.set_ylabel('Accuracy')\n",
    "ax.set_xlabel('Dataset')\n",
    "ax.set_ylim(0, 1)\n",
    "ax.legend()\n"
   ]
  },
  {
   "cell_type": "code",
   "execution_count": 26,
   "metadata": {},
   "outputs": [
    {
     "data": {
      "text/plain": [
       "{'SVM': [0.7591522157996147, 0.762326656394453],\n",
       " 'NN': [0.7742767621560497, 0.7633384146341463],\n",
       " 'Grad.Boost clsf': [0.7225433526011561, 0.7122496147919877]}"
      ]
     },
     "execution_count": 26,
     "metadata": {},
     "output_type": "execute_result"
    }
   ],
   "source": [
    "result_embed"
   ]
  },
  {
   "cell_type": "markdown",
   "metadata": {},
   "source": [
    "<h3>By our final results, we see, that for now we cannot really achieve better accuracy than around 78% (for Neural Net). <br/>\n",
    "But, the results were worse, when we used the Stemmer as one of our preprocessing tecniques! <br/>\n",
    "We then decided not to stem the words, as it leads to a problem, that around 40% of our words in dictionary were not found in the pretrained model (as the model contains full,non-stemmed words). This gained us some slight performance (+10%)<br/>\n",
    "As a future improvement, maybe we can choose more advanced pretrained embedding model.(?) Or some specific preprocessing for that?\n",
    " </h3>"
   ]
  },
  {
   "cell_type": "markdown",
   "metadata": {},
   "source": [
    "<a name=\"section-taskC\"></a><h2 style=\"color:rgb(0,120,170)\">Task C: Classification with sent2vec Document Embeddings (2 extra point)</h2>"
   ]
  },
  {
   "cell_type": "markdown",
   "metadata": {},
   "source": [
    "\n",
    "Sent2vec [1] suggests another unsupervised approach to creating document embeddings from the underlying word embeddings. First, using the provided code in the paper, train a sendtvec model on the training set to create document embeddings. Then, repeat Task B while using the document embeddings provided by sent2vec. Similar to Task 2, conduct the classification experiments and report evaluation results.\n",
    "\n",
    "[1] M. Pagliardini, P. Gupta, and M. Jaggi. Unsupervised Learning of Sentence Embeddings using Compositional n-Gram Features. In Proceedings of the conference of the North American Chapter of the Association for Computational Linguistics (NAACL), 2018.\n"
   ]
  },
  {
   "cell_type": "code",
   "execution_count": 27,
   "metadata": {},
   "outputs": [],
   "source": [
    "import sent2vec"
   ]
  },
  {
   "cell_type": "markdown",
   "metadata": {},
   "source": [
    "<h3> sent2vec package cloned from git repository: https://github.com/epfml/sent2vec <h3>           "
   ]
  },
  {
   "cell_type": "code",
   "execution_count": 28,
   "metadata": {},
   "outputs": [],
   "source": [
    "sent2vec_model = sent2vec.Sent2vecModel()"
   ]
  },
  {
   "cell_type": "code",
   "execution_count": 29,
   "metadata": {},
   "outputs": [],
   "source": [
    "# df_text_train = df_train_prepr['Text'].apply(lambda x: ' '.join(x))\n",
    "# df_text_train.to_csv(r'text_files/train.txt', header=None, index=None, mode='a')\n"
   ]
  },
  {
   "cell_type": "markdown",
   "metadata": {},
   "source": [
    "<h3> sent2vec model was trained with default parameters resulting in 100 dimensional representations for each sentence<h3>"
   ]
  },
  {
   "cell_type": "code",
   "execution_count": 30,
   "metadata": {},
   "outputs": [],
   "source": [
    "sent2vec_model.load_model('sent2vec/nlp2023.bin')"
   ]
  },
  {
   "cell_type": "code",
   "execution_count": 31,
   "metadata": {},
   "outputs": [],
   "source": [
    "X_train_new = df_train_prepr['Text'].apply(lambda x: ' '.join(x)).apply(sent2vec_model.embed_sentence).to_numpy()\n",
    "X_val_new = df_valid_prepr['Text'].apply(lambda x: ' '.join(x)).apply(sent2vec_model.embed_sentence).to_numpy()\n",
    "X_test_new = df_test_prepr['Text'].apply(lambda x: ' '.join(x)).apply(sent2vec_model.embed_sentence).to_numpy()"
   ]
  },
  {
   "cell_type": "code",
   "execution_count": 32,
   "metadata": {},
   "outputs": [],
   "source": [
    "X_train_new = [np.squeeze(emb) for emb in X_train_new]\n",
    "X_val_new = [np.squeeze(emb) for emb in X_val_new]\n",
    "X_test_new = [np.squeeze(emb) for emb in X_test_new]"
   ]
  },
  {
   "cell_type": "code",
   "execution_count": 33,
   "metadata": {},
   "outputs": [],
   "source": [
    "result_embed_sent2vec = {\n",
    "    \"SVM\":[],\n",
    "    \"NN\":[],\n",
    "    \"Grad.Boost clsf\":[]\n",
    "}"
   ]
  },
  {
   "cell_type": "markdown",
   "metadata": {},
   "source": [
    "<h3>Testing Neural Net<h3>"
   ]
  },
  {
   "cell_type": "code",
   "execution_count": 41,
   "metadata": {},
   "outputs": [],
   "source": [
    "class SimpleNetworkV2(nn.Module):\n",
    "    def __init__(self, feature_dim, hidden_dim, output_dim, dropout_prob = 0.2):\n",
    "        super().__init__()\n",
    "        \n",
    "        #it was decided to increase the complexity a little bit\n",
    "        \n",
    "        self.layer1 = nn.Sequential(\n",
    "            nn.Linear(feature_dim, hidden_dim),\n",
    "            nn.BatchNorm1d(hidden_dim),\n",
    "            nn.ReLU(),\n",
    "            nn.Dropout(dropout_prob)).to(device)\n",
    "        \n",
    "        self.layer2 = nn.Sequential(\n",
    "            nn.Linear(hidden_dim, hidden_dim),\n",
    "            nn.BatchNorm1d(hidden_dim),\n",
    "            nn.ReLU(),\n",
    "            nn.Dropout(dropout_prob)).to(device)\n",
    "        \n",
    "        self.layer3 = nn.Sequential(\n",
    "            nn.Linear(hidden_dim, hidden_dim),\n",
    "            nn.BatchNorm1d(hidden_dim),\n",
    "            nn.ReLU(),\n",
    "            nn.Dropout(dropout_prob)).to(device)\n",
    "\n",
    "        \n",
    "        self.classifier = nn.Linear(hidden_dim, output_dim).to(device)\n",
    "        \n",
    "    def forward(self,x):\n",
    "        return self.classifier(self.layer3(self.layer2(self.layer1(x))))"
   ]
  },
  {
   "cell_type": "code",
   "execution_count": 35,
   "metadata": {},
   "outputs": [],
   "source": [
    "train_data = WordDataset(feature_set=X_train_new,  \n",
    "                               labels=y_train)\n",
    "\n",
    "valid_data = WordDataset(feature_set=X_val_new,  \n",
    "                               labels=y_val)\n",
    "\n",
    "\n",
    "train_loader_new = DataLoader(dataset=train_data,\n",
    "                                batch_size=32,\n",
    "                                shuffle=True)\n",
    "\n",
    "valid_loader_new = DataLoader(dataset=valid_data,\n",
    "                                batch_size=32,\n",
    "                                shuffle=False)"
   ]
  },
  {
   "cell_type": "code",
   "execution_count": 36,
   "metadata": {},
   "outputs": [],
   "source": [
    "nn_model_new = SimpleNetworkV2(feature_dim = 100,\n",
    "                         hidden_dim = 1000,\n",
    "                         output_dim = len(labels)).to(device)\n",
    "optimizer = torch.optim.Adam(params = nn_model_new.parameters())\n",
    "loss_fn = nn.CrossEntropyLoss()\n"
   ]
  },
  {
   "cell_type": "code",
   "execution_count": 37,
   "metadata": {},
   "outputs": [
    {
     "data": {
      "application/vnd.jupyter.widget-view+json": {
       "model_id": "e57fc7817085447fa85a1650c019d3f0",
       "version_major": 2,
       "version_minor": 0
      },
      "text/plain": [
       "  0%|          | 0/100 [00:00<?, ?it/s]"
      ]
     },
     "metadata": {},
     "output_type": "display_data"
    },
    {
     "name": "stdout",
     "output_type": "stream",
     "text": [
      "Epoch: 5 | Train loss: 1.3263 | Train acc: 0.5940 | Validation loss: 1.1989 | Validation acc: 0.6239\n",
      "Epoch: 10 | Train loss: 1.0982 | Train acc: 0.6741 | Validation loss: 1.0396 | Validation acc: 0.6966\n",
      "Epoch: 15 | Train loss: 1.0427 | Train acc: 0.6865 | Validation loss: 1.0769 | Validation acc: 0.6715\n",
      "Epoch: 20 | Train loss: 1.0005 | Train acc: 0.6985 | Validation loss: 1.0619 | Validation acc: 0.6917\n",
      "Epoch: 25 | Train loss: 0.9817 | Train acc: 0.6993 | Validation loss: 1.0011 | Validation acc: 0.6951\n",
      "Epoch: 30 | Train loss: 0.9573 | Train acc: 0.7079 | Validation loss: 0.9794 | Validation acc: 0.7054\n",
      "Epoch: 35 | Train loss: 0.9401 | Train acc: 0.7116 | Validation loss: 1.0187 | Validation acc: 0.6944\n",
      "Epoch: 40 | Train loss: 0.9274 | Train acc: 0.7150 | Validation loss: 0.9915 | Validation acc: 0.7020\n",
      "Epoch: 45 | Train loss: 0.9162 | Train acc: 0.7173 | Validation loss: 1.0435 | Validation acc: 0.6780\n",
      "Epoch: 50 | Train loss: 0.8953 | Train acc: 0.7245 | Validation loss: 0.9498 | Validation acc: 0.7138\n",
      "Epoch: 55 | Train loss: 0.8908 | Train acc: 0.7206 | Validation loss: 0.9923 | Validation acc: 0.7039\n",
      "Epoch: 60 | Train loss: 0.8773 | Train acc: 0.7258 | Validation loss: 0.9935 | Validation acc: 0.7127\n",
      "Epoch: 65 | Train loss: 0.8605 | Train acc: 0.7271 | Validation loss: 0.9589 | Validation acc: 0.7207\n",
      "Epoch: 70 | Train loss: 0.8475 | Train acc: 0.7293 | Validation loss: 0.9317 | Validation acc: 0.7210\n",
      "Epoch: 75 | Train loss: 0.8324 | Train acc: 0.7361 | Validation loss: 0.9728 | Validation acc: 0.7130\n",
      "Epoch: 80 | Train loss: 0.8249 | Train acc: 0.7389 | Validation loss: 1.0069 | Validation acc: 0.6936\n",
      "Epoch: 85 | Train loss: 0.8195 | Train acc: 0.7402 | Validation loss: 0.9531 | Validation acc: 0.7245\n",
      "Epoch: 90 | Train loss: 0.8073 | Train acc: 0.7448 | Validation loss: 0.9524 | Validation acc: 0.7229\n",
      "Epoch: 95 | Train loss: 0.8025 | Train acc: 0.7439 | Validation loss: 1.0369 | Validation acc: 0.6963\n",
      "Epoch: 100 | Train loss: 0.7909 | Train acc: 0.7418 | Validation loss: 0.9779 | Validation acc: 0.7176\n",
      "====================\n",
      "Final Train Accuracy: 0.7465\n",
      "Final Validation Accuracy: 0.7092\n",
      "====================\n"
     ]
    },
    {
     "data": {
      "text/plain": [
       "SimpleNetworkV2(\n",
       "  (layer1): Sequential(\n",
       "    (0): Linear(in_features=100, out_features=1000, bias=True)\n",
       "    (1): BatchNorm1d(1000, eps=1e-05, momentum=0.1, affine=True, track_running_stats=True)\n",
       "    (2): ReLU()\n",
       "    (3): Dropout(p=0.2, inplace=False)\n",
       "  )\n",
       "  (layer2): Sequential(\n",
       "    (0): Linear(in_features=1000, out_features=1000, bias=True)\n",
       "    (1): BatchNorm1d(1000, eps=1e-05, momentum=0.1, affine=True, track_running_stats=True)\n",
       "    (2): ReLU()\n",
       "    (3): Dropout(p=0.2, inplace=False)\n",
       "  )\n",
       "  (layer3): Sequential(\n",
       "    (0): Linear(in_features=1000, out_features=1000, bias=True)\n",
       "    (1): BatchNorm1d(1000, eps=1e-05, momentum=0.1, affine=True, track_running_stats=True)\n",
       "    (2): ReLU()\n",
       "    (3): Dropout(p=0.2, inplace=False)\n",
       "  )\n",
       "  (classifier): Linear(in_features=1000, out_features=12, bias=True)\n",
       ")"
      ]
     },
     "execution_count": 37,
     "metadata": {},
     "output_type": "execute_result"
    },
    {
     "data": {
      "image/png": "[encoded data removed]",
      "text/plain": [
       "<Figure size 1080x504 with 2 Axes>"
      ]
     },
     "metadata": {
      "needs_background": "light"
     },
     "output_type": "display_data"
    }
   ],
   "source": [
    "train_validate_save(result_embed_sent2vec, nn_model_new, train_loader_new, valid_loader_new, optimizer,\n",
    "                   loss_fn, 'nn_embedding_sent2vec',\n",
    "                   epochs = 100)"
   ]
  },
  {
   "cell_type": "markdown",
   "metadata": {},
   "source": [
    "<h3> Testing SVM and XGBoost"
   ]
  },
  {
   "cell_type": "code",
   "execution_count": 38,
   "metadata": {},
   "outputs": [
    {
     "name": "stdout",
     "output_type": "stream",
     "text": [
      "Test Set Evaluation:\n",
      "Accuracy: 0.6763005780346821\n",
      "F1 Score: 0.7261824519941187\n",
      "\n",
      "Validation Set Evaluation:\n",
      "Accuracy: 0.6691063174114021\n",
      "F1 Score: 0.7165962629386134\n",
      "Test Set Evaluation:\n",
      "Accuracy: 0.6554913294797687\n",
      "F1 Score: 0.6815479420538372\n",
      "\n",
      "Validation Set Evaluation:\n",
      "Accuracy: 0.6556240369799692\n",
      "F1 Score: 0.6800475248564787\n"
     ]
    }
   ],
   "source": [
    "classifier = svm.SVC(C=10,gamma=0.1,kernel=\"rbf\")\n",
    "result_embed_sent2vec[\"SVM\"] = list(train_classifier(classifier,X_train_new,y_train,X_test_new,y_test,X_val_new,y_val))\n",
    "\n",
    "\n",
    "dt_classifier = GradientBoostingClassifier(learning_rate=0.1, n_estimators=120)\n",
    "result_embed_sent2vec[\"Grad.Boost clsf\"] = list(train_classifier(dt_classifier,X_train_new,y_train,X_test_new,y_test,X_val_new,y_val))\n"
   ]
  },
  {
   "cell_type": "code",
   "execution_count": 40,
   "metadata": {},
   "outputs": [
    {
     "data": {
      "text/plain": [
       "<matplotlib.legend.Legend at 0x7ff55b4b9490>"
      ]
     },
     "execution_count": 40,
     "metadata": {},
     "output_type": "execute_result"
    },
    {
     "data": {
      "image/png": "[encoded data removed]",
      "text/plain": [
       "<Figure size 720x432 with 1 Axes>"
      ]
     },
     "metadata": {
      "needs_background": "light"
     },
     "output_type": "display_data"
    }
   ],
   "source": [
    "fig, ax = plt.subplots(figsize=(10, 6))\n",
    "\n",
    "for key, value in result_embed_sent2vec.items():\n",
    "    label = f\"{key}  - Test: {value[0]:.4f}, Validation: {value[1]:.4f}\"\n",
    "    ax.plot(['Test Set', 'Validation set'], value, label=label, marker='o')\n",
    "\n",
    "\n",
    "ax.set_title('SVM, Grad.Boost, and NN models performance plot')\n",
    "ax.set_ylabel('Accuracy')\n",
    "ax.set_xlabel('Dataset')\n",
    "ax.set_ylim(0, 1)\n",
    "ax.legend()"
   ]
  },
  {
   "cell_type": "markdown",
   "metadata": {},
   "source": [
    "<h3> Looking at the result, sent2vec model showed not as promising result as it might have. Playing around with different parameters such as dimension size or learning rate etc. could have potentially led to a better performance. In this case neural net by far surpassed other models on a test set, but judging by the training loop it is doubtful that peak perfomance can get much better than that."
   ]
  }
 ],
 "metadata": {
  "kernelspec": {
   "display_name": "Python 3 (ipykernel)",
   "language": "python",
   "name": "python3"
  },
  "language_info": {
   "codemirror_mode": {
    "name": "ipython",
    "version": 3
   },
   "file_extension": ".py",
   "mimetype": "text/x-python",
   "name": "python",
   "nbconvert_exporter": "python",
   "pygments_lexer": "ipython3",
   "version": "3.9.13"
  }
 },
 "nbformat": 4,
 "nbformat_minor": 4
}
