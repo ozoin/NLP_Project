{
 "cells": [
  {
   "cell_type": "markdown",
   "metadata": {},
   "source": [
    "Please fill out the information of your group!\n",
    "\n",
    "| <p style=\"text-align: center;\">First Name</p>  | <p style=\"text-align: center;\">Family Name</p> | Matr.-No. |\n",
    "| ---------------------------------------------- | ---------------------------------------------- | -------- |\n",
    "| <p style=\"text-align: left\">*EDIT!*</p>| <p style=\"text-align: left\">*EDIT!*</p> | *EDIT!* |\n",
    "| <p style=\"text-align: left\">*EDIT!*</p>| <p style=\"text-align: left\">*EDIT!*</p> | *EDIT!* |\n",
    "\n"
   ]
  },
  {
   "cell_type": "markdown",
   "metadata": {},
   "source": [
    "<h2 style=\"text-align: center\">344.105/6/7 UE: Natural Language Processing (WS2023/24)</h2>\n",
    "<h1 style=\"color:rgb(0,120,170)\">Assignment 2</h1>\n",
    "<h2 style=\"color:rgb(0,120,170)\">Getting to Know Word Embedding!</h2>"
   ]
  },
  {
   "cell_type": "markdown",
   "metadata": {},
   "source": [
    "<b>Terms of Use</b><br>\n",
    "This  material is prepared for educational purposes at the Johannes Kepler University (JKU) Linz, and is exclusively provided to the registered students of the mentioned course at JKU. It is strictly forbidden to distribute the current file, the contents of the assignment, and its solution. The use or reproduction of this manuscript is only allowed for educational purposes in non-profit organizations, while in this case, the explicit prior acceptance of the author(s) is required.\n",
    "\n",
    "**Authors:** Navid Rekab-saz, Oleg Lesota<br>\n"
   ]
  },
  {
   "cell_type": "markdown",
   "metadata": {},
   "source": [
    "<h2>Table of contents</h2>\n",
    "<ol>\n",
    "    <a href=\"#section-general-guidelines\"><li style=\"font-size:large;font-weight:bold\">General Guidelines</li></a>\n",
    "    <a href=\"#section-taskA\"><li style=\"font-size:large;font-weight:bold\">Task A: Words Similarity and Nearest Neighbors (15 points)</li></a>\n",
    "    <a href=\"#section-taskB\"><li style=\"font-size:large;font-weight:bold\">Task B: Document Classification with Word Embedding (15 points)</li></a>\n",
    "    <a href=\"#section-taskC\"><li style=\"font-size:large;font-weight:bold\">Task C: Classification with sent2vec Document Embeddings (2 extra point)</li></a>\n",
    "    <a href=\"#section-references\"><li style=\"font-size:large;font-weight:bold\">References</li></a>\n",
    "    \n",
    "</ol>"
   ]
  },
  {
   "cell_type": "markdown",
   "metadata": {},
   "source": [
    "<a name=\"section-general-guidelines\"></a><h2 style=\"color:rgb(0,120,170)\">General Guidelines</h2>"
   ]
  },
  {
   "cell_type": "markdown",
   "metadata": {},
   "source": [
    "### Assignment objective\n",
    "The aim of this assignment is to get familiarized with using word embedding (WE) models in practice. The assignment in total has **30 points**; it also offers **2 extra points** which can cover any missing point.\n",
    "\n",
    "This Notebook encompasses all aspects of the assignment, namely the descriptions of tasks as well as your solutions and reports. Feel free to add any required cell for solutions. The cells can contain code, reports, charts, tables, or any other material, required for the assignment. Feel free to provide the solutions in an interactive and visual way! \n",
    "\n",
    "Please discuss any unclear point in the assignment in the provided forum in MOODLE. It is also encouraged to provide answers to your peer's questions. However when submitting a post, keep in mind to avoid providing solutions. Please let the tutor(s) know shall you find any error or unclarity in the assignment.\n"
   ]
  },
  {
   "cell_type": "markdown",
   "metadata": {},
   "source": [
    "### Libraries & Dataset\n",
    "\n",
    "The assignment should be implemented with recent versions of `Python` (>3.7). Any standard Python library can be used, so far that the library is free and can be simply installed using `pip` or `conda`. Examples of potentially useful libraries are `scikit-learn`, `numpy`, `scipy`, `gensim`, `nltk`, `spaCy`, and `AllenNLP`. Use the latest stable version of each library.\n",
    "\n",
    "To conduct the experiments, we use a subset of the `HumSet` dataset [1] (https://blog.thedeep.io/humset/). `HumSet` is created by the DEEP (https://www.thedeep.io) project – an open source platform which aims to facilitate processing of textual data for international humanitarian response organizations. The platform enables the classification of text excerpts, extracted from news and reports into a set of domain specific classes. The provided dataset contains the classes (labels) referring to the humanitarian sectors like agriculture, health, and protection. The dataset contains an overall number of 17,301 data points. \n",
    "\n",
    "Download the dataset from the Moodle page of the course.\n",
    "\n",
    "the provided zip file consists of the following files:\n",
    "- `thedeep.subset.train.txt`: Train set in csv format with three fields: sentence_id, text, and label.\n",
    "- `thedeep.subset.validation.txt`: Validation set in csv format with three fields: sentence_id, text, and label.\n",
    "- `thedeep.subset.test.txt`: Test set in csv format with three fields: sentence_id, text, and label.\n",
    "- `thedeep.subset.label.txt`: Captions of the labels.\n",
    "- `thedeep.ToU.txt`: Terms of use of the dataset.\n",
    "\n",
    "[1] HumSet: Dataset of Multilingual Information Extraction and Classification for Humanitarian Crises Response\n",
    "*Selim Fekih, Nicolo' Tamagnone, Benjamin Minixhofer, Ranjan Shrestha, Ximena Contla, Ewan Oglethorpe and Navid Rekabsaz.* \n",
    "In Findings of the 2022 Conference on Empirical Methods in Natural Language Processing (Findings of EMNLP), December 2022.\n"
   ]
  },
  {
   "cell_type": "markdown",
   "metadata": {},
   "source": [
    "\n",
    "### Submission\n",
    "\n",
    "Each group should submit the following two files:\n",
    "\n",
    "- One Jupyter Notebook file (`.ipynb`), containing all the code, results, visualizations, etc. **In the submitted Notebook, all the results and visualizations should already be present, and can be observed simply by loading the Notebook in a browser.** The Notebook must be self-contained, meaning that (if necessary) one can run all the cells from top to bottom without any error. Do not forget to put in your names and student numbers in the first cell of the Notebook. \n",
    "- The HTML file (`.html`) achieved from exporting the Jupyter Notebook to HTML (Download As HTML).\n",
    "\n",
    "You do not need to include the data files in the submission.\n"
   ]
  },
  {
   "cell_type": "markdown",
   "metadata": {},
   "source": [
    "<a name=\"section-taskA\"></a><h2 style=\"color:rgb(0,120,170)\">Task A: Words Similarity and Nearest Neighbors (15 points)</h2>"
   ]
  },
  {
   "cell_type": "markdown",
   "metadata": {},
   "source": [
    "\n",
    "**Loading a word embedding (WE) model (1 points).** Download a pre-trained word embedding model such as word2vec (https://code.google.com/archive/p/word2vec/) or GloVe (https://nlp.stanford.edu/projects/glove/). You can load the downloaded vectors into arrays, or use libraries such as `gensim` to download and process the vectors. \n",
    "\n",
    "**Calculating word-to-word similarities (4 points).** Select <ins>5 arbitrary words</ins> from 5 different topics like objects, science disciplines, verbs, adjectives, animals, etc. Let us refer to these words as *source words*. For each source word, calculate its cosine similarities to <ins>6 target words</ins>. The target words of each source word are also selected by you and should cover various levels of semantic relations – according to your linguistic judgement – to the source word, namely from highly-related to not related at all. Organize the target words in tables, such that the target words of each source word are sorted from the highest to the lowest relevance (according to your judgement). Consider the following points:\n",
    "\n",
    "- **Implementation (2/4 points):** Implement cosine similarity as a function that takes two vectors and returns the similarity score. Implement cosine by yourself and do NOT use the provided functionalities of any library.\n",
    "- **Reporting and observations (2/4 points):** Report the calculated similarities side by side with your word-to-word semantic relevance judgements in tables. Compare the results and report your observations.  \n",
    "\n",
    "**Calculating nearest neighbors (10 points).** For the 5 source words, retrieve the $k=10$ nearest neighbors using the word embedding model, namely the words with the highest similarities to the source word. Consider the following points: \n",
    "    \n",
    "- **Overall implementation (3/10 points):** your implemented function takes a source vector, a set of target vectors, and the $k$ parameter, and returns the $k$ nearest neighbors and their similarity scores. Implement nearest neighbor calculation by yourself and do NOT use the provided functionalities of any library.\n",
    "- **Similarity metrics (2/10 points):** execute the calculation of nearest neighbors according to <ins>two similarity metrics</ins> namely cosine and dot product.\n",
    "- **Efficiency (3/10 points):** your nearest neighbor functions should provide an *efficient* calculation of nearest neighbors. An inefficient way (which should be avoided!) would be looping over the set of vectors in the word embedding model, and one by one calculating the cosine/dot product similarity of the source vector to each of the target vectors. As a hint for an efficient way, consider that in `numpy` (and other libraries), calculating the dot product of a vector to a matrix is much faster than the dot products of the vector to each vector of the matrix.\n",
    "- **Reporting and observations (2/10 points):** report the results in tables, which enable comparing between the outputs of the two similarity metrics. Which similarity metric would you prefer? Report your observations.\n",
    "\n",
    "</div>"
   ]
  },
  {
   "cell_type": "code",
   "execution_count": 1,
   "metadata": {},
   "outputs": [
    {
     "name": "stdout",
     "output_type": "stream",
     "text": [
      "Vectorized model already is loaded\n"
     ]
    }
   ],
   "source": [
    "import numpy as np\n",
    "import os\n",
    "from gensim.scripts.glove2word2vec import glove2word2vec\n",
    "from gensim.models import KeyedVectors\n",
    "#DONWLOAD GLOVE  https://nlp.stanford.edu/data/glove.6B.zip\n",
    "#UNZIP glove.6B.50d.txt TO nlp2023_24_data FOLDER!\n",
    "#CHOSE WHITCH MODEL TO USE. DIFFERENCE IN DIMS (50 OR 200 DIMS) FOR EACH WORD\n",
    "# glove_model_200 = 'glove.6B.200d.txt' \n",
    "glove_model_50 = 'glove.6B.50d.txt' \n",
    "glove_model_output = 'glove.6B.50d.word2vec'\n",
    "\n",
    "glove_file = os.path.join('nlp2023_24_data',glove_model_50)\n",
    "output_path = os.path.join('nlp2023_24_data',glove_model_output)\n",
    "\n",
    "if glove_model_output not in os.listdir('nlp2023_24_data'):\n",
    "    glove2word2vec(glove_file, output_path)\n",
    "    print('Vectorized model loaded successfully')\n",
    "else:\n",
    "    print('Vectorized model already is loaded')\n",
    "\n",
    "model = KeyedVectors.load_word2vec_format(output_path, binary=False)"
   ]
  },
  {
   "cell_type": "markdown",
   "metadata": {},
   "source": [
    "<h2>Calculating word-to-word similarities</h2>"
   ]
  },
  {
   "cell_type": "code",
   "execution_count": 2,
   "metadata": {},
   "outputs": [
    {
     "name": "stdout",
     "output_type": "stream",
     "text": [
      "{'car': {'truck': 29.87414, 'engine': 26.20973, 'highway': 18.092747, 'city': 16.191898, 'apple': 11.067924, 'philosophy': 1.3544093}, 'biology': {'genetics': 23.19556, 'cell': 13.559632, 'organism': 16.193115, 'planet': 7.251308, 'music': 10.828143, 'art': 15.35717}, 'run': {'jog': 4.92097, 'sprint': 13.820924, 'walk': 15.405634, 'river': 18.982958, 'book': 12.051766, 'emotion': 5.6245794}, 'beautiful': {'gorgeous': 14.923666, 'pretty': 20.525969, 'plain': 14.096434, 'mountain': 14.879229, 'computer': 8.050504, 'economics': 2.8283787}, 'tiger': {'lion': 11.48626, 'leopard': 15.527811, 'forest': 13.777363, 'ocean': 10.410924, 'clock': 3.481723, 'mathematics': -2.343263}}\n",
      "Source word =  car\n",
      "Primary words, that we made up by ourselves ['truck', 'engine', 'highway', 'city', 'apple', 'philosophy']\n",
      "Words sorted by relevance using model and similarity: ['truck', 'engine', 'highway', 'city', 'apple', 'philosophy']\n",
      "Number of positions that differ: 0\n",
      "\n",
      "\n",
      "Source word =  biology\n",
      "Primary words, that we made up by ourselves ['genetics', 'cell', 'organism', 'planet', 'music', 'art']\n",
      "Words sorted by relevance using model and similarity: ['genetics', 'organism', 'art', 'cell', 'music', 'planet']\n",
      "Number of positions that differ: 4\n",
      "\n",
      "\n",
      "Source word =  run\n",
      "Primary words, that we made up by ourselves ['jog', 'sprint', 'walk', 'river', 'book', 'emotion']\n",
      "Words sorted by relevance using model and similarity: ['river', 'walk', 'sprint', 'book', 'emotion', 'jog']\n",
      "Number of positions that differ: 6\n",
      "\n",
      "\n",
      "Source word =  beautiful\n",
      "Primary words, that we made up by ourselves ['gorgeous', 'pretty', 'plain', 'mountain', 'computer', 'economics']\n",
      "Words sorted by relevance using model and similarity: ['pretty', 'gorgeous', 'mountain', 'plain', 'computer', 'economics']\n",
      "Number of positions that differ: 4\n",
      "\n",
      "\n",
      "Source word =  tiger\n",
      "Primary words, that we made up by ourselves ['lion', 'leopard', 'forest', 'ocean', 'clock', 'mathematics']\n",
      "Words sorted by relevance using model and similarity: ['leopard', 'forest', 'lion', 'ocean', 'clock', 'mathematics']\n",
      "Number of positions that differ: 3\n",
      "\n",
      "\n"
     ]
    }
   ],
   "source": [
    "#Define dictionary of words\n",
    "dictionary = {\n",
    "    \"car\": [\"truck\", \"engine\", \"highway\", \"city\", \"apple\", \"philosophy\"], \n",
    "    \"biology\": [\"genetics\", \"cell\", \"organism\", \"planet\", \"music\", \"art\"], \n",
    "    \"run\": [\"jog\", \"sprint\", \"walk\", \"river\", \"book\", \"emotion\"], \n",
    "    \"beautiful\": [\"gorgeous\", \"pretty\", \"plain\", \"mountain\", \"computer\", \"economics\"], \n",
    "    \"tiger\": [\"lion\", \"leopard\", \"forest\", \"ocean\", \"clock\", \"mathematics\"] \n",
    "}\n",
    "\n",
    "def cosine_similarity(vec1,vec2):\n",
    "    dot_prod = np.dot(vec1,vec2)\n",
    "    norm_vec1 = np.linalg.norm(vec1)\n",
    "    norm_vec2 = np.linalg.norm(vec2)\n",
    "    if norm_vec1 == 0 and norm_vec2 == 0:\n",
    "        return None #division by zero\n",
    "    return (dot_prod)/norm_vec1*norm_vec2\n",
    "\n",
    "#Calculate similarities within our dictionary\n",
    "def dict_similarity(dictionary):\n",
    "    similarities = dict()\n",
    "    for source_word, target_words in dictionary.items():\n",
    "        source_vector = model[source_word]\n",
    "        similarities[source_word] = {}\n",
    "        for word in target_words:\n",
    "            target_vector = model[word]\n",
    "            sim_score = cosine_similarity(source_vector,target_vector)\n",
    "            similarities[source_word][word] = sim_score\n",
    "    return similarities\n",
    "\n",
    "similarities = dict_similarity(dictionary=dictionary)\n",
    "print(similarities)\n",
    "for source_word,sims in similarities.items():\n",
    "    errors = 0\n",
    "    sorted_keys = [key for key, value in sorted(sims.items(), key=lambda x: x[1], reverse=True)]\n",
    "    errors = sum(1  for a,b in zip(dictionary[source_word],sorted_keys) if a != b)\n",
    "    print('Source word = ',source_word)\n",
    "    print('Primary words, that we made up by ourselves',dictionary[source_word])\n",
    "    print('Words sorted by relevance using model and similarity:',sorted_keys)\n",
    "    print('Number of positions that differ:',errors)\n",
    "    print(\"\\n\")"
   ]
  },
  {
   "cell_type": "markdown",
   "metadata": {},
   "source": [
    "<h3>\n",
    "Judging by the results, we see that pretrained models is able to analyze, which words are more relative to the source word, and performes quite well.\n",
    "</h3>"
   ]
  },
  {
   "cell_type": "markdown",
   "metadata": {},
   "source": [
    "<h1>Calculating nearest neighbors</h1>"
   ]
  },
  {
   "cell_type": "code",
   "execution_count": 21,
   "metadata": {},
   "outputs": [],
   "source": [
    "def cosine_similarity_vectorized(source_vector, all_vectors):\n",
    "    source_norm = np.linalg.norm(source_vector)\n",
    "    source_vector_normalized = source_vector / source_norm if source_norm != 0 else source_vector\n",
    "    norms = np.linalg.norm(all_vectors, axis=1)\n",
    "    all_vectors_normalized = all_vectors / norms[:, np.newaxis]\n",
    "    dot_products = np.dot(all_vectors_normalized, source_vector_normalized)\n",
    "    return dot_products\n",
    "\n",
    "def dot_product_vectorized(source_vector,all_vectors):\n",
    "    dot_prod = np.dot(source_vector[None,:],all_vectors.T)\n",
    "    return dot_prod[0]\n",
    "\n",
    "def knns_vectorized(source_vector, metric='', k=10):\n",
    "    all_vectors = np.stack(model.vectors)\n",
    "    if metric == 'Cos':\n",
    "        similarities = cosine_similarity_vectorized(source_vector,all_vectors)\n",
    "    elif metric == 'Dot':\n",
    "        similarities = dot_product_vectorized(source_vector,all_vectors)\n",
    "    else:\n",
    "        return None\n",
    "    top_k_indices = np.argsort(similarities)[::-1][1:k+1]\n",
    "    nearest_neighbors = [(model.index_to_key[i], similarities[i]) for i in top_k_indices]\n",
    "    return nearest_neighbors\n",
    "\n",
    "def find_NN(metric=''):\n",
    "    nearest_sims = dict()\n",
    "    for source_word in dictionary.keys():\n",
    "        if source_word in model:\n",
    "            src_vec = model[source_word]\n",
    "            neighbors = knns_vectorized(src_vec,metric,k=10)\n",
    "            nearest_sims[source_word] = neighbors\n",
    "    return nearest_sims\n",
    "\n",
    "cosine_nns = find_NN('Cos')\n",
    "dot_nns = find_NN('Dot')"
   ]
  },
  {
   "cell_type": "code",
   "execution_count": 20,
   "metadata": {},
   "outputs": [
    {
     "data": {
      "text/plain": [
       "{'car': [('truck', 0.92085856),\n",
       "  ('cars', 0.887019),\n",
       "  ('vehicle', 0.8833684),\n",
       "  ('driver', 0.8464018),\n",
       "  ('driving', 0.8384189),\n",
       "  ('bus', 0.8210512),\n",
       "  ('vehicles', 0.8174993),\n",
       "  ('parked', 0.7902189),\n",
       "  ('motorcycle', 0.7866503),\n",
       "  ('taxi', 0.78339297)],\n",
       " 'biology': [('genetics', 0.8774416),\n",
       "  ('psychology', 0.8697884),\n",
       "  ('biochemistry', 0.8684059),\n",
       "  ('physiology', 0.842956),\n",
       "  ('studies', 0.8365998),\n",
       "  ('chemistry', 0.83150464),\n",
       "  ('science', 0.8275755),\n",
       "  ('neuroscience', 0.8251677),\n",
       "  ('physics', 0.8241898),\n",
       "  ('anthropology', 0.8238296)],\n",
       " 'run': [('running', 0.88025546),\n",
       "  ('runs', 0.8451683),\n",
       "  ('went', 0.84496987),\n",
       "  ('start', 0.83516294),\n",
       "  ('ran', 0.8289676),\n",
       "  ('out', 0.81535935),\n",
       "  ('third', 0.8101338),\n",
       "  ('home', 0.8085863),\n",
       "  ('off', 0.803026),\n",
       "  ('got', 0.8010134)],\n",
       " 'beautiful': [('lovely', 0.9210881),\n",
       "  ('gorgeous', 0.89348644),\n",
       "  ('wonderful', 0.82963794),\n",
       "  ('charming', 0.8249219),\n",
       "  ('beauty', 0.80146843),\n",
       "  ('elegant', 0.7744168),\n",
       "  ('looks', 0.75818247),\n",
       "  ('love', 0.73599404),\n",
       "  ('graceful', 0.73501563),\n",
       "  ('magnificent', 0.7346351)],\n",
       " 'tiger': [('tigers', 0.72392386),\n",
       "  ('woods', 0.6852725),\n",
       "  ('warrior', 0.68220836),\n",
       "  ('ltte', 0.6664599),\n",
       "  ('wild', 0.64957017),\n",
       "  ('elephant', 0.64881015),\n",
       "  ('crocodile', 0.64699656),\n",
       "  ('leopard', 0.64594585),\n",
       "  ('eelam', 0.6417322),\n",
       "  ('warriors', 0.6396878)]}"
      ]
     },
     "execution_count": 20,
     "metadata": {},
     "output_type": "execute_result"
    }
   ],
   "source": [
    "cosine_nns\n",
    "# dot_nns"
   ]
  },
  {
   "cell_type": "code",
   "execution_count": 22,
   "metadata": {},
   "outputs": [
    {
     "data": {
      "text/plain": [
       "{'car': [('cars', 30.951704),\n",
       "  ('truck', 30.054115),\n",
       "  ('vehicles', 27.85709),\n",
       "  ('vehicle', 27.46118),\n",
       "  ('driver', 27.45163),\n",
       "  ('bus', 26.142542),\n",
       "  ('trucks', 26.119501),\n",
       "  ('passenger', 24.767242),\n",
       "  ('parked', 24.730257),\n",
       "  ('engine', 24.139498)],\n",
       " 'biology': [('physics', 28.539175),\n",
       "  ('psychology', 27.960346),\n",
       "  ('molecular', 27.878105),\n",
       "  ('studies', 27.71197),\n",
       "  ('science', 27.552252),\n",
       "  ('biochemistry', 27.493061),\n",
       "  ('research', 27.197535),\n",
       "  ('chemistry', 26.592838),\n",
       "  ('physiology', 26.42691),\n",
       "  ('mathematics', 26.424946)],\n",
       " 'run': [('-', 21.739552),\n",
       "  ('game', 21.67716),\n",
       "  ('off', 21.571707),\n",
       "  ('hit', 21.359304),\n",
       "  ('out', 20.891024),\n",
       "  ('games', 20.794641),\n",
       "  ('runs', 20.52802),\n",
       "  ('win', 20.444843),\n",
       "  ('start', 20.265348),\n",
       "  ('inning', 20.19087)],\n",
       " 'beautiful': [('lovely', 21.259565),\n",
       "  ('#e', 20.99657),\n",
       "  ('love', 20.003838),\n",
       "  ('pretty', 19.728437),\n",
       "  ('wonderful', 19.70658),\n",
       "  ('beauty', 19.690962),\n",
       "  ('elegant', 19.561895),\n",
       "  ('her', 19.557459),\n",
       "  ('very', 19.402338),\n",
       "  ('you', 19.372437)],\n",
       " 'tiger': [('europe/africa', 20.646189),\n",
       "  ('eelam', 19.061539),\n",
       "  ('tigers', 18.702694),\n",
       "  ('ltte', 18.500574),\n",
       "  ('rebels', 17.639183),\n",
       "  ('fighters', 16.981976),\n",
       "  ('rebel', 16.923008),\n",
       "  ('woods', 16.68111),\n",
       "  ('killed', 16.646),\n",
       "  ('guerrillas', 16.607098)]}"
      ]
     },
     "execution_count": 22,
     "metadata": {},
     "output_type": "execute_result"
    }
   ],
   "source": [
    "dot_nns"
   ]
  },
  {
   "cell_type": "markdown",
   "metadata": {},
   "source": [
    "Cosine similarity seems better in this case... Dot product metric gives some unexpected words. Maybe this is the problem of the nature of the pretrained model set..."
   ]
  },
  {
   "cell_type": "markdown",
   "metadata": {},
   "source": [
    "<a name=\"section-taskB\"></a><h2 style=\"color:rgb(0,120,170)\">Task B: Document Classification with WE (15 points)</h2>"
   ]
  },
  {
   "cell_type": "markdown",
   "metadata": {},
   "source": [
    "\n",
    "This task follows the same instruction for document classification as provided in Assignment 1. You are indeed free to reuse any part of your code in Assignment 1 for this task. In Assignment 1, the representation of each document was created using a bag of words representation followed by dimensionality reduction. In this task, the document representations are created from the pre-trained word embeddings.\n",
    "\n",
    "**Map word embeddings to dictionary words (5 points).** For every word in the dictionary (as discussed and created in Assignment 1), fetch the corresponding word embedding from the pre-trained model. If no embedding is found, initialize the corresponding word embedding randomly.\n",
    "\n",
    "**Document embedding as the average of word embeddings (5 points).** Using the word embeddings, the representation of each document is defined as the *mean of the vectors of each document's words*. In particular, given the document $d$, consisting of words $\\left[ v_1, v_2, ..., v_{|d|} \\right]$, the document representation $\\mathbf{e}_d$ is defined as:\n",
    "\n",
    "$\\mathbf{e}_d = \\frac{1}{|d|}\\sum_{i=1}^{|d|}{\\mathbf{e}_{v_i}}$\n",
    "\n",
    "where $\\mathbf{e}_{v}$ is the vector of the word $v$, and $|d|$ is the length of the document.\n",
    "\n",
    "**Classification and evaluation (5 points)** Using these new document representations, apply <ins>three classification algorithms</ins> and report the evaluation results (based on accuracy metric) on the test set.\n",
    "\n"
   ]
  },
  {
   "cell_type": "code",
   "execution_count": null,
   "metadata": {},
   "outputs": [],
   "source": []
  },
  {
   "cell_type": "code",
   "execution_count": null,
   "metadata": {},
   "outputs": [],
   "source": []
  },
  {
   "cell_type": "markdown",
   "metadata": {},
   "source": [
    "<a name=\"section-taskC\"></a><h2 style=\"color:rgb(0,120,170)\">Task C: Classification with sent2vec Document Embeddings (2 extra point)</h2>"
   ]
  },
  {
   "cell_type": "markdown",
   "metadata": {},
   "source": [
    "\n",
    "Sent2vec [1] suggests another unsupervised approach to creating document embeddings from the underlying word embeddings. First, using the provided code in the paper, train a sendtvec model on the training set to create document embeddings. Then, repeat Task B while using the document embeddings provided by sent2vec. Similar to Task 2, conduct the classification experiments and report evaluation results.\n",
    "\n",
    "[1] M. Pagliardini, P. Gupta, and M. Jaggi. Unsupervised Learning of Sentence Embeddings using Compositional n-Gram Features. In Proceedings of the conference of the North American Chapter of the Association for Computational Linguistics (NAACL), 2018.\n"
   ]
  },
  {
   "cell_type": "code",
   "execution_count": null,
   "metadata": {},
   "outputs": [],
   "source": []
  },
  {
   "cell_type": "code",
   "execution_count": null,
   "metadata": {},
   "outputs": [],
   "source": []
  }
 ],
 "metadata": {
  "kernelspec": {
   "display_name": "Python 3 (ipykernel)",
   "language": "python",
   "name": "python3"
  },
  "language_info": {
   "codemirror_mode": {
    "name": "ipython",
    "version": 3
   },
   "file_extension": ".py",
   "mimetype": "text/x-python",
   "name": "python",
   "nbconvert_exporter": "python",
   "pygments_lexer": "ipython3",
   "version": "3.9.10"
  }
 },
 "nbformat": 4,
 "nbformat_minor": 4
}
