{
 "cells": [
  {
   "cell_type": "markdown",
   "metadata": {},
   "source": [
    "Please fill out the information of your group!\n",
    "\n",
    "| <p style=\"text-align: center;\">First Name</p>  | <p style=\"text-align: center;\">Family Name</p> | Matr.-No. |\n",
    "| ---------------------------------------------- | ---------------------------------------------- | -------- |\n",
    "| <p style=\"text-align: left\">*EDIT!*</p>| <p style=\"text-align: left\">*EDIT!*</p> | *EDIT!* |\n",
    "| <p style=\"text-align: left\">*EDIT!*</p>| <p style=\"text-align: left\">*EDIT!*</p> | *EDIT!* |\n",
    "\n"
   ]
  },
  {
   "cell_type": "markdown",
   "metadata": {},
   "source": [
    "<h2 style=\"text-align: center\">344.105/6/7 UE: Natural Language Processing (WS2023/24)</h2>\n",
    "<h1 style=\"color:rgb(0,120,170)\">Assignment 2</h1>\n",
    "<h2 style=\"color:rgb(0,120,170)\">Getting to Know Word Embedding!</h2>                  "
   ]
  },
  {
   "cell_type": "markdown",
   "metadata": {},
   "source": [
    "<b>Terms of Use</b><br>\n",
    "This  material is prepared for educational purposes at the Johannes Kepler University (JKU) Linz, and is exclusively provided to the registered students of the mentioned course at JKU. It is strictly forbidden to distribute the current file, the contents of the assignment, and its solution. The use or reproduction of this manuscript is only allowed for educational purposes in non-profit organizations, while in this case, the explicit prior acceptance of the author(s) is required.\n",
    "\n",
    "**Authors:** Navid Rekab-saz, Oleg Lesota<br>\n"
   ]
  },
  {
   "cell_type": "markdown",
   "metadata": {},
   "source": [
    "<h2>Table of contents</h2>\n",
    "<ol>\n",
    "    <a href=\"#section-general-guidelines\"><li style=\"font-size:large;font-weight:bold\">General Guidelines</li></a>\n",
    "    <a href=\"#section-taskA\"><li style=\"font-size:large;font-weight:bold\">Task A: Words Similarity and Nearest Neighbors (15 points)</li></a>\n",
    "    <a href=\"#section-taskB\"><li style=\"font-size:large;font-weight:bold\">Task B: Document Classification with Word Embedding (15 points)</li></a>\n",
    "    <a href=\"#section-taskC\"><li style=\"font-size:large;font-weight:bold\">Task C: Classification with sent2vec Document Embeddings (2 extra point)</li></a>\n",
    "    <a href=\"#section-references\"><li style=\"font-size:large;font-weight:bold\">References</li></a>\n",
    "    \n",
    "</ol>"
   ]
  },
  {
   "cell_type": "markdown",
   "metadata": {},
   "source": [
    "<a name=\"section-general-guidelines\"></a><h2 style=\"color:rgb(0,120,170)\">General Guidelines</h2>"
   ]
  },
  {
   "cell_type": "markdown",
   "metadata": {},
   "source": [
    "### Assignment objective\n",
    "The aim of this assignment is to get familiarized with using word embedding (WE) models in practice. The assignment in total has **30 points**; it also offers **2 extra points** which can cover any missing point.\n",
    "\n",
    "This Notebook encompasses all aspects of the assignment, namely the descriptions of tasks as well as your solutions and reports. Feel free to add any required cell for solutions. The cells can contain code, reports, charts, tables, or any other material, required for the assignment. Feel free to provide the solutions in an interactive and visual way! \n",
    "\n",
    "Please discuss any unclear point in the assignment in the provided forum in MOODLE. It is also encouraged to provide answers to your peer's questions. However when submitting a post, keep in mind to avoid providing solutions. Please let the tutor(s) know shall you find any error or unclarity in the assignment.\n"
   ]
  },
  {
   "cell_type": "markdown",
   "metadata": {},
   "source": [
    "### Libraries & Dataset\n",
    "\n",
    "The assignment should be implemented with recent versions of `Python` (>3.7). Any standard Python library can be used, so far that the library is free and can be simply installed using `pip` or `conda`. Examples of potentially useful libraries are `scikit-learn`, `numpy`, `scipy`, `gensim`, `nltk`, `spaCy`, and `AllenNLP`. Use the latest stable version of each library.\n",
    "\n",
    "To conduct the experiments, we use a subset of the `HumSet` dataset [1] (https://blog.thedeep.io/humset/). `HumSet` is created by the DEEP (https://www.thedeep.io) project – an open source platform which aims to facilitate processing of textual data for international humanitarian response organizations. The platform enables the classification of text excerpts, extracted from news and reports into a set of domain specific classes. The provided dataset contains the classes (labels) referring to the humanitarian sectors like agriculture, health, and protection. The dataset contains an overall number of 17,301 data points. \n",
    "\n",
    "Download the dataset from the Moodle page of the course.\n",
    "\n",
    "the provided zip file consists of the following files:\n",
    "- `thedeep.subset.train.txt`: Train set in csv format with three fields: sentence_id, text, and label.\n",
    "- `thedeep.subset.validation.txt`: Validation set in csv format with three fields: sentence_id, text, and label.\n",
    "- `thedeep.subset.test.txt`: Test set in csv format with three fields: sentence_id, text, and label.\n",
    "- `thedeep.subset.label.txt`: Captions of the labels.\n",
    "- `thedeep.ToU.txt`: Terms of use of the dataset.\n",
    "\n",
    "[1] HumSet: Dataset of Multilingual Information Extraction and Classification for Humanitarian Crises Response\n",
    "*Selim Fekih, Nicolo' Tamagnone, Benjamin Minixhofer, Ranjan Shrestha, Ximena Contla, Ewan Oglethorpe and Navid Rekabsaz.* \n",
    "In Findings of the 2022 Conference on Empirical Methods in Natural Language Processing (Findings of EMNLP), December 2022.\n"
   ]
  },
  {
   "cell_type": "markdown",
   "metadata": {},
   "source": [
    "\n",
    "### Submission\n",
    "\n",
    "Each group should submit the following two files:\n",
    "\n",
    "- One Jupyter Notebook file (`.ipynb`), containing all the code, results, visualizations, etc. **In the submitted Notebook, all the results and visualizations should already be present, and can be observed simply by loading the Notebook in a browser.** The Notebook must be self-contained, meaning that (if necessary) one can run all the cells from top to bottom without any error. Do not forget to put in your names and student numbers in the first cell of the Notebook. \n",
    "- The HTML file (`.html`) achieved from exporting the Jupyter Notebook to HTML (Download As HTML).\n",
    "\n",
    "You do not need to include the data files in the submission.\n"
   ]
  },
  {
   "cell_type": "markdown",
   "metadata": {},
   "source": [
    "<a name=\"section-taskA\"></a><h2 style=\"color:rgb(0,120,170)\">Task A: Words Similarity and Nearest Neighbors (15 points)</h2>"
   ]
  },
  {
   "cell_type": "markdown",
   "metadata": {},
   "source": [
    "\n",
    "**Loading a word embedding (WE) model (1 points).** Download a pre-trained word embedding model such as word2vec (https://code.google.com/archive/p/word2vec/) or GloVe (https://nlp.stanford.edu/projects/glove/). You can load the downloaded vectors into arrays, or use libraries such as `gensim` to download and process the vectors. \n",
    "\n",
    "**Calculating word-to-word similarities (4 points).** Select <ins>5 arbitrary words</ins> from 5 different topics like objects, science disciplines, verbs, adjectives, animals, etc. Let us refer to these words as *source words*. For each source word, calculate its cosine similarities to <ins>6 target words</ins>. The target words of each source word are also selected by you and should cover various levels of semantic relations – according to your linguistic judgement – to the source word, namely from highly-related to not related at all. Organize the target words in tables, such that the target words of each source word are sorted from the highest to the lowest relevance (according to your judgement). Consider the following points:\n",
    "\n",
    "- **Implementation (2/4 points):** Implement cosine similarity as a function that takes two vectors and returns the similarity score. Implement cosine by yourself and do NOT use the provided functionalities of any library.\n",
    "- **Reporting and observations (2/4 points):** Report the calculated similarities side by side with your word-to-word semantic relevance judgements in tables. Compare the results and report your observations.  \n",
    "\n",
    "**Calculating nearest neighbors (10 points).** For the 5 source words, retrieve the $k=10$ nearest neighbors using the word embedding model, namely the words with the highest similarities to the source word. Consider the following points: \n",
    "    \n",
    "- **Overall implementation (3/10 points):** your implemented function takes a source vector, a set of target vectors, and the $k$ parameter, and returns the $k$ nearest neighbors and their similarity scores. Implement nearest neighbor calculation by yourself and do NOT use the provided functionalities of any library.\n",
    "- **Similarity metrics (2/10 points):** execute the calculation of nearest neighbors according to <ins>two similarity metrics</ins> namely cosine and dot product.\n",
    "- **Efficiency (3/10 points):** your nearest neighbor functions should provide an *efficient* calculation of nearest neighbors. An inefficient way (which should be avoided!) would be looping over the set of vectors in the word embedding model, and one by one calculating the cosine/dot product similarity of the source vector to each of the target vectors. As a hint for an efficient way, consider that in `numpy` (and other libraries), calculating the dot product of a vector to a matrix is much faster than the dot products of the vector to each vector of the matrix.\n",
    "- **Reporting and observations (2/10 points):** report the results in tables, which enable comparing between the outputs of the two similarity metrics. Which similarity metric would you prefer? Report your observations.\n",
    "\n",
    "</div>"
   ]
  },
  {
   "cell_type": "code",
   "execution_count": 1,
   "metadata": {},
   "outputs": [
    {
     "name": "stdout",
     "output_type": "stream",
     "text": [
      "Vectorized model already is loaded\n"
     ]
    }
   ],
   "source": [
    "import numpy as np\n",
    "import os\n",
    "from gensim.scripts.glove2word2vec import glove2word2vec\n",
    "from gensim.models import KeyedVectors\n",
    "#DONWLOAD GLOVE  https://nlp.stanford.edu/data/glove.6B.zip\n",
    "#UNZIP glove.6B.50d.txt TO nlp2023_24_data FOLDER!\n",
    "#CHOSE WHITCH MODEL TO USE. DIFFERENCE IN DIMS (50 OR 200 DIMS) FOR EACH WORD\n",
    "# glove_model_200 = 'glove.6B.200d.txt' \n",
    "glove_model_50 = 'glove.6B.50d.txt' \n",
    "glove_model_output = 'glove.6B.50d.word2vec'\n",
    "\n",
    "glove_file = os.path.join('nlp2023_24_data',glove_model_50)\n",
    "output_path = os.path.join('nlp2023_24_data',glove_model_output)\n",
    "\n",
    "if glove_model_output not in os.listdir('nlp2023_24_data'):\n",
    "    glove2word2vec(glove_file, output_path)\n",
    "    print('Vectorized model loaded successfully')\n",
    "else:\n",
    "    print('Vectorized model already is loaded')\n",
    "\n",
    "model = KeyedVectors.load_word2vec_format(output_path, binary=False)"
   ]
  },
  {
   "cell_type": "code",
   "execution_count": 2,
   "metadata": {},
   "outputs": [
    {
     "data": {
      "text/plain": [
       "array([-0.39886 , -0.38697 , -0.98102 , -0.73734 ,  0.59601 , -0.68697 ,\n",
       "        0.92864 , -0.55391 , -0.64797 ,  1.905   ,  0.13123 ,  0.39468 ,\n",
       "       -0.31419 , -0.43111 ,  0.21276 ,  0.23674 , -0.14549 ,  0.092934,\n",
       "       -0.53554 , -0.52874 , -0.081704,  0.483   , -0.23343 , -0.78012 ,\n",
       "        0.1221  , -0.46062 , -0.7033  ,  0.79268 ,  0.57316 ,  0.80763 ,\n",
       "        0.18224 ,  0.65771 ,  0.86961 , -0.6171  , -0.55609 , -0.57299 ,\n",
       "       -0.86216 , -0.47799 ,  0.13029 , -0.47589 , -0.29653 ,  0.28929 ,\n",
       "       -0.80698 ,  0.86925 ,  0.62065 ,  0.065817,  0.43569 , -0.086429,\n",
       "        0.12078 , -0.068994], dtype=float32)"
      ]
     },
     "execution_count": 2,
     "metadata": {},
     "output_type": "execute_result"
    }
   ],
   "source": [
    "model['exuberance']"
   ]
  },
  {
   "cell_type": "markdown",
   "metadata": {},
   "source": [
    "<h2>Calculating word-to-word similarities</h2>"
   ]
  },
  {
   "cell_type": "code",
   "execution_count": 3,
   "metadata": {},
   "outputs": [
    {
     "name": "stdout",
     "output_type": "stream",
     "text": [
      "{'car': {'truck': 29.874138, 'engine': 26.20973, 'highway': 18.092747, 'city': 16.191898, 'apple': 11.067924, 'philosophy': 1.3544093}, 'biology': {'genetics': 23.19556, 'cell': 13.559632, 'organism': 16.193113, 'planet': 7.2513075, 'music': 10.828143, 'art': 15.35717}, 'run': {'jog': 4.92097, 'sprint': 13.820925, 'walk': 15.405635, 'river': 18.98296, 'book': 12.051766, 'emotion': 5.6245804}, 'beautiful': {'gorgeous': 14.923666, 'pretty': 20.525967, 'plain': 14.096434, 'mountain': 14.879229, 'computer': 8.050504, 'economics': 2.8283787}, 'tiger': {'lion': 11.48626, 'leopard': 15.527811, 'forest': 13.777364, 'ocean': 10.410925, 'clock': 3.481723, 'mathematics': -2.3432631}}\n",
      "Source word =  car\n",
      "Primary words, that we made up by ourselves ['truck', 'engine', 'highway', 'city', 'apple', 'philosophy']\n",
      "Words sorted by relevance using model and similarity: ['truck', 'engine', 'highway', 'city', 'apple', 'philosophy']\n",
      "Number of positions that differ: 0\n",
      "\n",
      "\n",
      "Source word =  biology\n",
      "Primary words, that we made up by ourselves ['genetics', 'cell', 'organism', 'planet', 'music', 'art']\n",
      "Words sorted by relevance using model and similarity: ['genetics', 'organism', 'art', 'cell', 'music', 'planet']\n",
      "Number of positions that differ: 4\n",
      "\n",
      "\n",
      "Source word =  run\n",
      "Primary words, that we made up by ourselves ['jog', 'sprint', 'walk', 'river', 'book', 'emotion']\n",
      "Words sorted by relevance using model and similarity: ['river', 'walk', 'sprint', 'book', 'emotion', 'jog']\n",
      "Number of positions that differ: 6\n",
      "\n",
      "\n",
      "Source word =  beautiful\n",
      "Primary words, that we made up by ourselves ['gorgeous', 'pretty', 'plain', 'mountain', 'computer', 'economics']\n",
      "Words sorted by relevance using model and similarity: ['pretty', 'gorgeous', 'mountain', 'plain', 'computer', 'economics']\n",
      "Number of positions that differ: 4\n",
      "\n",
      "\n",
      "Source word =  tiger\n",
      "Primary words, that we made up by ourselves ['lion', 'leopard', 'forest', 'ocean', 'clock', 'mathematics']\n",
      "Words sorted by relevance using model and similarity: ['leopard', 'forest', 'lion', 'ocean', 'clock', 'mathematics']\n",
      "Number of positions that differ: 3\n",
      "\n",
      "\n"
     ]
    }
   ],
   "source": [
    "#Define dictionary of words\n",
    "dictionary = {\n",
    "    \"car\": [\"truck\", \"engine\", \"highway\", \"city\", \"apple\", \"philosophy\"], \n",
    "    \"biology\": [\"genetics\", \"cell\", \"organism\", \"planet\", \"music\", \"art\"], \n",
    "    \"run\": [\"jog\", \"sprint\", \"walk\", \"river\", \"book\", \"emotion\"], \n",
    "    \"beautiful\": [\"gorgeous\", \"pretty\", \"plain\", \"mountain\", \"computer\", \"economics\"], \n",
    "    \"tiger\": [\"lion\", \"leopard\", \"forest\", \"ocean\", \"clock\", \"mathematics\"] \n",
    "}\n",
    "\n",
    "def cosine_similarity(vec1,vec2):\n",
    "    dot_prod = np.dot(vec1,vec2)\n",
    "    norm_vec1 = np.linalg.norm(vec1)\n",
    "    norm_vec2 = np.linalg.norm(vec2)\n",
    "    if norm_vec1 == 0 and norm_vec2 == 0:\n",
    "        return None #division by zero\n",
    "    return (dot_prod)/norm_vec1*norm_vec2\n",
    "\n",
    "#Calculate similarities within our dictionary\n",
    "def dict_similarity(dictionary):\n",
    "    similarities = dict()\n",
    "    for source_word, target_words in dictionary.items():\n",
    "        source_vector = model[source_word]\n",
    "        similarities[source_word] = {}\n",
    "        for word in target_words:\n",
    "            target_vector = model[word]\n",
    "            sim_score = cosine_similarity(source_vector,target_vector)\n",
    "            similarities[source_word][word] = sim_score\n",
    "    return similarities\n",
    "\n",
    "similarities = dict_similarity(dictionary=dictionary)\n",
    "print(similarities)\n",
    "for source_word,sims in similarities.items():\n",
    "    errors = 0\n",
    "    sorted_keys = [key for key, value in sorted(sims.items(), key=lambda x: x[1], reverse=True)]\n",
    "    errors = sum(1  for a,b in zip(dictionary[source_word],sorted_keys) if a != b)\n",
    "    print('Source word = ',source_word)\n",
    "    print('Primary words, that we made up by ourselves',dictionary[source_word])\n",
    "    print('Words sorted by relevance using model and similarity:',sorted_keys)\n",
    "    print('Number of positions that differ:',errors)\n",
    "    print(\"\\n\")"
   ]
  },
  {
   "cell_type": "markdown",
   "metadata": {},
   "source": [
    "<h3>\n",
    "Judging by the results, we see that pretrained models is able to analyze, which words are more relative to the source word, and performes quite well.\n",
    "</h3>"
   ]
  },
  {
   "cell_type": "markdown",
   "metadata": {},
   "source": [
    "<h1>Calculating nearest neighbors</h1>"
   ]
  },
  {
   "cell_type": "code",
   "execution_count": 4,
   "metadata": {},
   "outputs": [],
   "source": [
    "def cosine_similarity_vectorized(source_vector, all_vectors):\n",
    "    source_norm = np.linalg.norm(source_vector)\n",
    "    source_vector_normalized = source_vector / source_norm if source_norm != 0 else source_vector\n",
    "    norms = np.linalg.norm(all_vectors, axis=1)\n",
    "    all_vectors_normalized = all_vectors / norms[:, np.newaxis]\n",
    "    dot_products = np.dot(all_vectors_normalized, source_vector_normalized)\n",
    "    return dot_products\n",
    "\n",
    "def dot_product_vectorized(source_vector,all_vectors):\n",
    "    dot_prod = np.dot(source_vector[None,:],all_vectors.T)\n",
    "    return dot_prod[0]\n",
    "\n",
    "def knns_vectorized(source_vector, metric='', k=10):\n",
    "    all_vectors = np.stack(model.vectors)\n",
    "    if metric == 'Cos':\n",
    "        similarities = cosine_similarity_vectorized(source_vector,all_vectors)\n",
    "    elif metric == 'Dot':\n",
    "        similarities = dot_product_vectorized(source_vector,all_vectors)\n",
    "    else:\n",
    "        return None\n",
    "    top_k_indices = np.argsort(similarities)[::-1][1:k+1]\n",
    "    nearest_neighbors = [(model.index_to_key[i], similarities[i]) for i in top_k_indices]\n",
    "    return nearest_neighbors\n",
    "\n",
    "def find_NN(metric=''):\n",
    "    nearest_sims = dict()\n",
    "    for source_word in dictionary.keys():\n",
    "        if source_word in model:\n",
    "            src_vec = model[source_word]\n",
    "            neighbors = knns_vectorized(src_vec,metric,k=10)\n",
    "            nearest_sims[source_word] = neighbors\n",
    "    return nearest_sims\n",
    "\n",
    "cosine_nns = find_NN('Cos')\n",
    "dot_nns = find_NN('Dot')"
   ]
  },
  {
   "cell_type": "code",
   "execution_count": 5,
   "metadata": {},
   "outputs": [
    {
     "data": {
      "text/plain": [
       "{'car': [('truck', 0.92085856),\n",
       "  ('cars', 0.887019),\n",
       "  ('vehicle', 0.8833684),\n",
       "  ('driver', 0.8464018),\n",
       "  ('driving', 0.8384189),\n",
       "  ('bus', 0.8210512),\n",
       "  ('vehicles', 0.8174993),\n",
       "  ('parked', 0.7902189),\n",
       "  ('motorcycle', 0.7866503),\n",
       "  ('taxi', 0.78339297)],\n",
       " 'biology': [('genetics', 0.8774416),\n",
       "  ('psychology', 0.8697884),\n",
       "  ('biochemistry', 0.8684059),\n",
       "  ('physiology', 0.842956),\n",
       "  ('studies', 0.8365998),\n",
       "  ('chemistry', 0.83150464),\n",
       "  ('science', 0.8275755),\n",
       "  ('neuroscience', 0.8251677),\n",
       "  ('physics', 0.8241898),\n",
       "  ('anthropology', 0.8238296)],\n",
       " 'run': [('running', 0.88025546),\n",
       "  ('runs', 0.8451683),\n",
       "  ('went', 0.84496987),\n",
       "  ('start', 0.83516294),\n",
       "  ('ran', 0.8289676),\n",
       "  ('out', 0.81535935),\n",
       "  ('third', 0.8101338),\n",
       "  ('home', 0.8085863),\n",
       "  ('off', 0.803026),\n",
       "  ('got', 0.8010134)],\n",
       " 'beautiful': [('lovely', 0.9210881),\n",
       "  ('gorgeous', 0.89348644),\n",
       "  ('wonderful', 0.82963794),\n",
       "  ('charming', 0.8249219),\n",
       "  ('beauty', 0.80146843),\n",
       "  ('elegant', 0.7744168),\n",
       "  ('looks', 0.75818247),\n",
       "  ('love', 0.73599404),\n",
       "  ('graceful', 0.73501563),\n",
       "  ('magnificent', 0.7346351)],\n",
       " 'tiger': [('tigers', 0.72392386),\n",
       "  ('woods', 0.6852725),\n",
       "  ('warrior', 0.68220836),\n",
       "  ('ltte', 0.6664599),\n",
       "  ('wild', 0.64957017),\n",
       "  ('elephant', 0.64881015),\n",
       "  ('crocodile', 0.64699656),\n",
       "  ('leopard', 0.64594585),\n",
       "  ('eelam', 0.6417322),\n",
       "  ('warriors', 0.6396878)]}"
      ]
     },
     "execution_count": 5,
     "metadata": {},
     "output_type": "execute_result"
    }
   ],
   "source": [
    "cosine_nns\n",
    "# dot_nns"
   ]
  },
  {
   "cell_type": "code",
   "execution_count": 6,
   "metadata": {},
   "outputs": [
    {
     "data": {
      "text/plain": [
       "{'car': [('cars', 30.951704),\n",
       "  ('truck', 30.054115),\n",
       "  ('vehicles', 27.85709),\n",
       "  ('vehicle', 27.46118),\n",
       "  ('driver', 27.45163),\n",
       "  ('bus', 26.142542),\n",
       "  ('trucks', 26.119501),\n",
       "  ('passenger', 24.767242),\n",
       "  ('parked', 24.730257),\n",
       "  ('engine', 24.139498)],\n",
       " 'biology': [('physics', 28.539175),\n",
       "  ('psychology', 27.960346),\n",
       "  ('molecular', 27.878105),\n",
       "  ('studies', 27.71197),\n",
       "  ('science', 27.552252),\n",
       "  ('biochemistry', 27.493061),\n",
       "  ('research', 27.197535),\n",
       "  ('chemistry', 26.592838),\n",
       "  ('physiology', 26.42691),\n",
       "  ('mathematics', 26.424946)],\n",
       " 'run': [('-', 21.739552),\n",
       "  ('game', 21.67716),\n",
       "  ('off', 21.571707),\n",
       "  ('hit', 21.359304),\n",
       "  ('out', 20.891024),\n",
       "  ('games', 20.794641),\n",
       "  ('runs', 20.52802),\n",
       "  ('win', 20.444843),\n",
       "  ('start', 20.265348),\n",
       "  ('inning', 20.19087)],\n",
       " 'beautiful': [('lovely', 21.259565),\n",
       "  ('#e', 20.99657),\n",
       "  ('love', 20.003838),\n",
       "  ('pretty', 19.728437),\n",
       "  ('wonderful', 19.70658),\n",
       "  ('beauty', 19.690962),\n",
       "  ('elegant', 19.561895),\n",
       "  ('her', 19.557459),\n",
       "  ('very', 19.402338),\n",
       "  ('you', 19.372437)],\n",
       " 'tiger': [('europe/africa', 20.646189),\n",
       "  ('eelam', 19.061539),\n",
       "  ('tigers', 18.702694),\n",
       "  ('ltte', 18.500574),\n",
       "  ('rebels', 17.639183),\n",
       "  ('fighters', 16.981976),\n",
       "  ('rebel', 16.923008),\n",
       "  ('woods', 16.68111),\n",
       "  ('killed', 16.646),\n",
       "  ('guerrillas', 16.607098)]}"
      ]
     },
     "execution_count": 6,
     "metadata": {},
     "output_type": "execute_result"
    }
   ],
   "source": [
    "dot_nns"
   ]
  },
  {
   "cell_type": "markdown",
   "metadata": {},
   "source": [
    "Cosine similarity seems better in this case... Dot product metric gives some unexpected words. Maybe this is the problem of the nature of the pretrained model set..."
   ]
  },
  {
   "cell_type": "markdown",
   "metadata": {},
   "source": [
    "<a name=\"section-taskB\"></a><h2 style=\"color:rgb(0,120,170)\">Task B: Document Classification with WE (15 points)</h2>"
   ]
  },
  {
   "cell_type": "markdown",
   "metadata": {},
   "source": [
    "\n",
    "This task follows the same instruction for document classification as provided in Assignment 1. You are indeed free to reuse any part of your code in Assignment 1 for this task. In Assignment 1, the representation of each document was created using a bag of words representation followed by dimensionality reduction. In this task, the document representations are created from the pre-trained word embeddings.\n",
    "\n",
    "**Map word embeddings to dictionary words (5 points).** For every word in the dictionary (as discussed and created in Assignment 1), fetch the corresponding word embedding from the pre-trained model. If no embedding is found, initialize the corresponding word embedding randomly.\n",
    "\n",
    "**Document embedding as the average of word embeddings (5 points).** Using the word embeddings, the representation of each document is defined as the *mean of the vectors of each document's words*. In particular, given the document $d$, consisting of words $\\left[ v_1, v_2, ..., v_{|d|} \\right]$, the document representation $\\mathbf{e}_d$ is defined as:\n",
    "\n",
    "$\\mathbf{e}_d = \\frac{1}{|d|}\\sum_{i=1}^{|d|}{\\mathbf{e}_{v_i}}$\n",
    "\n",
    "where $\\mathbf{e}_{v}$ is the vector of the word $v$, and $|d|$ is the length of the document.\n",
    "\n",
    "**Classification and evaluation (5 points)** Using these new document representations, apply <ins>three classification algorithms</ins> and report the evaluation results (based on accuracy metric) on the test set.\n",
    "\n"
   ]
  },
  {
   "cell_type": "markdown",
   "metadata": {},
   "source": [
    "<h2>Map word embeddings to dictionary words<h2>"
   ]
  },
  {
   "cell_type": "markdown",
   "metadata": {},
   "source": [
    "<h3> Preprocessing and dictionary creation just like in assignment 1... <h3>"
   ]
  },
  {
   "cell_type": "code",
   "execution_count": 7,
   "metadata": {},
   "outputs": [
    {
     "name": "stderr",
     "output_type": "stream",
     "text": [
      "[nltk_data] Downloading package stopwords to\n",
      "[nltk_data]     /Users/nikita/nltk_data...\n",
      "[nltk_data]   Package stopwords is already up-to-date!\n",
      "[nltk_data] Downloading package punkt to /Users/nikita/nltk_data...\n",
      "[nltk_data]   Package punkt is already up-to-date!\n"
     ]
    }
   ],
   "source": [
    "import pandas as pd\n",
    "import numpy as np\n",
    "import nltk\n",
    "from nltk.corpus import stopwords\n",
    "from nltk.tokenize import RegexpTokenizer\n",
    "from nltk.tokenize import word_tokenize\n",
    "nltk.download('stopwords')\n",
    "nltk.download('punkt')\n",
    "stopwords = stopwords.words('english')\n",
    "\n",
    "test_path = \"nlp2023_24_data/thedeep.subset.test.txt\"\n",
    "train_path = \"nlp2023_24_data/thedeep.subset.train.txt\"\n",
    "valid_path = \"nlp2023_24_data/thedeep.subset.validation.txt\"\n",
    "labels = \"nlp2023_24_data/thedeep.labels.txt\"\n",
    "\n",
    "df_test = pd.read_csv(test_path, header=None, names=[\"ID\", \"Text\", \"Label\"], delimiter=\",\")\n",
    "df_train = pd.read_csv(train_path, header=None, names=[\"ID\", \"Text\", \"Label\"], delimiter=\",\")\n",
    "df_valid = pd.read_csv(valid_path, header=None, names=[\"ID\", \"Text\", \"Label\"], delimiter=\",\")\n",
    "labels = pd.read_csv(labels, header=None, names=[\"ID\", \"Label\"], delimiter=\",\")\n",
    "\n",
    "\n",
    "import re\n",
    "from nltk.stem.porter import *\n",
    "\n",
    "#Text preprocesssing performed. \n",
    "#Lower all the words in the sentence\n",
    "#Tokenize each word (sentence is represented as list of elements, where each element is a word)\n",
    "#Remove numbers \n",
    "#Remove stowpords, such as 'i'm' . Remove punctuation!\n",
    "#Use stemmer. attacks -> attack\n",
    "def preprocessing(df):\n",
    "    \"Takes unprocessed Dataframe and returns already modified dataframe.\"\n",
    "    for i,row in df.iterrows():\n",
    "        sentence = row['Text'].lower()\n",
    "        sentence = re.sub(r'\\d+','',sentence)\n",
    "        # sentence = sentence.split()\n",
    "        tokenizer = RegexpTokenizer(r'\\w+|<NUM>')\n",
    "        sentence = tokenizer.tokenize(sentence)\n",
    "        remove_stopw = [word for word in sentence if not word in stopwords]\n",
    "        stemmer = PorterStemmer()\n",
    "        stemmed_sentence = [stemmer.stem(word) for word in remove_stopw]\n",
    "        df.at[i, 'Text'] = stemmed_sentence\n",
    "    return df\n",
    "\n",
    "#PREPROCESS ALL THE DATASETS\n",
    "df_test_prepr = preprocessing(df_test)\n",
    "df_train_prepr = preprocessing(df_train)\n",
    "df_valid_prepr = preprocessing(df_valid)\n",
    "\n",
    "\n",
    "from collections import Counter\n",
    "\n",
    "\n",
    "def create_vocab_dict(preprocessed: pd.DataFrame = df_train_prepr,\n",
    "                      topN: int = 1000):\n",
    "\n",
    "    all_words = list([item for sublist in preprocessed['Text'] for item in sublist])\n",
    "\n",
    "    dictionary = pd.DataFrame.from_dict(Counter(all_words), orient='index').reset_index()\n",
    "    dict_full = dictionary.rename(columns={'index':'word', 0:'count'})\n",
    "    dict_full = dict_full.sort_values(by='count', ascending = False)\n",
    "    dict_cut = dict_full.head(topN)\n",
    "    \n",
    "    return dict_full, dict_cut\n",
    "\n",
    "dict_size = 1500\n",
    "\n",
    "\n",
    "dict_full, dict_cut = create_vocab_dict(topN=dict_size)"
   ]
  },
  {
   "cell_type": "code",
   "execution_count": 8,
   "metadata": {},
   "outputs": [
    {
     "data": {
      "text/html": [
       "<div>\n",
       "<style scoped>\n",
       "    .dataframe tbody tr th:only-of-type {\n",
       "        vertical-align: middle;\n",
       "    }\n",
       "\n",
       "    .dataframe tbody tr th {\n",
       "        vertical-align: top;\n",
       "    }\n",
       "\n",
       "    .dataframe thead th {\n",
       "        text-align: right;\n",
       "    }\n",
       "</style>\n",
       "<table border=\"1\" class=\"dataframe\">\n",
       "  <thead>\n",
       "    <tr style=\"text-align: right;\">\n",
       "      <th></th>\n",
       "      <th>word</th>\n",
       "      <th>count</th>\n",
       "      <th>embedding</th>\n",
       "    </tr>\n",
       "  </thead>\n",
       "  <tbody>\n",
       "    <tr>\n",
       "      <th>284</th>\n",
       "      <td>case</td>\n",
       "      <td>5767</td>\n",
       "      <td>[0.70055, -0.24096, -0.3338, 0.73864, 0.58329,...</td>\n",
       "    </tr>\n",
       "    <tr>\n",
       "      <th>156</th>\n",
       "      <td>report</td>\n",
       "      <td>5146</td>\n",
       "      <td>[0.15859, -0.19642, 0.4408, 0.15705, 0.14152, ...</td>\n",
       "    </tr>\n",
       "    <tr>\n",
       "      <th>51</th>\n",
       "      <td>food</td>\n",
       "      <td>4380</td>\n",
       "      <td>[0.47222, -0.44545, -0.51833, -0.26818, 0.4442...</td>\n",
       "    </tr>\n",
       "    <tr>\n",
       "      <th>17</th>\n",
       "      <td>peopl</td>\n",
       "      <td>3910</td>\n",
       "      <td>[0.8696566854411634, 0.8550695017339751, 0.767...</td>\n",
       "    </tr>\n",
       "    <tr>\n",
       "      <th>27</th>\n",
       "      <td>area</td>\n",
       "      <td>3572</td>\n",
       "      <td>[0.87797, 0.20571, -0.12058, -0.010709, -0.053...</td>\n",
       "    </tr>\n",
       "    <tr>\n",
       "      <th>...</th>\n",
       "      <td>...</td>\n",
       "      <td>...</td>\n",
       "      <td>...</td>\n",
       "    </tr>\n",
       "    <tr>\n",
       "      <th>592</th>\n",
       "      <td>describ</td>\n",
       "      <td>54</td>\n",
       "      <td>[0.6483389268588157, 0.5759145882613071, 0.099...</td>\n",
       "    </tr>\n",
       "    <tr>\n",
       "      <th>1235</th>\n",
       "      <td>attent</td>\n",
       "      <td>54</td>\n",
       "      <td>[0.014638221812992458, 0.2840547454931388, 0.4...</td>\n",
       "    </tr>\n",
       "    <tr>\n",
       "      <th>3051</th>\n",
       "      <td>might</td>\n",
       "      <td>54</td>\n",
       "      <td>[0.83844, -0.094368, 0.4576, -0.18146, 0.33734...</td>\n",
       "    </tr>\n",
       "    <tr>\n",
       "      <th>1277</th>\n",
       "      <td>escap</td>\n",
       "      <td>54</td>\n",
       "      <td>[0.80162, 0.12033, -0.72952, 0.72232, -0.1583,...</td>\n",
       "    </tr>\n",
       "    <tr>\n",
       "      <th>642</th>\n",
       "      <td>send</td>\n",
       "      <td>54</td>\n",
       "      <td>[0.6427, 0.033631, 1.0427, -0.38891, 0.56415, ...</td>\n",
       "    </tr>\n",
       "  </tbody>\n",
       "</table>\n",
       "<p>1500 rows × 3 columns</p>\n",
       "</div>"
      ],
      "text/plain": [
       "         word  count                                          embedding\n",
       "284      case   5767  [0.70055, -0.24096, -0.3338, 0.73864, 0.58329,...\n",
       "156    report   5146  [0.15859, -0.19642, 0.4408, 0.15705, 0.14152, ...\n",
       "51       food   4380  [0.47222, -0.44545, -0.51833, -0.26818, 0.4442...\n",
       "17      peopl   3910  [0.8696566854411634, 0.8550695017339751, 0.767...\n",
       "27       area   3572  [0.87797, 0.20571, -0.12058, -0.010709, -0.053...\n",
       "...       ...    ...                                                ...\n",
       "592   describ     54  [0.6483389268588157, 0.5759145882613071, 0.099...\n",
       "1235   attent     54  [0.014638221812992458, 0.2840547454931388, 0.4...\n",
       "3051    might     54  [0.83844, -0.094368, 0.4576, -0.18146, 0.33734...\n",
       "1277    escap     54  [0.80162, 0.12033, -0.72952, 0.72232, -0.1583,...\n",
       "642      send     54  [0.6427, 0.033631, 1.0427, -0.38891, 0.56415, ...\n",
       "\n",
       "[1500 rows x 3 columns]"
      ]
     },
     "execution_count": 8,
     "metadata": {},
     "output_type": "execute_result"
    }
   ],
   "source": [
    "# now fetching the embeddings for all the words in a dictionary\n",
    "\n",
    "def create_dict_embeddings(dictionary):\n",
    "    embeddings = []\n",
    "    key_errors = 0\n",
    "    for word in dictionary['word']:\n",
    "        try:\n",
    "            embeddings.append(model[word])\n",
    "        except KeyError:\n",
    "            key_errors += 1\n",
    "            embeddings.append(np.random.rand(50, ))\n",
    "            \n",
    "    return embeddings, key_errors\n",
    "\n",
    "dict_cut_copy = dict_cut.copy()\n",
    "\n",
    "\n",
    "embeddings, key_errors = create_dict_embeddings(dict_cut_copy)\n",
    "\n",
    "\n",
    "dict_cut_copy['embedding'] = embeddings\n",
    "\n",
    "dict_cut_copy"
   ]
  },
  {
   "cell_type": "code",
   "execution_count": 12,
   "metadata": {},
   "outputs": [
    {
     "name": "stdout",
     "output_type": "stream",
     "text": [
      "There are 404 words that our model doesn't norm, e.g number of randomly initialied embeddings\n"
     ]
    }
   ],
   "source": [
    "print(f\"There are {key_errors} words that our model doesn't norm, e.g number of randomly initialied embeddings\")"
   ]
  },
  {
   "cell_type": "markdown",
   "metadata": {},
   "source": [
    "<h2>Document embedding as the average of word embeddings<h2>"
   ]
  },
  {
   "cell_type": "code",
   "execution_count": 10,
   "metadata": {},
   "outputs": [],
   "source": [
    "from tqdm import tqdm\n",
    "\n",
    "def create_document_embeddings(preprocessed_text: pd.DataFrame,\n",
    "                               dictionary: pd.DataFrame,\n",
    "                               vector_size):\n",
    "\n",
    "    word_to_embedding = {row['word']: row['embedding'] for index, row in dictionary.iterrows()}\n",
    "\n",
    "    def embed_sentence(sentence: list):\n",
    "        embeddings = [word_to_embedding[word] for word in sentence if word in word_to_embedding]\n",
    "\n",
    "        if len(embeddings) == 0:\n",
    "            return np.zeros(vector_size)\n",
    "\n",
    "        embedding = np.mean(embeddings, axis=0)\n",
    "        return embedding\n",
    "\n",
    "    preprocessed_text['embedding'] = [embed_sentence(sentence) for sentence in preprocessed_text['Text']]\n",
    "    return preprocessed_text"
   ]
  },
  {
   "cell_type": "code",
   "execution_count": 11,
   "metadata": {},
   "outputs": [
    {
     "data": {
      "text/plain": [
       "[array([ 0.55330342,  0.31207764,  0.2267386 , -0.19355781,  0.4229329 ,\n",
       "         0.29583112, -0.06456535,  0.15108671,  0.59199896,  0.05745153,\n",
       "         0.1293898 ,  0.19462915,  0.14568183,  0.03093926,  0.57291578,\n",
       "         0.22292512,  0.4100585 ,  0.11366188,  0.22613144,  0.04731485,\n",
       "         0.05457017,  0.49579562,  0.21019568,  0.14660563,  0.28885163,\n",
       "        -0.65028476,  0.1064427 , -0.02762652,  0.38585986, -0.08632814,\n",
       "         1.98965678,  0.5463145 , -0.2881889 , -0.16491298, -0.0399066 ,\n",
       "         0.4023424 ,  0.35061   , -0.00481175,  0.26339781, -0.08785586,\n",
       "        -0.02052035,  0.15012285,  0.43695064,  0.23840454,  0.3390273 ,\n",
       "         0.16764951, -0.05589956,  0.01977514,  0.07580689,  0.30603809]),\n",
       " array([ 0.35138201,  0.2336866 ,  0.22150774,  0.24596995,  0.25103446,\n",
       "         0.07161277,  0.12064059, -0.02120143,  0.37073194,  0.02529988,\n",
       "         0.17431689, -0.23002652,  0.27640961, -0.08210267,  0.31269815,\n",
       "         0.43836443,  0.24851324,  0.24732382,  0.0192938 ,  0.0265521 ,\n",
       "         0.32183355, -0.07742268,  0.13855047,  0.16957717,  0.03325723,\n",
       "        -0.25408785,  0.19264797,  0.14031706,  0.15992819,  0.35886511,\n",
       "         1.72505214,  0.35395867,  0.08556106,  0.05629302,  0.32357651,\n",
       "         0.13246953,  0.18732029,  0.30086947,  0.30251516,  0.14001984,\n",
       "        -0.13509082,  0.09761449,  0.35257482,  0.23222504, -0.04388041,\n",
       "         0.16000366,  0.29592139,  0.29136706,  0.32197343,  0.10399357]),\n",
       " array([ 0.31102873,  0.13697078,  0.13025778,  0.13346473,  0.15139328,\n",
       "         0.17517815, -0.11160522,  0.03903201,  0.38156033,  0.19909949,\n",
       "         0.27698478,  0.19037277,  0.28919873,  0.02771816,  0.38906742,\n",
       "         0.29505395,  0.09622622, -0.00869317,  0.03744274, -0.16922268,\n",
       "         0.43439729, -0.08176214,  0.20514387, -0.03218796, -0.03390998,\n",
       "        -0.79189286,  0.18486615,  0.19819721,  0.40550519,  0.36877431,\n",
       "         2.23802074,  0.19934031,  0.1292832 ,  0.11564662,  0.25813919,\n",
       "         0.12862405,  0.074689  ,  0.11299694,  0.07287832,  0.15093647,\n",
       "        -0.07275929,  0.29621308,  0.4814064 ,  0.11392627,  0.28602655,\n",
       "         0.19440392, -0.12641534,  0.51995579,  0.14486009, -0.00578554]),\n",
       " array([ 3.67480109e-01,  2.32371953e-01,  9.02182974e-02,  1.27013797e-02,\n",
       "         6.52723161e-02, -2.28647466e-01, -3.99119276e-01,  5.24762878e-03,\n",
       "         3.23255857e-01, -2.91823843e-01, -2.05083392e-02, -4.11100335e-01,\n",
       "         2.17143773e-01, -3.63957516e-01,  2.69908646e-02,  3.48407729e-01,\n",
       "         4.76507073e-01,  1.38317158e-01, -4.80765243e-01,  1.11771805e-01,\n",
       "         1.71950982e-01, -1.88858138e-01,  2.76351512e-01,  4.84033006e-03,\n",
       "         6.42861863e-03, -8.21745558e-01,  7.25177190e-02,  2.48952167e-01,\n",
       "         2.88705039e-01,  1.12686738e-01,  2.79909931e+00,  1.23731371e-02,\n",
       "         5.54335026e-02, -8.40003354e-02,  2.56458921e-01,  1.59883314e-01,\n",
       "        -8.42791673e-02,  9.75761717e-02,  2.21581604e-01,  3.04939799e-01,\n",
       "        -4.68992242e-01,  1.11370986e-01,  1.77435424e-01, -3.09857892e-01,\n",
       "        -2.78136933e-02,  2.50674567e-01, -5.00545559e-02, -1.34711080e-01,\n",
       "        -1.11284916e-03, -2.69264866e-01]),\n",
       " array([ 0.1929629 ,  0.09265895,  0.26903029,  0.12525815,  0.22005135,\n",
       "         0.13196758,  0.01612206, -0.08687614,  0.32871773,  0.11947461,\n",
       "         0.23951805, -0.01870778,  0.34153431, -0.27862149,  0.44496036,\n",
       "         0.32616437,  0.09157866,  0.25803138, -0.04708577,  0.07246743,\n",
       "         0.24078576, -0.30328934,  0.24372416, -0.01193229,  0.0301851 ,\n",
       "        -0.44147157,  0.13673319,  0.07145394,  0.30705629,  0.33292463,\n",
       "         1.83702397,  0.14126448,  0.1665766 ,  0.04214413,  0.24395151,\n",
       "         0.18771006,  0.02063763,  0.25177259,  0.27579143,  0.01906612,\n",
       "        -0.09530922,  0.12244045,  0.18194581,  0.07376401,  0.14161952,\n",
       "         0.13808919,  0.13692306,  0.34300201,  0.17507429,  0.22475153])]"
      ]
     },
     "execution_count": 11,
     "metadata": {},
     "output_type": "execute_result"
    }
   ],
   "source": [
    "X_train = create_document_embeddings(df_train_prepr, dict_cut_copy, 50)['embedding'].to_list()\n",
    "y_train = df_train_prepr['Label']\n",
    "\n",
    "X_test = create_document_embeddings(df_test_prepr, dict_cut_copy, 50)['embedding'].to_list()\n",
    "y_test = df_test_prepr['Label']\n",
    "\n",
    "X_val = create_document_embeddings(df_valid_prepr, dict_cut_copy, 50)['embedding'].to_list()\n",
    "y_val = df_valid_prepr['Label']\n",
    "\n",
    "X_train[:5]"
   ]
  },
  {
   "cell_type": "markdown",
   "metadata": {},
   "source": [
    "<h2>Classification and evaluation<h2>"
   ]
  },
  {
   "cell_type": "markdown",
   "metadata": {},
   "source": [
    "<h3>Neural Net<h3>"
   ]
  },
  {
   "cell_type": "code",
   "execution_count": 172,
   "metadata": {},
   "outputs": [
    {
     "data": {
      "text/plain": [
       "'2.1.0'"
      ]
     },
     "execution_count": 172,
     "metadata": {},
     "output_type": "execute_result"
    }
   ],
   "source": [
    "import torch\n",
    "from torch import nn\n",
    "from torch.utils.data import DataLoader, Dataset\n",
    "import torch.nn.functional as F\n",
    "device = 'cuda' if torch.cuda.is_available() else 'cpu'\n",
    "import matplotlib.pyplot as plt\n",
    "# torch.set_default_device(device)\n",
    "# torch.set_default_dtype(torch.float32)\n",
    "torch.__version__"
   ]
  },
  {
   "cell_type": "code",
   "execution_count": 173,
   "metadata": {},
   "outputs": [],
   "source": [
    "class SimpleNetwork(nn.Module):\n",
    "    def __init__(self, feature_dim, hidden_dim, output_dim, dropout_prob = 0.2):\n",
    "        super().__init__()\n",
    "        \n",
    "        \"Only 1 hidden layer, we don't need a complex model\"\n",
    "        \n",
    "        self.layer1 = nn.Sequential(\n",
    "            nn.Linear(feature_dim, hidden_dim),\n",
    "            nn.BatchNorm1d(hidden_dim),\n",
    "            nn.ReLU(),\n",
    "            nn.Dropout(dropout_prob))\n",
    "\n",
    "        \n",
    "        self.classifier = nn.Linear(hidden_dim, output_dim)\n",
    "        \n",
    "    def forward(self,x):\n",
    "        return self.classifier(self.layer1(x))"
   ]
  },
  {
   "cell_type": "code",
   "execution_count": 174,
   "metadata": {},
   "outputs": [],
   "source": [
    "class WordDataset(Dataset):\n",
    "    def __init__(self, feature_set, labels):\n",
    "        \"Define data split and corresponding labels\"\n",
    "        self.feature_set = torch.tensor(feature_set, dtype=torch.float32)\n",
    "        self.labels = torch.tensor(labels, dtype=torch.long)\n",
    "        \n",
    "    def __len__(self):\n",
    "        return len(self.labels)\n",
    "    \n",
    "    def __getitem__(self, index):\n",
    "        return self.feature_set[index], self.labels[index]"
   ]
  },
  {
   "cell_type": "code",
   "execution_count": 175,
   "metadata": {},
   "outputs": [],
   "source": [
    "from tqdm.auto import tqdm\n",
    "from pathlib import Path\n",
    "\n",
    "\n",
    "def train_step(model: nn.Module,\n",
    "               dataloader: torch.utils.data.DataLoader,\n",
    "               loss_fn: torch.nn.modules.loss,\n",
    "               optimizer: torch.optim):\n",
    "    \n",
    "    train_loss, train_acc = 0, 0\n",
    "    \n",
    "    model.train()\n",
    "    \n",
    "    for batch, (X,y) in enumerate(dataloader):\n",
    "        y_pred = model(X)\n",
    "        loss = loss_fn(y_pred, y)\n",
    "        loss.backward()\n",
    "        optimizer.step()\n",
    "        optimizer.zero_grad()\n",
    "        \n",
    "        y_class = torch.argmax(torch.softmax(y_pred, dim=1), dim=1)\n",
    "        acc = torch.eq(y_class, y).sum().item() / len(y_pred)\n",
    "        \n",
    "        train_loss += loss.item()\n",
    "        train_acc += acc\n",
    "    \n",
    "    train_loss /= len(dataloader)\n",
    "    train_acc /= len(dataloader)\n",
    "    \n",
    "    return train_loss, train_acc\n",
    "    \n",
    "    \n",
    "    \n",
    "def valid_step(model: nn. Module,\n",
    "              dataloader: torch.utils.data.DataLoader,\n",
    "              loss_fn : nn.Module):\n",
    "\n",
    "    model.eval()\n",
    "\n",
    "    valid_loss, valid_acc = 0, 0\n",
    "    with torch.inference_mode():\n",
    "        for batch, (X, y) in enumerate(dataloader):\n",
    "            y_pred = model(X)\n",
    "            loss = loss_fn(y_pred, y)\n",
    "            y_class = torch.argmax(torch.softmax(y_pred, dim=1), dim=1)\n",
    "            valid_loss += loss.item()\n",
    "            valid_acc += torch.eq(y_class, y).sum().item() / len(y_pred)\n",
    "\n",
    "    valid_loss /= len(dataloader)\n",
    "    valid_acc /= len(dataloader)\n",
    "\n",
    "    return valid_loss, valid_acc\n",
    "\n",
    "def train_validate_save(model: nn.Module,\n",
    "          train_loader: torch.utils.data.DataLoader,\n",
    "          val_loader: torch.utils.data.DataLoader,\n",
    "          optimizer: torch.optim,\n",
    "          loss_fn: nn.Module,\n",
    "          model_name: str,\n",
    "          epochs = 10,\n",
    "          save = True,\n",
    "          stats_show = True):\n",
    "\n",
    "    results = dict(train_loss=[], train_acc=[], valid_loss=[], valid_acc=[])\n",
    "\n",
    "    for epoch in tqdm(range(epochs)):\n",
    "        train_loss, train_acc = train_step(model=model,\n",
    "                                           dataloader=train_loader,\n",
    "                                           optimizer=optimizer,\n",
    "                                           loss_fn=loss_fn)\n",
    "\n",
    "        \n",
    "        val_loss, val_acc = valid_step(model=model,\n",
    "                                       dataloader=val_loader,\n",
    "                                      loss_fn=loss_fn)\n",
    "        \n",
    "        \n",
    "        if epoch % 5 == 0:\n",
    "            print(f\"Epoch: {epoch+5} | Train loss: {train_loss:.4f} | Train acc: {train_acc:.4f} | Validation loss: {val_loss:.4f} | Validation acc: {val_acc:.4f}\")\n",
    "        results['train_loss'].append(train_loss)\n",
    "        results['train_acc'].append(train_acc)\n",
    "        results['valid_loss'].append(val_loss)\n",
    "        results['valid_acc'].append(val_acc)\n",
    "        \n",
    "    if save:\n",
    "        \n",
    "        path = Path('torch_models')\n",
    "        path.mkdir(exist_ok = True)\n",
    "\n",
    "        torch.save(model.state_dict(), f'torch_models/{model_name}({epochs}_epochs).pth')\n",
    "        \n",
    "\n",
    "    plt.figure(figsize=(15, 7))\n",
    "\n",
    "    epochs = np.arange(epochs)\n",
    "    plt.subplot(1, 2, 1)\n",
    "    plt.plot(epochs, results[\"train_loss\"], label = 'train loss')\n",
    "    plt.plot(epochs, results[\"valid_loss\"], label = 'valid_loss')\n",
    "    plt.title(f'Loss-{model_name}')\n",
    "\n",
    "    plt.legend()\n",
    "\n",
    "    plt.subplot(1, 2, 2)\n",
    "\n",
    "    plt.plot(epochs, results[\"train_acc\"], label='train accuracy')\n",
    "    plt.plot(epochs, results[\"valid_acc\"], label='validation accuracy')\n",
    "    plt.title(f'Accuracy-{model_name}')\n",
    "\n",
    "    plt.legend()\n",
    "\n",
    "    plt.suptitle(f'{model_name} curves')\n",
    "    \n",
    "    plt.savefig(f'torch_models/{model_name}_train_stats')\n",
    "    \n",
    "    if not stats_show:\n",
    "\n",
    "        plt.close()\n",
    "    \n",
    "    return model\n"
   ]
  },
  {
   "cell_type": "code",
   "execution_count": 176,
   "metadata": {},
   "outputs": [],
   "source": [
    "def get_loaded_model(model: nn.Module,\n",
    "                     state_dict_path: str):\n",
    "    \n",
    "    \"Upload saved state_dict(parameters) to previously defined torch model\"\n",
    "    \n",
    "    state_dict = torch.load(state_dict_path)\n",
    "    model.load_state_dict(state_dict)\n",
    "    return model\n",
    "\n",
    "\n",
    "def predict_sentence(model, feature):\n",
    "    feature = np.array(feature)\n",
    "    feature = torch.tensor(feature, dtype=torch.float32).unsqueeze(0)\n",
    "    with torch.no_grad():\n",
    "        pred = model(feature)\n",
    "        pred = F.softmax(pred, dim=1)\n",
    "        pred = torch.argmax(pred, dim=1)\n",
    "    return pred.item()"
   ]
  },
  {
   "cell_type": "code",
   "execution_count": 177,
   "metadata": {},
   "outputs": [],
   "source": [
    "train_data = WordDataset(feature_set=X_train,  \n",
    "                               labels=y_train)\n",
    "\n",
    "valid_data = WordDataset(feature_set=X_val,  \n",
    "                               labels=y_val)\n",
    "\n",
    "\n",
    "train_loader = DataLoader(dataset=train_data,\n",
    "                                batch_size=32,\n",
    "                                shuffle=True)\n",
    "\n",
    "valid_loader = DataLoader(dataset=valid_data,\n",
    "                                batch_size=32,\n",
    "                                shuffle=False)\n"
   ]
  },
  {
   "cell_type": "code",
   "execution_count": 178,
   "metadata": {},
   "outputs": [],
   "source": [
    "nn_model = SimpleNetwork(feature_dim = 50,\n",
    "                         hidden_dim = 100,\n",
    "                         output_dim = len(labels))\n",
    "\n",
    "optimizer = torch.optim.Adam(params = nn_model.parameters())\n",
    "\n",
    "\n",
    "loss_fn = nn.CrossEntropyLoss()"
   ]
  },
  {
   "cell_type": "code",
   "execution_count": 179,
   "metadata": {},
   "outputs": [
    {
     "data": {
      "application/vnd.jupyter.widget-view+json": {
       "model_id": "60dcb624e1b445ef9ae14eaa2499f5d5",
       "version_major": 2,
       "version_minor": 0
      },
      "text/plain": [
       "  0%|          | 0/30 [00:00<?, ?it/s]"
      ]
     },
     "metadata": {},
     "output_type": "display_data"
    },
    {
     "name": "stdout",
     "output_type": "stream",
     "text": [
      "Epoch: 5 | Train loss: 1.4349 | Train acc: 0.5785 | Validation loss: 1.1032 | Validation acc: 0.6677\n",
      "Epoch: 10 | Train loss: 1.0247 | Train acc: 0.6929 | Validation loss: 0.9805 | Validation acc: 0.7039\n",
      "Epoch: 15 | Train loss: 0.9844 | Train acc: 0.7011 | Validation loss: 0.9646 | Validation acc: 0.7123\n",
      "Epoch: 20 | Train loss: 0.9461 | Train acc: 0.7148 | Validation loss: 0.9553 | Validation acc: 0.7264\n",
      "Epoch: 25 | Train loss: 0.9269 | Train acc: 0.7154 | Validation loss: 0.9482 | Validation acc: 0.7275\n",
      "Epoch: 30 | Train loss: 0.9181 | Train acc: 0.7226 | Validation loss: 0.9512 | Validation acc: 0.7191\n"
     ]
    },
    {
     "data": {
      "text/plain": [
       "SimpleNetwork(\n",
       "  (layer1): Sequential(\n",
       "    (0): Linear(in_features=50, out_features=100, bias=True)\n",
       "    (1): BatchNorm1d(100, eps=1e-05, momentum=0.1, affine=True, track_running_stats=True)\n",
       "    (2): ReLU()\n",
       "    (3): Dropout(p=0.2, inplace=False)\n",
       "  )\n",
       "  (classifier): Linear(in_features=100, out_features=12, bias=True)\n",
       ")"
      ]
     },
     "execution_count": 179,
     "metadata": {},
     "output_type": "execute_result"
    },
    {
     "data": {
      "image/png": "[encoded data removed]",
      "text/plain": [
       "<Figure size 1080x504 with 2 Axes>"
      ]
     },
     "metadata": {
      "needs_background": "light"
     },
     "output_type": "display_data"
    }
   ],
   "source": [
    "train_validate_save(nn_model, train_loader, valid_loader, optimizer,\n",
    "                   loss_fn, 'nn_embedding',\n",
    "                   epochs = 30)"
   ]
  },
  {
   "cell_type": "code",
   "execution_count": 181,
   "metadata": {},
   "outputs": [
    {
     "name": "stdout",
     "output_type": "stream",
     "text": [
      "Fitting 5 folds for each of 12 candidates, totalling 60 fits\n",
      "[CV 1/5] END ...C=0.01, gamma=0.001, kernel=rbf;, score=0.240 total time=   0.0s\n",
      "[CV 2/5] END ...C=0.01, gamma=0.001, kernel=rbf;, score=0.230 total time=   0.0s\n",
      "[CV 3/5] END ...C=0.01, gamma=0.001, kernel=rbf;, score=0.230 total time=   0.0s\n",
      "[CV 4/5] END ...C=0.01, gamma=0.001, kernel=rbf;, score=0.230 total time=   0.0s\n",
      "[CV 5/5] END ...C=0.01, gamma=0.001, kernel=rbf;, score=0.230 total time=   0.0s\n",
      "[CV 1/5] END ....C=0.01, gamma=0.01, kernel=rbf;, score=0.240 total time=   0.0s\n",
      "[CV 2/5] END ....C=0.01, gamma=0.01, kernel=rbf;, score=0.230 total time=   0.0s\n",
      "[CV 3/5] END ....C=0.01, gamma=0.01, kernel=rbf;, score=0.230 total time=   0.0s\n",
      "[CV 4/5] END ....C=0.01, gamma=0.01, kernel=rbf;, score=0.230 total time=   0.0s\n",
      "[CV 5/5] END ....C=0.01, gamma=0.01, kernel=rbf;, score=0.230 total time=   0.0s\n",
      "[CV 1/5] END .....C=0.01, gamma=0.1, kernel=rbf;, score=0.240 total time=   0.0s\n",
      "[CV 2/5] END .....C=0.01, gamma=0.1, kernel=rbf;, score=0.230 total time=   0.0s\n",
      "[CV 3/5] END .....C=0.01, gamma=0.1, kernel=rbf;, score=0.230 total time=   0.0s\n",
      "[CV 4/5] END .....C=0.01, gamma=0.1, kernel=rbf;, score=0.230 total time=   0.0s\n",
      "[CV 5/5] END .....C=0.01, gamma=0.1, kernel=rbf;, score=0.230 total time=   0.0s\n",
      "[CV 1/5] END ......C=1, gamma=0.001, kernel=rbf;, score=0.240 total time=   0.0s\n",
      "[CV 2/5] END ......C=1, gamma=0.001, kernel=rbf;, score=0.230 total time=   0.0s\n",
      "[CV 3/5] END ......C=1, gamma=0.001, kernel=rbf;, score=0.230 total time=   0.0s\n",
      "[CV 4/5] END ......C=1, gamma=0.001, kernel=rbf;, score=0.230 total time=   0.0s\n",
      "[CV 5/5] END ......C=1, gamma=0.001, kernel=rbf;, score=0.230 total time=   0.0s\n",
      "[CV 1/5] END .......C=1, gamma=0.01, kernel=rbf;, score=0.270 total time=   0.0s\n",
      "[CV 2/5] END .......C=1, gamma=0.01, kernel=rbf;, score=0.280 total time=   0.0s\n",
      "[CV 3/5] END .......C=1, gamma=0.01, kernel=rbf;, score=0.280 total time=   0.0s\n",
      "[CV 4/5] END .......C=1, gamma=0.01, kernel=rbf;, score=0.280 total time=   0.0s\n",
      "[CV 5/5] END .......C=1, gamma=0.01, kernel=rbf;, score=0.280 total time=   0.0s\n",
      "[CV 1/5] END ........C=1, gamma=0.1, kernel=rbf;, score=0.520 total time=   0.0s\n",
      "[CV 2/5] END ........C=1, gamma=0.1, kernel=rbf;, score=0.540 total time=   0.0s\n",
      "[CV 3/5] END ........C=1, gamma=0.1, kernel=rbf;, score=0.550 total time=   0.0s\n",
      "[CV 4/5] END ........C=1, gamma=0.1, kernel=rbf;, score=0.520 total time=   0.0s\n",
      "[CV 5/5] END ........C=1, gamma=0.1, kernel=rbf;, score=0.570 total time=   0.0s\n",
      "[CV 1/5] END .....C=10, gamma=0.001, kernel=rbf;, score=0.290 total time=   0.0s\n",
      "[CV 2/5] END .....C=10, gamma=0.001, kernel=rbf;, score=0.310 total time=   0.0s\n",
      "[CV 3/5] END .....C=10, gamma=0.001, kernel=rbf;, score=0.280 total time=   0.0s\n",
      "[CV 4/5] END .....C=10, gamma=0.001, kernel=rbf;, score=0.310 total time=   0.0s\n",
      "[CV 5/5] END .....C=10, gamma=0.001, kernel=rbf;, score=0.280 total time=   0.0s\n",
      "[CV 1/5] END ......C=10, gamma=0.01, kernel=rbf;, score=0.530 total time=   0.0s\n",
      "[CV 2/5] END ......C=10, gamma=0.01, kernel=rbf;, score=0.580 total time=   0.0s\n",
      "[CV 3/5] END ......C=10, gamma=0.01, kernel=rbf;, score=0.590 total time=   0.0s\n",
      "[CV 4/5] END ......C=10, gamma=0.01, kernel=rbf;, score=0.520 total time=   0.0s\n",
      "[CV 5/5] END ......C=10, gamma=0.01, kernel=rbf;, score=0.590 total time=   0.0s\n",
      "[CV 1/5] END .......C=10, gamma=0.1, kernel=rbf;, score=0.540 total time=   0.0s\n",
      "[CV 2/5] END .......C=10, gamma=0.1, kernel=rbf;, score=0.590 total time=   0.0s\n",
      "[CV 3/5] END .......C=10, gamma=0.1, kernel=rbf;, score=0.670 total time=   0.0s\n",
      "[CV 4/5] END .......C=10, gamma=0.1, kernel=rbf;, score=0.550 total time=   0.0s\n",
      "[CV 5/5] END .......C=10, gamma=0.1, kernel=rbf;, score=0.710 total time=   0.0s\n",
      "[CV 1/5] END ....C=100, gamma=0.001, kernel=rbf;, score=0.530 total time=   0.0s\n",
      "[CV 2/5] END ....C=100, gamma=0.001, kernel=rbf;, score=0.580 total time=   0.0s\n",
      "[CV 3/5] END ....C=100, gamma=0.001, kernel=rbf;, score=0.590 total time=   0.0s\n",
      "[CV 4/5] END ....C=100, gamma=0.001, kernel=rbf;, score=0.520 total time=   0.0s\n",
      "[CV 5/5] END ....C=100, gamma=0.001, kernel=rbf;, score=0.600 total time=   0.0s\n",
      "[CV 1/5] END .....C=100, gamma=0.01, kernel=rbf;, score=0.500 total time=   0.0s\n",
      "[CV 2/5] END .....C=100, gamma=0.01, kernel=rbf;, score=0.580 total time=   0.0s\n",
      "[CV 3/5] END .....C=100, gamma=0.01, kernel=rbf;, score=0.650 total time=   0.0s\n",
      "[CV 4/5] END .....C=100, gamma=0.01, kernel=rbf;, score=0.530 total time=   0.0s\n",
      "[CV 5/5] END .....C=100, gamma=0.01, kernel=rbf;, score=0.710 total time=   0.0s\n",
      "[CV 1/5] END ......C=100, gamma=0.1, kernel=rbf;, score=0.560 total time=   0.0s\n",
      "[CV 2/5] END ......C=100, gamma=0.1, kernel=rbf;, score=0.590 total time=   0.0s\n",
      "[CV 3/5] END ......C=100, gamma=0.1, kernel=rbf;, score=0.630 total time=   0.0s\n",
      "[CV 4/5] END ......C=100, gamma=0.1, kernel=rbf;, score=0.490 total time=   0.0s\n",
      "[CV 5/5] END ......C=100, gamma=0.1, kernel=rbf;, score=0.590 total time=   0.0s\n",
      "Best parameters {'C': 10, 'gamma': 0.1, 'kernel': 'rbf'}\n"
     ]
    },
    {
     "data": {
      "text/plain": [
       "{'C': 10, 'gamma': 0.1, 'kernel': 'rbf'}"
      ]
     },
     "execution_count": 181,
     "metadata": {},
     "output_type": "execute_result"
    }
   ],
   "source": [
    "from sklearn.model_selection import GridSearchCV\n",
    "from sklearn.naive_bayes import GaussianNB,MultinomialNB\n",
    "from sklearn.metrics import make_scorer, f1_score\n",
    "from sklearn import svm\n",
    "from sklearn.metrics import (\n",
    "    accuracy_score,\n",
    "    confusion_matrix,\n",
    "    ConfusionMatrixDisplay,\n",
    "    f1_score,\n",
    ")\n",
    "param_grid_NB = {\n",
    "    'alpha': [0.0, 0.8, 0.9, 1.0,1.5,2.0],\n",
    "    'fit_prior': [True, False],\n",
    "    'class_prior': [None, [0.1]*12, [0.2]*12,[0.5]*12] #12 classes\n",
    "}\n",
    "\n",
    "param_grid_SVM = {\n",
    "    'kernel':['rbf'],\n",
    "    'C':[0.01,1,10,100],\n",
    "    'gamma':[0.001,0.01,0.1]\n",
    "}\n",
    "\n",
    "\n",
    "\n",
    "y_train = df_train_prepr['Label'].to_numpy()\n",
    "y_test = df_test_prepr['Label'].to_numpy()\n",
    "y_val = df_valid_prepr['Label'].to_numpy()\n",
    "\n",
    "classifier_svm = svm.SVC()\n",
    "classifier_nb= MultinomialNB()\n",
    "\n",
    "def model_tuning(X_train,y_train,classifier,params):\n",
    "    acc_scorer = make_scorer(accuracy_score)\n",
    "    grid_search = GridSearchCV(classifier, params, scoring=acc_scorer, cv=5,verbose=5)\n",
    "    grid_search.fit(X_train, y_train)\n",
    "    best_params = grid_search.best_params_\n",
    "    print('Best parameters', best_params)\n",
    "    return best_params\n",
    "\n",
    "model_tuning(X_train[:500],y_train[:500],classifier_svm,param_grid_SVM)\n"
   ]
  },
  {
   "cell_type": "markdown",
   "metadata": {},
   "source": [
    "<h1>Training Naive Bayes and SVM</h1>"
   ]
  },
  {
   "cell_type": "code",
   "execution_count": 183,
   "metadata": {},
   "outputs": [
    {
     "name": "stdout",
     "output_type": "stream",
     "text": [
      "Test Set Evaluation:\n",
      "Accuracy: 0.6840077071290944\n",
      "F1 Score: 0.7184693543588451\n",
      "\n",
      "Validation Set Evaluation:\n",
      "Accuracy: 0.6864406779661016\n",
      "F1 Score: 0.7211367978249235\n"
     ]
    }
   ],
   "source": [
    "from sklearn.naive_bayes import GaussianNB,MultinomialNB\n",
    "from sklearn.metrics import (\n",
    "    accuracy_score,\n",
    "    confusion_matrix,\n",
    "    ConfusionMatrixDisplay,\n",
    "    f1_score,\n",
    ")\n",
    "import joblib\n",
    "from sklearn import svm\n",
    "\n",
    "y_train = df_train_prepr['Label'].to_numpy()\n",
    "y_test = df_test_prepr['Label'].to_numpy()\n",
    "y_val = df_valid_prepr['Label'].to_numpy()\n",
    "\n",
    "def train_classifier(classifier,X_train,y_train,X_test,y_test,X_val,y_val,model_filename='default.pkl',save=False):\n",
    "    classifier.fit(X_train, y_train)\n",
    "    y_pred_test = classifier.predict(X_test)\n",
    "    # TEST PREDICT\n",
    "    acc_test = accuracy_score(y_pred_test, y_test)\n",
    "    f1_test = f1_score(y_pred_test, y_test, average=\"weighted\")\n",
    "    print(\"Test Set Evaluation:\")\n",
    "    print(\"Accuracy:\", acc_test)\n",
    "    print(\"F1 Score:\", f1_test)\n",
    "    \n",
    "    # VAL PREDICT\n",
    "    y_pred_val = classifier.predict(X_val)\n",
    "    acc_val = accuracy_score(y_pred_val, y_val)\n",
    "    f1_val = f1_score(y_pred_val, y_val, average=\"weighted\")\n",
    "    print(\"\\nValidation Set Evaluation:\")\n",
    "    print(\"Accuracy:\", acc_val)\n",
    "    print(\"F1 Score:\", f1_val)\n",
    "    \n",
    "    if save:\n",
    "        joblib.dump(classifier, model_filename)\n",
    "        print(f\"\\nModel saved to {model_filename}\")\n",
    "    return acc_test,acc_val\n",
    "\n",
    "\n",
    "\n",
    "result_embed = {\n",
    "    \"SVM\":[],\n",
    "    \"NB\":[]\n",
    "}\n",
    "\n",
    "\n",
    "# classifier = MultinomialNB(alpha=1,class_prior=None,fit_prior=True)\n",
    "# result_embed[\"NB\"] = list(train_bayes(classifier,X_train,y_train,X_test,y_test,X_val,y_val))\n",
    "\n",
    "\n",
    "classifier = svm.SVC(C=10,gamma=0.01,kernel=\"rbf\")\n",
    "result_embed[\"SVM\"] = list(train_classifier(classifier,X_train,y_train,X_test,y_test,X_val,y_val))\n",
    "\n"
   ]
  },
  {
   "cell_type": "markdown",
   "metadata": {},
   "source": [
    "<a name=\"section-taskC\"></a><h2 style=\"color:rgb(0,120,170)\">Task C: Classification with sent2vec Document Embeddings (2 extra point)</h2>"
   ]
  },
  {
   "cell_type": "markdown",
   "metadata": {},
   "source": [
    "\n",
    "Sent2vec [1] suggests another unsupervised approach to creating document embeddings from the underlying word embeddings. First, using the provided code in the paper, train a sendtvec model on the training set to create document embeddings. Then, repeat Task B while using the document embeddings provided by sent2vec. Similar to Task 2, conduct the classification experiments and report evaluation results.\n",
    "\n",
    "[1] M. Pagliardini, P. Gupta, and M. Jaggi. Unsupervised Learning of Sentence Embeddings using Compositional n-Gram Features. In Proceedings of the conference of the North American Chapter of the Association for Computational Linguistics (NAACL), 2018.\n"
   ]
  },
  {
   "cell_type": "code",
   "execution_count": null,
   "metadata": {},
   "outputs": [],
   "source": []
  },
  {
   "cell_type": "code",
   "execution_count": null,
   "metadata": {},
   "outputs": [],
   "source": []
  }
 ],
 "metadata": {
  "kernelspec": {
   "display_name": "Python 3 (ipykernel)",
   "language": "python",
   "name": "python3"
  },
  "language_info": {
   "codemirror_mode": {
    "name": "ipython",
    "version": 3
   },
   "file_extension": ".py",
   "mimetype": "text/x-python",
   "name": "python",
   "nbconvert_exporter": "python",
   "pygments_lexer": "ipython3",
   "version": "3.9.13"
  }
 },
 "nbformat": 4,
 "nbformat_minor": 4
}
