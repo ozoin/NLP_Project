{
 "cells": [
  {
   "cell_type": "markdown",
   "metadata": {},
   "source": [
    "Please fill out the information of your group!\n",
    "\n",
    "| <p style=\"text-align: center;\">First Name</p>  | <p style=\"text-align: center;\">Family Name</p> | Matr.-No. |\n",
    "| ---------------------------------------------- | ---------------------------------------------- | -------- |\n",
    "| <p style=\"text-align: left\">*EDIT!*</p>| <p style=\"text-align: left\">*EDIT!*</p> | *EDIT!* |\n",
    "| <p style=\"text-align: left\">*EDIT!*</p>| <p style=\"text-align: left\">*EDIT!*</p> | *EDIT!* |\n"
   ]
  },
  {
   "cell_type": "markdown",
   "metadata": {},
   "source": [
    "<h2 style=\"text-align: center\">344.075 KV: Natural Language Processing (WS2022/23)</h2>\n",
    "<h1 style=\"color:rgb(0,120,170)\">Assignment 3</h1>\n",
    "<h2 style=\"color:rgb(0,120,170)\">Document Classification with PyTorch and BERT</h2>"
   ]
  },
  {
   "cell_type": "markdown",
   "metadata": {},
   "source": [
    "<b>Terms of Use</b><br>\n",
    "This  material is prepared for educational purposes at the Johannes Kepler University (JKU) Linz, and is exclusively provided to the registered students of the mentioned course at JKU. It is strictly forbidden to distribute the current file, the contents of the assignment, and its solution. The use or reproduction of this manuscript is only allowed for educational purposes in non-profit organizations, while in this case, the explicit prior acceptance of the author(s) is required.\n",
    "\n",
    "**Authors:** Navid Rekab-saz, Oleg Lesota<br>\n"
   ]
  },
  {
   "cell_type": "markdown",
   "metadata": {},
   "source": [
    "<h2>Table of contents</h2>\n",
    "<ol>\n",
    "    <a href=\"#section-general-guidelines\"><li style=\"font-size:large;font-weight:bold\">General Guidelines</li></a>\n",
    "    <a href=\"#section-tensorboard\"><li style=\"font-size:large;font-weight:bold\">Bonus Task: Logging and Publishing Experiment Results (2 extra point)</li></a>\n",
    "    <a href=\"#section-taskA\"><li style=\"font-size:large;font-weight:bold\">Task A: Document Classification with PyTorch (25 points)</li></a>\n",
    "    <a href=\"#section-taskB\"><li style=\"font-size:large;font-weight:bold\">Task B: Document Classification with BERT (15 points)</li></a>\n",
    "    \n",
    "    \n",
    "</ol>"
   ]
  },
  {
   "cell_type": "markdown",
   "metadata": {},
   "source": [
    "<a name=\"section-general-guidelines\"></a><h2 style=\"color:rgb(0,120,170)\">General Guidelines</h2>"
   ]
  },
  {
   "cell_type": "markdown",
   "metadata": {},
   "source": [
    "### Assignment objective\n",
    "This assignment aims to provide the necessary practices for learning the principles of deep learning programing in NLP using PyTorch. To this end, Task A provides the space for becoming fully familiar with PyTorch programming by implementing a \"simple\" document (sentence) classification model with PyTorch, and Task B extends this classifier with a BERT model. As the assignment requires working with PyTorch and Huggingface Transformers, please familiarize yourself with these libraries using any possible available teaching resources in particular the libraries' documentations. The assignment has in total **40 points**, and also offers **2 extra points** which can cover any missing point.\n",
    "\n",
    "This Notebook encompasses all aspects of the assignment, namely the descriptions of tasks as well as your solutions and reports. Feel free to add any required cell for solutions. The cells can contain code, reports, charts, tables, or any other material, required for the assignment. Feel free to provide the solutions in an interactive and visual way! \n",
    "\n",
    "Please discuss any unclear point in the assignment in the provided forum in MOODLE. It is also encouraged to provide answers to your peer's questions. However when submitting a post, keep in mind to avoid providing solutions. Please let the tutor(s) know shall you find any error or unclarity in the assignment.\n"
   ]
  },
  {
   "cell_type": "markdown",
   "metadata": {},
   "source": [
    "### Libraries & Dataset\n",
    "\n",
    "The assignment should be implemented with recent versions of `Python`, `PyTorch` and, `transformers`. Any standard Python library can be used, so far that the library is free and can be simply installed using `pip` or `conda`. Examples of potentially useful libraries are `scikit-learn`, `numpy`, `scipy`, `gensim`, `nltk`, `spaCy`, and `AllenNLP`. Use the latest stable version of each library.\n",
    "\n",
    "To conduct the experiments, we use a subset of the `HumSet` dataset [1] (https://blog.thedeep.io/humset/). `HumSet` is created by the DEEP (https://www.thedeep.io) project – an open source platform which aims to facilitate processing of textual data for international humanitarian response organizations. The platform enables the classification of text excerpts, extracted from news and reports into a set of domain specific classes. The provided dataset contains the classes (labels) referring to the humanitarian sectors like agriculture, health, and protection. The dataset contains an overall number of 17,301 data points. \n",
    "\n",
    "Download the dataset from the Moodle page of the course.\n",
    "\n",
    "the provided zip file consists of the following files:\n",
    "- `thedeep.subset.train.txt`: Train set in csv format with three fields: sentence_id, text, and label.\n",
    "- `thedeep.subset.validation.txt`: Validation set in csv format with three fields: sentence_id, text, and label.\n",
    "- `thedeep.subset.test.txt`: Test set in csv format with three fields: sentence_id, text, and label.\n",
    "- `thedeep.subset.label.txt`: Captions of the labels.\n",
    "- `thedeep.ToU.txt`: Terms of use of the dataset.\n",
    "\n",
    "[1] HumSet: Dataset of Multilingual Information Extraction and Classification for Humanitarian Crises Response\n",
    "*Selim Fekih, Nicolo' Tamagnone, Benjamin Minixhofer, Ranjan Shrestha, Ximena Contla, Ewan Oglethorpe and Navid Rekabsaz.* \n",
    "In Findings of the 2022 Conference on Empirical Methods in Natural Language Processing (Findings of EMNLP), December 2022.\n"
   ]
  },
  {
   "cell_type": "markdown",
   "metadata": {},
   "source": [
    "### Submission\n",
    "\n",
    "Each group should submit the following two files:\n",
    "\n",
    "- One Jupyter Notebook file (`.ipynb`), containing all the code, results, visualizations, etc. **In the submitted Notebook, all the results and visualizations should already be present, and can be observed simply by loading the Notebook in a browser.** The Notebook must be self-contained, meaning that (if necessary) one can run all the cells from top to bottom without any error. Do not forget to put in your names and student numbers in the first cell of the Notebook. \n",
    "- The HTML file (`.html`) achieved from exporting the Jupyter Notebook to HTML (Download As HTML).\n",
    "\n",
    "You do not need to include the data files in the submission.\n",
    "\n"
   ]
  },
  {
   "cell_type": "markdown",
   "metadata": {},
   "source": [
    "<a name=\"section-tensorboard\"></a><h2 style=\"color:rgb(0,120,170)\">Bonus Task: Logging and Publishing Experiment Results (2 extra point)</h2>"
   ]
  },
  {
   "cell_type": "markdown",
   "metadata": {},
   "source": [
    "In all experiments of this assignment, use any experiment monitoring tool like [`TensorBoard`](https://www.tensorflow.org/tensorboard), [`wandb`](https://wandb.ai) to log and store all useful information about the training and evaluation of the models. Feel free to log any important aspect in particular the changes in evaluation results on validation, in training loss, and in learning rate.\n",
    "\n",
    "After finalizing all experiments and cleaning any unnecessary experiment, **provide the URL to the results monitoring page below**.\n",
    "\n",
    "For instance if using [`TensorBoard.dev`](https://tensorboard.dev), you can run the following command in the folder of log files: `tensorboard dev upload --name my_exp --logdir path/to/output_dir`, and take the provided URL to the TensorBoard's console.\n"
   ]
  },
  {
   "cell_type": "markdown",
   "metadata": {},
   "source": [
    "**URL :** *EDIT!*"
   ]
  },
  {
   "cell_type": "markdown",
   "metadata": {},
   "source": [
    "<a name=\"section-taskA\"></a><h2 style=\"color:rgb(0,120,170)\">Task A: Document Classification with PyTorch (25 points)</h2>"
   ]
  },
  {
   "cell_type": "markdown",
   "metadata": {},
   "source": [
    "The aim of this task is identical to the one of Assignment 2 - Task B, namely to design a document classification model that exploits pre-trained word embeddings. It is of course allowed to use the preprocessed text, the dictionary, or any other relevant code or processings, done in the previous assignments.\n",
    "\n",
    "In this task, you implement a document classification model using PyTorch, which given a document/sentence (consisting of a set of words) predicts the corresponding class. Before getting started with coding, have a look at the <a href=\"#section-tensorboard\">optional task</a>, as you may want to already include `Tensorboard` in the code. The implementation of the classifier should cover the points below.\n",
    "\n",
    "**Preprocessing and dictionary (1 point):** Following previous assignments, load the train, validation, and test datasets, apply necessary preprocessing steps, and create a dictionary of words. \n",
    "\n",
    "**Data batching (4 points):** Using the dictionary, create batches for any given dataset (train/validation/test). Each batch is a two-dimensional matrix of *batch-size* to *max-document-length*, containing the IDs of the words in the corresponding documents. *Batch-size* and *max-document-length* are two hyper-parameters and can be set to any appropriate values (*Batch-size* must be higher than 1 and *max-document-length* at least 50 words). If a document has more than *max-document-length* words, only the first *max-document-length* words should be kept.\n",
    "\n",
    "**Word embedding lookup (2 point):** Using `torch.nn.Embedding`, create a lookup for the embeddings of all the words in the dictionary. The lookup is in fact a matrix, which maps the ID of each word to the corresponding word vector. Similar to Assignment 2, use the pre-trained vectors of a word embedding model (like word2vec or GloVe) to initialize the word embeddings of the lookup. Keep in mind that the embeddings of the words in the lookup should be matched with the correct vector in the pretrained word embedding. If the vector of a word in the lookup does not exist in the pretrained word embeddings, the corresponding vector should be initialized randomly. \n",
    "\n",
    "**Model definition (3 points):** Define the class `ClassificationAverageModel` as a PyTorch model. In the initialization procedure, the model receives the word embedding lookup, and includes it in the model as model's parameters. These embeddings parameters should be trainable, meaning that the word vectors get updated during model training. Feel free to add any other parameters to the model, which might be necessary for accomplishing the functionalities explained in the following.\n",
    "\n",
    "**Forward function (5 points):** The forward function of the model receives a batch of data, and first fetches the corresponding embeddings of the word IDs in the batch using the lookup. Similar to Assignment 2, the embedding of a document is created by calculating the *element-wise mean* of the embeddings of the document's words. Formally, given the document $d$, consisting of words $\\left[ v_1, v_2, ..., v_{|d|} \\right]$, the document representation $\\mathbf{e}_d$ is defined as:\n",
    "\n",
    "$\\mathbf{e}_d = \\frac{1}{|d|}\\sum_{i=1}^{|d|}{\\mathbf{e}_{v_i}}$\n",
    "\n",
    "where $\\mathbf{e}_{v}$ is the vector of the word $v$, and $|d|$ is the length of the document. An important point in the implementation of this formula is that the documents in the batch might have different lengths and therefore each document should be divided by its corresponding $|d|$. Finally, this document embedding is utilized to predict the probability of the output classes, done by applying a linear transformation from the embeddings size to the number of classes, followed by Softmax. The linear transformation also belongs to the model's parameters and will be learned in training.\n",
    "\n",
    "**Loss Function and optimization (2 point):** The loss between the predicted and the actual classes is calculated using Negative Log Likelihood or Cross Entropy. Update the model's parameters using any appropriate optimization mechanism such as Adam.\n",
    "\n",
    "**Early Stopping (2 points):** After each epoch, evaluate the model on the *validation set* using accuracy. If the evaluation result (accuracy) improves, save the model as the best performing one so far. If the results are not improving after a certain number of evaluation rounds (set as another hyper-parameter) or if training reaches a certain number of epochs, terminate the training procedure. \n",
    "\n",
    "**Test Set Evaluation (1 point):** After finishing the training, load the (already stored) best performing model, and use it for class prediction on the test set.\n",
    "\n",
    "**Reporting (1 point):** During loading and processing the collection, provide sufficient information and examples about the data and the applied processing steps. Report the results of the best performing model on the validation and test set in a table.\n",
    "\n",
    "**Overall functionality of the training procedure (4 point).**\n"
   ]
  },
  {
   "cell_type": "code",
   "execution_count": 1,
   "metadata": {},
   "outputs": [
    {
     "name": "stderr",
     "output_type": "stream",
     "text": [
      "[nltk_data] Downloading package stopwords to\n",
      "[nltk_data]     /Users/nikita/nltk_data...\n",
      "[nltk_data]   Package stopwords is already up-to-date!\n",
      "[nltk_data] Downloading package punkt to /Users/nikita/nltk_data...\n",
      "[nltk_data]   Package punkt is already up-to-date!\n"
     ]
    },
    {
     "name": "stdout",
     "output_type": "stream",
     "text": [
      "Vectorized model is already loaded\n"
     ]
    }
   ],
   "source": [
    "#Preprocessing and dictionary\n",
    "import re\n",
    "from nltk.stem.porter import *\n",
    "import pandas as pd\n",
    "import numpy as np\n",
    "import nltk\n",
    "from nltk.corpus import stopwords\n",
    "from nltk.tokenize import RegexpTokenizer\n",
    "from nltk.tokenize import word_tokenize\n",
    "from collections import Counter\n",
    "import os\n",
    "from gensim.scripts.glove2word2vec import glove2word2vec\n",
    "from gensim.models import KeyedVectors\n",
    "import torch\n",
    "import torch.nn as nn\n",
    "import torch.nn.functional as F\n",
    "from torch.utils.data import DataLoader, TensorDataset, Dataset\n",
    "from tqdm.auto import tqdm\n",
    "from pathlib import Path\n",
    "import matplotlib.pyplot as plt\n",
    "device = torch.device(\"cuda\" if torch.cuda.is_available() else \"cpu\")\n",
    "if device == 'cuda':\n",
    "    torch.cuda.get_device_name(0)\n",
    "\n",
    "nltk.download('stopwords')\n",
    "nltk.download('punkt')\n",
    "stopwords = stopwords.words('english')\n",
    "\n",
    "test_path = \"nlp2023_24_data/thedeep.subset.test.txt\"\n",
    "train_path = \"nlp2023_24_data/thedeep.subset.train.txt\"\n",
    "valid_path = \"nlp2023_24_data/thedeep.subset.validation.txt\"\n",
    "labels = \"nlp2023_24_data/thedeep.labels.txt\"\n",
    "\n",
    "df_test = pd.read_csv(test_path, header=None, names=[\"ID\", \"Text\", \"Label\"], delimiter=\",\")\n",
    "df_train = pd.read_csv(train_path, header=None, names=[\"ID\", \"Text\", \"Label\"], delimiter=\",\")\n",
    "df_valid = pd.read_csv(valid_path, header=None, names=[\"ID\", \"Text\", \"Label\"], delimiter=\",\")\n",
    "labels = pd.read_csv(labels, header=None, names=[\"ID\", \"Label\"], delimiter=\",\")\n",
    "\n",
    "def preprocessing(df):\n",
    "    \"Takes unprocessed Dataframe and returns already modified dataframe.\"\n",
    "    df = df.copy()\n",
    "    for i,row in df.iterrows():\n",
    "        sentence = row['Text'].lower()\n",
    "        sentence = re.sub(r'\\d+','',sentence)\n",
    "        # sentence = sentence.split()\n",
    "        tokenizer = RegexpTokenizer(r'\\w+|<NUM>')\n",
    "        sentence = tokenizer.tokenize(sentence)\n",
    "        remove_stopw = [word for word in sentence if not word in stopwords]\n",
    "        #MAYBE TRY NOT TO STEMM THE WORDS...\n",
    "        # stemmer = PorterStemmer()\n",
    "        # stemmed_sentence = [stemmer.stem(word) for word in remove_stopw]\n",
    "        df.at[i, 'Text'] = remove_stopw\n",
    "    return df\n",
    "\n",
    "#PREPROCESS ALL THE DATASETS\n",
    "df_test_prepr = preprocessing(df_test)\n",
    "df_train_prepr = preprocessing(df_train)\n",
    "df_valid_prepr = preprocessing(df_valid)\n",
    "\n",
    "def create_vocab_dict(preprocessed: pd.DataFrame = df_train_prepr,\n",
    "                      topN: int = 1000):\n",
    "\n",
    "    all_words = list([item for sublist in preprocessed['Text'] for item in sublist])\n",
    "\n",
    "    dictionary = pd.DataFrame.from_dict(Counter(all_words), orient='index').reset_index()\n",
    "    dict_full = dictionary.rename(columns={'index':'word', 0:'count'})\n",
    "    dict_full = dict_full.sort_values(by='count', ascending = False)\n",
    "    dict_cut = dict_full.head(topN)\n",
    "    dict_cut.reset_index(drop=True, inplace=True)\n",
    "    \n",
    "    return dict_full, dict_cut\n",
    "dict_full, dict_cut = create_vocab_dict(topN=1500)\n",
    "dict_cut\n",
    "\n",
    "\n",
    "\n",
    "#DONWLOAD GLOVE  https://nlp.stanford.edu/data/glove.6B.zip\n",
    "#UNZIP glove.6B.50d.txt TO nlp2023_24_data FOLDER!\n",
    "#CHOSE WHITCH MODEL TO USE. DIFFERENCE IN DIMS (50 OR 200 DIMS) FOR EACH WORD\n",
    "# glove_model_200 = 'glove.6B.200d.txt' \n",
    "\n",
    "glove_model_50 = 'glove.6B.50d.txt' \n",
    "glove_model_output = 'glove.6B.50d.word2vec'\n",
    "\n",
    "glove_file = os.path.join('nlp2023_24_data',glove_model_50)\n",
    "output_path = os.path.join('nlp2023_24_data',glove_model_output)\n",
    "\n",
    "if glove_model_output not in os.listdir('nlp2023_24_data'):\n",
    "    glove2word2vec(glove_file, output_path)\n",
    "    print('Vectorized model loaded successfully')\n",
    "else:\n",
    "    print('Vectorized model is already loaded')\n",
    "\n",
    "glove_model = KeyedVectors.load_word2vec_format(output_path, binary=False)"
   ]
  },
  {
   "cell_type": "code",
   "execution_count": 2,
   "metadata": {},
   "outputs": [
    {
     "data": {
      "text/html": [
       "<div>\n",
       "<style scoped>\n",
       "    .dataframe tbody tr th:only-of-type {\n",
       "        vertical-align: middle;\n",
       "    }\n",
       "\n",
       "    .dataframe tbody tr th {\n",
       "        vertical-align: top;\n",
       "    }\n",
       "\n",
       "    .dataframe thead th {\n",
       "        text-align: right;\n",
       "    }\n",
       "</style>\n",
       "<table border=\"1\" class=\"dataframe\">\n",
       "  <thead>\n",
       "    <tr style=\"text-align: right;\">\n",
       "      <th></th>\n",
       "      <th>word</th>\n",
       "      <th>count</th>\n",
       "    </tr>\n",
       "  </thead>\n",
       "  <tbody>\n",
       "    <tr>\n",
       "      <th>0</th>\n",
       "      <td>cases</td>\n",
       "      <td>4789</td>\n",
       "    </tr>\n",
       "    <tr>\n",
       "      <th>1</th>\n",
       "      <td>food</td>\n",
       "      <td>4256</td>\n",
       "    </tr>\n",
       "    <tr>\n",
       "      <th>2</th>\n",
       "      <td>people</td>\n",
       "      <td>3896</td>\n",
       "    </tr>\n",
       "    <tr>\n",
       "      <th>3</th>\n",
       "      <td>reported</td>\n",
       "      <td>3696</td>\n",
       "    </tr>\n",
       "    <tr>\n",
       "      <th>4</th>\n",
       "      <td>children</td>\n",
       "      <td>2975</td>\n",
       "    </tr>\n",
       "    <tr>\n",
       "      <th>...</th>\n",
       "      <td>...</td>\n",
       "      <td>...</td>\n",
       "    </tr>\n",
       "    <tr>\n",
       "      <th>1495</th>\n",
       "      <td>requirements</td>\n",
       "      <td>60</td>\n",
       "    </tr>\n",
       "    <tr>\n",
       "      <th>1496</th>\n",
       "      <td>landmines</td>\n",
       "      <td>60</td>\n",
       "    </tr>\n",
       "    <tr>\n",
       "      <th>1497</th>\n",
       "      <td>illness</td>\n",
       "      <td>60</td>\n",
       "    </tr>\n",
       "    <tr>\n",
       "      <th>1498</th>\n",
       "      <td>yei</td>\n",
       "      <td>60</td>\n",
       "    </tr>\n",
       "    <tr>\n",
       "      <th>1499</th>\n",
       "      <td>bring</td>\n",
       "      <td>60</td>\n",
       "    </tr>\n",
       "  </tbody>\n",
       "</table>\n",
       "<p>1500 rows × 2 columns</p>\n",
       "</div>"
      ],
      "text/plain": [
       "              word  count\n",
       "0            cases   4789\n",
       "1             food   4256\n",
       "2           people   3896\n",
       "3         reported   3696\n",
       "4         children   2975\n",
       "...            ...    ...\n",
       "1495  requirements     60\n",
       "1496     landmines     60\n",
       "1497       illness     60\n",
       "1498           yei     60\n",
       "1499         bring     60\n",
       "\n",
       "[1500 rows x 2 columns]"
      ]
     },
     "execution_count": 2,
     "metadata": {},
     "output_type": "execute_result"
    }
   ],
   "source": [
    "dict_cut"
   ]
  },
  {
   "cell_type": "code",
   "execution_count": 3,
   "metadata": {},
   "outputs": [],
   "source": [
    "BATCH_SIZE = 64"
   ]
  },
  {
   "cell_type": "code",
   "execution_count": 4,
   "metadata": {},
   "outputs": [
    {
     "name": "stdout",
     "output_type": "stream",
     "text": [
      "tensor([ 417,  418,  137, 1174,  329, 1122,  278,    4,  130,  259,  345,  475,\n",
      "         441,   54,   17,  137,  642,  673, 1131,    8,  490,  584,  404, 1092,\n",
      "          14,  213,  697, 1122,    0,    0,    0,    0,    0,    0,    0,    0,\n",
      "           0,    0,    0,    0,    0,    0,    0,    0,    0,    0,    0,    0,\n",
      "           0,    0,    0,    0,    0,    0,    0,    0,    0,    0,    0,    0,\n",
      "           0,    0,    0,    0,    0,    0,    0,    0,    0,    0,    0,    0,\n",
      "           0,    0,    0,    0,    0,    0,    0,    0,    0,    0,    0,    0,\n",
      "           0,    0,    0,    0,    0,    0,    0,    0,    0,    0,    0,    0,\n",
      "           0,    0,    0,    0,    0,    0,    0,    0,    0,    0,    0,    0,\n",
      "           0,    0,    0,    0,    0,    0,    0,    0,    0,    0,    0,    0,\n",
      "           0,    0,    0,    0,    0,    0,    0,    0,    0,    0,    0,    0,\n",
      "           0,    0,    0,    0,    0,    0,    0,    0,    0,    0,    0,    0,\n",
      "           0,    0,    0,    0,    0,    0,    0,    0,    0,    0,    0,    0,\n",
      "           0,    0,    0,    0,    0,    0,    0,    0,    0,    0,    0,    0,\n",
      "           0,    0,    0,    0,    0,    0,    0,    0,    0,    0,    0,    0,\n",
      "           0,    0,    0,    0,    0,    0,    0,    0,    0,    0,    0,    0,\n",
      "           0,    0,    0,    0,    0,    0,    0,    0])\n"
     ]
    }
   ],
   "source": [
    "class TextDataset(Dataset):\n",
    "    def __init__(self, dataframe, word_dict, max_len=200):\n",
    "        self.dataframe = dataframe\n",
    "        self.word_dict =  word_dict # +1 as padding index is 0\n",
    "        self.max_len = max_len\n",
    "\n",
    "    def __len__(self):\n",
    "        return len(self.dataframe)\n",
    "    \n",
    "\n",
    "    def __getitem__(self, idx):\n",
    "        text = self.dataframe.iloc[idx]['Text']\n",
    "        label = self.dataframe.iloc[idx]['Label']\n",
    "        sent_len = 0\n",
    "        ids = []\n",
    "        for word in text[:self.max_len]:\n",
    "            if word in self.word_dict['word'].values:\n",
    "                ids.append(self.word_dict.index[self.word_dict['word'] == word].tolist()[0])\n",
    "                sent_len += 1\n",
    "            # else:\n",
    "            #     ids.append(0)\n",
    "        ids += [0] * (self.max_len - len(ids))\n",
    "        return torch.tensor(ids, dtype=torch.long).to(device), torch.tensor(label, dtype=torch.long).to(device), torch.tensor(sent_len).to(device)\n",
    "\n",
    "train_dataset = TextDataset(df_train_prepr, dict_cut)\n",
    "test_dataset = TextDataset(df_test_prepr, dict_cut)\n",
    "valid_dataset = TextDataset(df_valid_prepr, dict_cut)\n",
    "\n",
    "#these are our batches already(?)\n",
    "train_loader = DataLoader(train_dataset, batch_size=BATCH_SIZE, shuffle=True)\n",
    "test_loader = DataLoader(test_dataset, batch_size=BATCH_SIZE, shuffle=False)\n",
    "valid_loader = DataLoader(valid_dataset, batch_size=BATCH_SIZE, shuffle=False)\n",
    "\n",
    "\n",
    "print(train_dataset.__getitem__(5)[0])"
   ]
  },
  {
   "cell_type": "code",
   "execution_count": 5,
   "metadata": {},
   "outputs": [],
   "source": [
    "#Create batches function. How do we need to use it???\n",
    "\n",
    "# def create_batches(dframe, max_len=50, batch_size=5):\n",
    "#     batches = []\n",
    "#     total_batches = int(np.ceil(len(dframe) / batch_size))\n",
    "#     print(f'Total batches will be created: {total_batches}. Batch size: {batch_size}. Max length: {max_len}')\n",
    "    \n",
    "#     for i in range(total_batches):\n",
    "#         batch_data = dframe['Text'][i*batch_size:(i+1)*batch_size]\n",
    "#         batch_labels = dframe['Label'][i*batch_size:(i+1)*batch_size]\n",
    "#         padded_batch_data = [doc[:max_len] + [0]*(max_len - len(doc)) if len(doc) < max_len else doc[:max_len] for doc in batch_data]\n",
    "#         batches.append((padded_batch_data, batch_labels.tolist()))\n",
    "\n",
    "#     return batches"
   ]
  },
  {
   "cell_type": "code",
   "execution_count": 6,
   "metadata": {},
   "outputs": [
    {
     "name": "stderr",
     "output_type": "stream",
     "text": [
      "/var/folders/kh/g4116db97yzdbzhf4r7ykf580000gn/T/ipykernel_1493/184848017.py:14: UserWarning: To copy construct from a tensor, it is recommended to use sourceTensor.clone().detach() or sourceTensor.clone().detach().requires_grad_(True), rather than torch.tensor(sourceTensor).\n",
      "  embedding_layer = nn.Embedding.from_pretrained(torch.tensor(embedding_matrix, dtype=torch.float))\n"
     ]
    }
   ],
   "source": [
    "def create_dict_embeds(dict,nlp_model):\n",
    "    vocab_size, embedding_dim = nlp_model.vectors.shape\n",
    "    vocab_size = len(dict_cut)\n",
    "    embedding = torch.rand(vocab_size, embedding_dim) #here we create randomized embedding with the same shape as you final embedding matrix\n",
    "    for i,word in enumerate(dict_cut['word']):\n",
    "        if word in nlp_model:\n",
    "            embedding[i] = torch.tensor(nlp_model[word])\n",
    "    # embed_layer = nn.Embedding(vocab_size, embedding_dim)\n",
    "    # embed_layer.weight.data.copy_(embedding)\n",
    "    return embedding\n",
    "\n",
    "\n",
    "embedding_matrix = create_dict_embeds(dict_cut,glove_model)\n",
    "embedding_layer = nn.Embedding.from_pretrained(torch.tensor(embedding_matrix, dtype=torch.float))"
   ]
  },
  {
   "cell_type": "code",
   "execution_count": 7,
   "metadata": {},
   "outputs": [
    {
     "data": {
      "text/plain": [
       "tensor([[ 1.0667, -0.5891, -0.1097,  ...,  0.3268,  0.0314, -0.2658],\n",
       "        [ 0.4722, -0.4455, -0.5183,  ...,  0.3493,  0.3393,  0.2550],\n",
       "        [ 0.9528, -0.2061,  0.5562,  ..., -0.1088, -0.2282, -0.4630],\n",
       "        ...,\n",
       "        [ 1.3116,  0.5549, -0.4018,  ...,  0.0646,  0.1892,  0.2822],\n",
       "        [ 0.8001, -0.2333,  0.0234,  ...,  0.3749, -0.3788, -0.6144],\n",
       "        [ 0.3652,  0.2280,  0.1930,  ...,  0.0701, -0.3226, -0.0915]])"
      ]
     },
     "execution_count": 7,
     "metadata": {},
     "output_type": "execute_result"
    }
   ],
   "source": [
    "embedding_matrix"
   ]
  },
  {
   "cell_type": "code",
   "execution_count": 8,
   "metadata": {},
   "outputs": [
    {
     "data": {
      "text/plain": [
       "tensor([[ 0.3803,  0.6830, -0.0572,  ...,  0.1945, -0.4951,  0.3125],\n",
       "        [ 1.0418,  0.1932, -0.1019,  ...,  1.5066,  0.1896,  0.2027],\n",
       "        [ 0.5149,  0.8881, -0.7191,  ..., -0.9984, -0.0663,  0.1312],\n",
       "        ...,\n",
       "        [ 1.0667, -0.5891, -0.1097,  ...,  0.3268,  0.0314, -0.2658],\n",
       "        [ 1.0667, -0.5891, -0.1097,  ...,  0.3268,  0.0314, -0.2658],\n",
       "        [ 1.0667, -0.5891, -0.1097,  ...,  0.3268,  0.0314, -0.2658]])"
      ]
     },
     "execution_count": 8,
     "metadata": {},
     "output_type": "execute_result"
    }
   ],
   "source": [
    "# rand_t = torch.randint(low=0, high=10,size=(50))\n",
    "# rand_t\n",
    "embedding_layer(train_dataset.__getitem__(0)[0])\n"
   ]
  },
  {
   "cell_type": "code",
   "execution_count": 9,
   "metadata": {},
   "outputs": [],
   "source": [
    "def train_step(model: nn.Module,\n",
    "               dataloader: torch.utils.data.DataLoader,\n",
    "               loss_fn: torch.nn.modules.loss,\n",
    "               optimizer: torch.optim):\n",
    "    \n",
    "    train_loss, train_acc = 0, 0\n",
    "    \n",
    "    model.train()\n",
    "    \n",
    "    # for batch, (X,y) in enumerate(dataloader):\n",
    "    for batch, (X, y, additional_input) in enumerate(tqdm(dataloader, desc=\"Training\")):\n",
    "        X, y = X.to(device), y.to(device)\n",
    "        y_pred = model(X, additional_input)\n",
    "        loss = loss_fn(y_pred, y)\n",
    "        loss.backward()\n",
    "        optimizer.step()\n",
    "        optimizer.zero_grad()\n",
    "        \n",
    "        y_class = torch.argmax(torch.softmax(y_pred, dim=1), dim=1)\n",
    "        acc = torch.eq(y_class, y).sum().item() / len(y_pred)\n",
    "        \n",
    "        train_loss += loss.item()\n",
    "        train_acc += acc\n",
    "    \n",
    "    train_loss /= len(dataloader)\n",
    "    train_acc /= len(dataloader)\n",
    "    \n",
    "    return train_loss, train_acc\n",
    "    \n",
    "    \n",
    "    \n",
    "def valid_step(model: nn. Module,\n",
    "              dataloader: torch.utils.data.DataLoader,\n",
    "              loss_fn : nn.Module):\n",
    "\n",
    "    model.eval()\n",
    "    \n",
    "    valid_loss, valid_acc = 0, 0\n",
    "    with torch.inference_mode():\n",
    "        # for batch, (X, y) in enumerate(dataloader):\n",
    "        for batch, (X, y, additional_input) in enumerate(tqdm(dataloader, desc=\"Validation\")):\n",
    "            X, y = X.to(device), y.to(device)\n",
    "            y_pred = model(X, additional_input)\n",
    "            loss = loss_fn(y_pred, y)\n",
    "            y_class = torch.argmax(torch.softmax(y_pred, dim=1), dim=1)\n",
    "            valid_loss += loss.item()\n",
    "            valid_acc += torch.eq(y_class, y).sum().item() / len(y_pred)\n",
    "\n",
    "    valid_loss /= len(dataloader)\n",
    "    valid_acc /= len(dataloader)\n",
    "\n",
    "    return valid_loss, valid_acc\n",
    "\n",
    "def train_validate_save(\n",
    "          res_dict_save: dict,\n",
    "          model: nn.Module,\n",
    "          train_loader: torch.utils.data.DataLoader,\n",
    "          val_loader: torch.utils.data.DataLoader,\n",
    "          optimizer: torch.optim,\n",
    "          loss_fn: nn.Module,\n",
    "          model_name: str,\n",
    "          epochs = 10,\n",
    "          save = True,\n",
    "          savefig = True,\n",
    "          stats_show = True):\n",
    "\n",
    "    results = dict(train_loss=[], train_acc=[], valid_loss=[], valid_acc=[])\n",
    "    model.to(device)\n",
    "    next(model.parameters()).is_cuda\n",
    "    # for epoch in tqdm(range(epochs)):\n",
    "    for epoch in range(epochs):\n",
    "\n",
    "        train_loss, train_acc = train_step(model=model,\n",
    "                                           dataloader=train_loader,\n",
    "                                           optimizer=optimizer,\n",
    "                                           loss_fn=loss_fn)\n",
    "\n",
    "        \n",
    "        val_loss, val_acc = valid_step(model=model,\n",
    "                                       dataloader=val_loader,\n",
    "                                      loss_fn=loss_fn)\n",
    "        \n",
    "        \n",
    "        if epoch % 5 == 0:\n",
    "            print(f\"Epoch: {epoch+5} | Train loss: {train_loss:.4f} | Train acc: {train_acc:.4f} | Validation loss: {val_loss:.4f} | Validation acc: {val_acc:.4f}\")\n",
    "        results['train_loss'].append(train_loss)\n",
    "        results['train_acc'].append(train_acc)\n",
    "        results['valid_loss'].append(val_loss)\n",
    "        results['valid_acc'].append(val_acc)\n",
    "\n",
    "    print(\"=\"*20)\n",
    "    \n",
    "    final_train_acc = results['train_acc'][-1]\n",
    "    print(f\"Final Train Accuracy: {final_train_acc:.4f}\") \n",
    "    final_val_acc = results['valid_acc'][-1]\n",
    "    print(f\"Final Validation Accuracy: {final_val_acc:.4f}\")\n",
    "    res_dict_save['NN'] = [final_train_acc,final_val_acc]\n",
    "    print(\"=\"*20)\n",
    "    \n",
    "    if save:\n",
    "        \n",
    "        path = Path('torch_models')\n",
    "        path.mkdir(exist_ok = True)\n",
    "\n",
    "        torch.save(model.state_dict(), f'torch_models/{model_name}({epochs}_epochs).pth')\n",
    "        \n",
    "\n",
    "    plt.figure(figsize=(15, 7))\n",
    "\n",
    "    epochs = np.arange(epochs)\n",
    "    plt.subplot(1, 2, 1)\n",
    "    plt.plot(epochs, results[\"train_loss\"], label = 'train loss')\n",
    "    plt.plot(epochs, results[\"valid_loss\"], label = 'valid_loss')\n",
    "    plt.title(f'Loss-{model_name}')\n",
    "\n",
    "    plt.legend()\n",
    "\n",
    "    plt.subplot(1, 2, 2)\n",
    "\n",
    "    plt.plot(epochs, results[\"train_acc\"], label='train accuracy')\n",
    "    plt.plot(epochs, results[\"valid_acc\"], label='validation accuracy')\n",
    "    plt.title(f'Accuracy-{model_name}')\n",
    "\n",
    "    plt.legend()\n",
    "\n",
    "    plt.suptitle(f'{model_name} curves')\n",
    "        \n",
    "    if savefig:\n",
    "        path = Path('torch_models')\n",
    "        path.mkdir(exist_ok = True)\n",
    "    \n",
    "    plt.savefig(f'torch_models/{model_name}_train_stats')\n",
    "    \n",
    "    if not stats_show:\n",
    "\n",
    "        plt.close()\n",
    "    \n",
    "    return model\n"
   ]
  },
  {
   "cell_type": "code",
   "execution_count": 10,
   "metadata": {},
   "outputs": [
    {
     "data": {
      "text/plain": [
       "tensor([ 1.0667, -0.5891, -0.1097,  0.2433, -0.1281,  1.3830,  0.8719, -0.1295,\n",
       "         0.9843, -0.0606, -0.2216, -0.4897,  0.1797, -0.7279,  1.5319, -0.5180,\n",
       "        -0.8972, -0.4795, -0.0999, -0.5354, -0.2536, -0.1447,  0.8177,  0.2103,\n",
       "        -0.5353, -1.7229, -0.2353, -0.4268, -0.2252, -0.0340,  3.0681, -0.3877,\n",
       "         0.4366, -1.0692,  0.3294, -0.1699,  0.5468, -0.1812,  0.1814,  0.1591,\n",
       "        -0.8783,  0.2883,  1.4865,  1.4837,  0.3142,  0.2012, -0.4555,  0.3268,\n",
       "         0.0314, -0.2658])"
      ]
     },
     "execution_count": 10,
     "metadata": {},
     "output_type": "execute_result"
    }
   ],
   "source": [
    "embedding_matrix[0]"
   ]
  },
  {
   "cell_type": "code",
   "execution_count": 11,
   "metadata": {},
   "outputs": [],
   "source": [
    "# input_dim = 200\n",
    "# hidden_layers = 25\n",
    "output_dim = 12\n",
    "\n",
    "\n",
    "class ClassificationAverageModel(nn.Module):\n",
    "    \n",
    "    def __init__(self, embedding_matrix, num_classes):\n",
    "        super(ClassificationAverageModel, self).__init__()\n",
    "        self.embedding = embedding_matrix\n",
    "        embedding_dim = embedding_matrix.embedding_dim\n",
    "        self.fc = nn.Linear(embedding_dim, num_classes)\n",
    "        \n",
    "    \n",
    "    def forward(self, x, sent_len):\n",
    "        \n",
    "        embedded = self.embedding(x) \n",
    "        sum_embedded = torch.sum(embedded, dim=1)\n",
    "        #ensure not dividing by zero\n",
    "        sent_len = sent_len.clamp(min=1)  \n",
    "        print(sent_len)\n",
    "        avg_embedded = sum_embedded / sent_len.unsqueeze(1).float()\n",
    "\n",
    "        output = self.fc(avg_embedded)  \n",
    "        return F.log_softmax(output, dim=1)"
   ]
  },
  {
   "cell_type": "code",
   "execution_count": 12,
   "metadata": {},
   "outputs": [],
   "source": [
    "result_embed = {\n",
    "    \"NN\":[],\n",
    "}\n",
    "\n",
    "model = ClassificationAverageModel(embedding_layer, output_dim).to(device)\n",
    "criterion = nn.CrossEntropyLoss()\n",
    "optimizer = torch.optim.Adam(model.parameters(), lr=0.01)\n",
    "# train_validate_save(result_embed,model,train_loader,test_loader,optimizer,criterion,'nn_emb',epochs=50,save=True)"
   ]
  },
  {
   "cell_type": "markdown",
   "metadata": {},
   "source": [
    "<a name=\"section-taskB\"></a><h2 style=\"color:rgb(0,120,170)\">Task B: Document Classification with BERT (15 points)</h2>"
   ]
  },
  {
   "cell_type": "markdown",
   "metadata": {},
   "source": [
    "This task aims to conduct the same document classification as Task A, but now by utilizing a pre-trained BERT model. Feel free to reuse any code from the previous task. The implementation of the classifier should cover the points below.\n",
    "\n",
    "**Loading BERT model (2 points):** Use the `transformers` library from `huggingface` to load a (small) pre-trained BERT model. Select a BERT model according to your available resources. The available models can be found [here](https://huggingface.co/models) and [here](https://github.com/google-research/bert).\n",
    "\n",
    "**BERT tokenization (3 points):** For training BERT models, we do not need to create a dictionary anymore, as a BERT model already contains an internal subword dictionary. Following the instruction in `transformers`'s documentation, tokenize the data using the BERT model.  \n",
    "\n",
    "**Model definition and forward function (5 points):** Define the class **`ClassificationBERTModel`** as a PyTorch model. In the initialization procedure, the model receives the loaded BERT model and stores it as the model's parameter. The parameters of the BERT model should be trainable. The forward function of the model receives a batch of data, passes this batch to BERT, and achieves the corresponding document embeddings from the output of BERT. Similar to the previous task, the document embeddings are used for classification by linearly transforming document embeddings to the vectors with the number of classes, followed by applying Softmax.\n",
    "\n",
    "**Training and overall functionality (3 points):** Train the model in a similar fashion to the previous task, namely with the proper loss function, optimization, and early stoping.\n",
    "\n",
    "**Test Set Evaluation (1 point):** After finishing the training, load the (already stored) best performing model, and use it for class prediction on the test set.\n",
    "\n",
    "**Reporting (1 point):** Report the results of the best performing model on the validation and test set in a table.\n"
   ]
  },
  {
   "cell_type": "markdown",
   "metadata": {},
   "source": [
    "# Loading BERT model"
   ]
  },
  {
   "cell_type": "code",
   "execution_count": 13,
   "metadata": {},
   "outputs": [],
   "source": [
    "import transformers\n",
    "from transformers import AutoModel\n",
    "bert_model = AutoModel.from_pretrained(\"prajjwal1/bert-small\")"
   ]
  },
  {
   "cell_type": "markdown",
   "metadata": {},
   "source": [
    "# BERT Tokenization"
   ]
  },
  {
   "cell_type": "code",
   "execution_count": 14,
   "metadata": {},
   "outputs": [],
   "source": [
    "from transformers import BertTokenizer\n",
    "tokenizer = BertTokenizer.from_pretrained('prajjwal1/bert-small')"
   ]
  },
  {
   "cell_type": "code",
   "execution_count": 15,
   "metadata": {},
   "outputs": [
    {
     "data": {
      "text/plain": [
       "{'input_ids': tensor([[ 101, 7592, 2088,  999,  102]]), 'token_type_ids': tensor([[0, 0, 0, 0, 0]]), 'attention_mask': tensor([[1, 1, 1, 1, 1]])}"
      ]
     },
     "execution_count": 15,
     "metadata": {},
     "output_type": "execute_result"
    }
   ],
   "source": [
    "sen = 'hello world!'\n",
    "sen_tokenized = tokenizer(sen, return_tensors='pt')\n",
    "sen_tokenized"
   ]
  },
  {
   "cell_type": "code",
   "execution_count": 16,
   "metadata": {},
   "outputs": [
    {
     "data": {
      "text/plain": [
       "tensor([[[ 0.0101, -0.2995,  0.7591,  ..., -0.4773,  1.8763, -0.3712],\n",
       "         [ 0.4044,  0.3471,  0.6396,  ...,  0.0115,  1.2313,  0.1068],\n",
       "         [ 0.2971,  0.1761, -0.2905,  ..., -0.4220,  1.2331, -0.7716],\n",
       "         [ 0.0943,  1.2148,  0.6943,  ..., -0.3775,  2.2045, -0.1179],\n",
       "         [ 0.4961, -0.9022,  1.1043,  ...,  0.0321,  1.9898, -0.1936]]],\n",
       "       grad_fn=<NativeLayerNormBackward0>)"
      ]
     },
     "execution_count": 16,
     "metadata": {},
     "output_type": "execute_result"
    }
   ],
   "source": [
    "bert_output = bert_model(**sen_tokenized)\n",
    "bert_output.last_hidden_state"
   ]
  },
  {
   "cell_type": "code",
   "execution_count": 17,
   "metadata": {},
   "outputs": [
    {
     "data": {
      "text/plain": [
       "torch.Size([1, 5, 512])"
      ]
     },
     "execution_count": 17,
     "metadata": {},
     "output_type": "execute_result"
    }
   ],
   "source": [
    "bert_output.last_hidden_state.shape"
   ]
  },
  {
   "cell_type": "code",
   "execution_count": 18,
   "metadata": {},
   "outputs": [],
   "source": [
    "tokenize = lambda x: tokenizer(x, \n",
    "                               truncation=True, \n",
    "                               padding='max_length', \n",
    "                               max_length=512, \n",
    "                               return_tensors='pt', \n",
    "                               add_special_tokens=True)\n",
    "\n",
    "\n",
    "\n",
    "\n",
    "df_train['token']=df_train['Text'].apply(tokenize)\n",
    "\n",
    "df_test['token']=df_test['Text'].apply(tokenize)\n",
    "\n",
    "df_valid['token']=df_valid['Text'].apply(tokenize)\n"
   ]
  },
  {
   "cell_type": "code",
   "execution_count": 19,
   "metadata": {},
   "outputs": [
    {
     "data": {
      "text/plain": [
       "0        [input_ids, token_type_ids, attention_mask]\n",
       "1        [input_ids, token_type_ids, attention_mask]\n",
       "2        [input_ids, token_type_ids, attention_mask]\n",
       "3        [input_ids, token_type_ids, attention_mask]\n",
       "4        [input_ids, token_type_ids, attention_mask]\n",
       "                            ...                     \n",
       "12105    [input_ids, token_type_ids, attention_mask]\n",
       "12106    [input_ids, token_type_ids, attention_mask]\n",
       "12107    [input_ids, token_type_ids, attention_mask]\n",
       "12108    [input_ids, token_type_ids, attention_mask]\n",
       "12109    [input_ids, token_type_ids, attention_mask]\n",
       "Name: token, Length: 12110, dtype: object"
      ]
     },
     "execution_count": 19,
     "metadata": {},
     "output_type": "execute_result"
    }
   ],
   "source": [
    "df_train['token']"
   ]
  },
  {
   "cell_type": "markdown",
   "metadata": {},
   "source": [
    "# Model definition and forward function"
   ]
  },
  {
   "cell_type": "code",
   "execution_count": 47,
   "metadata": {},
   "outputs": [],
   "source": [
    "#fistly need datasets with dataloaders\n",
    "\n",
    "class BertClassificationDataset(Dataset):\n",
    "    def __init__(self, dataframe: pd.DataFrame):\n",
    "        self.dataframe = dataframe\n",
    "        \n",
    "    def __len__(self):\n",
    "        return len(self.dataframe)\n",
    "    \n",
    "    def __getitem__(self, idx):\n",
    "        label = self.dataframe['Label'][idx]\n",
    "        token = self.dataframe['token'][idx]\n",
    "        return {'input_ids': token['input_ids'], \n",
    "                'attention_mask': token['attention_mask'], \n",
    "                'label': torch.tensor(label)}"
   ]
  },
  {
   "cell_type": "code",
   "execution_count": 48,
   "metadata": {},
   "outputs": [],
   "source": [
    "BATCH_SIZE = 64\n",
    "\n",
    "bert_train = BertClassificationDataset(df_train)\n",
    "bert_valid = BertClassificationDataset(df_valid)\n",
    "\n",
    "bert_train_loader = DataLoader(bert_train, batch_size=BATCH_SIZE, shuffle=True)\n",
    "bert_valid_loader = DataLoader(bert_valid, batch_size=BATCH_SIZE, shuffle=False)"
   ]
  },
  {
   "cell_type": "code",
   "execution_count": 49,
   "metadata": {},
   "outputs": [
    {
     "data": {
      "text/plain": [
       "{'input_ids': tensor([[  101,  1999,  2804,  2000,  1996,  6234,  2166,  1011,  7494, 19388,\n",
       "           1010, 29073,  2003,  2635,  2895,  2000,  4047,  3263,  2336,  2040,\n",
       "           2031,  3369,  2012,  1996,  7958,  1999, 13491,  2302,  2037,  2945,\n",
       "           1012,   102,     0,     0,     0,     0,     0,     0,     0,     0,\n",
       "              0,     0,     0,     0,     0,     0,     0,     0,     0,     0,\n",
       "              0,     0,     0,     0,     0,     0,     0,     0,     0,     0,\n",
       "              0,     0,     0,     0,     0,     0,     0,     0,     0,     0,\n",
       "              0,     0,     0,     0,     0,     0,     0,     0,     0,     0,\n",
       "              0,     0,     0,     0,     0,     0,     0,     0,     0,     0,\n",
       "              0,     0,     0,     0,     0,     0,     0,     0,     0,     0,\n",
       "              0,     0,     0,     0,     0,     0,     0,     0,     0,     0,\n",
       "              0,     0,     0,     0,     0,     0,     0,     0,     0,     0,\n",
       "              0,     0,     0,     0,     0,     0,     0,     0,     0,     0,\n",
       "              0,     0,     0,     0,     0,     0,     0,     0,     0,     0,\n",
       "              0,     0,     0,     0,     0,     0,     0,     0,     0,     0,\n",
       "              0,     0,     0,     0,     0,     0,     0,     0,     0,     0,\n",
       "              0,     0,     0,     0,     0,     0,     0,     0,     0,     0,\n",
       "              0,     0,     0,     0,     0,     0,     0,     0,     0,     0,\n",
       "              0,     0,     0,     0,     0,     0,     0,     0,     0,     0,\n",
       "              0,     0,     0,     0,     0,     0,     0,     0,     0,     0,\n",
       "              0,     0,     0,     0,     0,     0,     0,     0,     0,     0,\n",
       "              0,     0,     0,     0,     0,     0,     0,     0,     0,     0,\n",
       "              0,     0,     0,     0,     0,     0,     0,     0,     0,     0,\n",
       "              0,     0,     0,     0,     0,     0,     0,     0,     0,     0,\n",
       "              0,     0,     0,     0,     0,     0,     0,     0,     0,     0,\n",
       "              0,     0,     0,     0,     0,     0,     0,     0,     0,     0,\n",
       "              0,     0,     0,     0,     0,     0,     0,     0,     0,     0,\n",
       "              0,     0,     0,     0,     0,     0,     0,     0,     0,     0,\n",
       "              0,     0,     0,     0,     0,     0,     0,     0,     0,     0,\n",
       "              0,     0,     0,     0,     0,     0,     0,     0,     0,     0,\n",
       "              0,     0,     0,     0,     0,     0,     0,     0,     0,     0,\n",
       "              0,     0,     0,     0,     0,     0,     0,     0,     0,     0,\n",
       "              0,     0,     0,     0,     0,     0,     0,     0,     0,     0,\n",
       "              0,     0,     0,     0,     0,     0,     0,     0,     0,     0,\n",
       "              0,     0,     0,     0,     0,     0,     0,     0,     0,     0,\n",
       "              0,     0,     0,     0,     0,     0,     0,     0,     0,     0,\n",
       "              0,     0,     0,     0,     0,     0,     0,     0,     0,     0,\n",
       "              0,     0,     0,     0,     0,     0,     0,     0,     0,     0,\n",
       "              0,     0,     0,     0,     0,     0,     0,     0,     0,     0,\n",
       "              0,     0,     0,     0,     0,     0,     0,     0,     0,     0,\n",
       "              0,     0,     0,     0,     0,     0,     0,     0,     0,     0,\n",
       "              0,     0,     0,     0,     0,     0,     0,     0,     0,     0,\n",
       "              0,     0,     0,     0,     0,     0,     0,     0,     0,     0,\n",
       "              0,     0,     0,     0,     0,     0,     0,     0,     0,     0,\n",
       "              0,     0,     0,     0,     0,     0,     0,     0,     0,     0,\n",
       "              0,     0,     0,     0,     0,     0,     0,     0,     0,     0,\n",
       "              0,     0,     0,     0,     0,     0,     0,     0,     0,     0,\n",
       "              0,     0,     0,     0,     0,     0,     0,     0,     0,     0,\n",
       "              0,     0,     0,     0,     0,     0,     0,     0,     0,     0,\n",
       "              0,     0,     0,     0,     0,     0,     0,     0,     0,     0,\n",
       "              0,     0,     0,     0,     0,     0,     0,     0,     0,     0,\n",
       "              0,     0]]),\n",
       " 'attention_mask': tensor([[1, 1, 1, 1, 1, 1, 1, 1, 1, 1, 1, 1, 1, 1, 1, 1, 1, 1, 1, 1, 1, 1, 1, 1,\n",
       "          1, 1, 1, 1, 1, 1, 1, 1, 0, 0, 0, 0, 0, 0, 0, 0, 0, 0, 0, 0, 0, 0, 0, 0,\n",
       "          0, 0, 0, 0, 0, 0, 0, 0, 0, 0, 0, 0, 0, 0, 0, 0, 0, 0, 0, 0, 0, 0, 0, 0,\n",
       "          0, 0, 0, 0, 0, 0, 0, 0, 0, 0, 0, 0, 0, 0, 0, 0, 0, 0, 0, 0, 0, 0, 0, 0,\n",
       "          0, 0, 0, 0, 0, 0, 0, 0, 0, 0, 0, 0, 0, 0, 0, 0, 0, 0, 0, 0, 0, 0, 0, 0,\n",
       "          0, 0, 0, 0, 0, 0, 0, 0, 0, 0, 0, 0, 0, 0, 0, 0, 0, 0, 0, 0, 0, 0, 0, 0,\n",
       "          0, 0, 0, 0, 0, 0, 0, 0, 0, 0, 0, 0, 0, 0, 0, 0, 0, 0, 0, 0, 0, 0, 0, 0,\n",
       "          0, 0, 0, 0, 0, 0, 0, 0, 0, 0, 0, 0, 0, 0, 0, 0, 0, 0, 0, 0, 0, 0, 0, 0,\n",
       "          0, 0, 0, 0, 0, 0, 0, 0, 0, 0, 0, 0, 0, 0, 0, 0, 0, 0, 0, 0, 0, 0, 0, 0,\n",
       "          0, 0, 0, 0, 0, 0, 0, 0, 0, 0, 0, 0, 0, 0, 0, 0, 0, 0, 0, 0, 0, 0, 0, 0,\n",
       "          0, 0, 0, 0, 0, 0, 0, 0, 0, 0, 0, 0, 0, 0, 0, 0, 0, 0, 0, 0, 0, 0, 0, 0,\n",
       "          0, 0, 0, 0, 0, 0, 0, 0, 0, 0, 0, 0, 0, 0, 0, 0, 0, 0, 0, 0, 0, 0, 0, 0,\n",
       "          0, 0, 0, 0, 0, 0, 0, 0, 0, 0, 0, 0, 0, 0, 0, 0, 0, 0, 0, 0, 0, 0, 0, 0,\n",
       "          0, 0, 0, 0, 0, 0, 0, 0, 0, 0, 0, 0, 0, 0, 0, 0, 0, 0, 0, 0, 0, 0, 0, 0,\n",
       "          0, 0, 0, 0, 0, 0, 0, 0, 0, 0, 0, 0, 0, 0, 0, 0, 0, 0, 0, 0, 0, 0, 0, 0,\n",
       "          0, 0, 0, 0, 0, 0, 0, 0, 0, 0, 0, 0, 0, 0, 0, 0, 0, 0, 0, 0, 0, 0, 0, 0,\n",
       "          0, 0, 0, 0, 0, 0, 0, 0, 0, 0, 0, 0, 0, 0, 0, 0, 0, 0, 0, 0, 0, 0, 0, 0,\n",
       "          0, 0, 0, 0, 0, 0, 0, 0, 0, 0, 0, 0, 0, 0, 0, 0, 0, 0, 0, 0, 0, 0, 0, 0,\n",
       "          0, 0, 0, 0, 0, 0, 0, 0, 0, 0, 0, 0, 0, 0, 0, 0, 0, 0, 0, 0, 0, 0, 0, 0,\n",
       "          0, 0, 0, 0, 0, 0, 0, 0, 0, 0, 0, 0, 0, 0, 0, 0, 0, 0, 0, 0, 0, 0, 0, 0,\n",
       "          0, 0, 0, 0, 0, 0, 0, 0, 0, 0, 0, 0, 0, 0, 0, 0, 0, 0, 0, 0, 0, 0, 0, 0,\n",
       "          0, 0, 0, 0, 0, 0, 0, 0]]),\n",
       " 'label': tensor(9)}"
      ]
     },
     "execution_count": 49,
     "metadata": {},
     "output_type": "execute_result"
    }
   ],
   "source": [
    "bert_train.__getitem__(0)"
   ]
  },
  {
   "cell_type": "code",
   "execution_count": 58,
   "metadata": {},
   "outputs": [],
   "source": [
    "class ClassificationBERTModel(nn.Module):\n",
    "    def __init__(self, \n",
    "                 bert_model: transformers.models.bert.modeling_bert.BertModel, \n",
    "                 num_classes: int):\n",
    "        \n",
    "        super(ClassificationBERTModel, self).__init__()\n",
    "        self.bert_model = bert_model\n",
    "        self.dropout = nn.Dropout(0.1)\n",
    "        self.fc = nn.Linear(self.bert_model.config.hidden_size, num_classes)\n",
    "\n",
    "    def forward(self, input_ids, attention_mask):\n",
    "        outputs = self.bert_model(input_ids=input_ids, attention_mask=attention_mask)\n",
    "        clf = outputs.pooler_output \n",
    "        #pooler output is meant to capture \n",
    "        #the essence of the entire sequence for classification\n",
    "        logits = self.fc(clf)\n",
    "        probs = nn.Softmax(dim=1)(logits)\n",
    "        return probs"
   ]
  },
  {
   "cell_type": "code",
   "execution_count": 54,
   "metadata": {},
   "outputs": [],
   "source": [
    "#slighly modified training/validation step\n",
    "\n",
    "def train_step(model: nn.Module,\n",
    "               dataloader: torch.utils.data.DataLoader,\n",
    "               loss_fn: torch.nn.modules.loss,\n",
    "               optimizer: torch.optim):\n",
    "    \n",
    "    train_loss, train_acc = 0, 0\n",
    "    \n",
    "    model.train()\n",
    "\n",
    "\n",
    "    for batch in tqdm(dataloader, desc=\"Training\"):\n",
    "        \n",
    "        input_ids = batch['input_ids'].to(device).squeeze(1)\n",
    "        attention_mask = batch['attention_mask'].to(device).squeeze(1)\n",
    "        y = batch['label'].to(device)\n",
    "        y_pred = model(input_ids=input_ids, \n",
    "                       attention_mask=attention_mask)\n",
    "        loss = loss_fn(y_pred, y)\n",
    "        loss.backward()\n",
    "        optimizer.step()\n",
    "        optimizer.zero_grad()\n",
    "        \n",
    "        y_class = torch.argmax(torch.softmax(y_pred, dim=1), dim=1)\n",
    "        acc = torch.eq(y_class, y).sum().item() / len(y_pred)\n",
    "        \n",
    "        train_loss += loss.item()\n",
    "        train_acc += acc\n",
    "    \n",
    "    train_loss /= len(dataloader)\n",
    "    train_acc /= len(dataloader)\n",
    "    \n",
    "    return train_loss, train_acc\n",
    "    \n",
    "    \n",
    "    \n",
    "def valid_step(model: nn. Module,\n",
    "              dataloader: torch.utils.data.DataLoader,\n",
    "              loss_fn : nn.Module):\n",
    "\n",
    "    model.eval()\n",
    "    \n",
    "    valid_loss, valid_acc = 0, 0\n",
    "    with torch.inference_mode():\n",
    "        \n",
    "        for batch in tqdm(dataloader, desc=\"Validating\"):\n",
    "            \n",
    "            input_ids = batch['input_ids'].to(device).squeeze(1)\n",
    "            attention_mask = batch['attention_mask'].to(device).squeeze(1)\n",
    "            y = batch['label'].to(device)\n",
    "            y_pred = model(input_ids=input_ids, attention_mask=attention_mask)\n",
    "            loss = loss_fn(y_pred, y)\n",
    "            y_class = torch.argmax(torch.softmax(y_pred, dim=1), dim=1)\n",
    "            valid_loss += loss.item()\n",
    "            valid_acc += torch.eq(y_class, y).sum().item() / len(y_pred)\n",
    "\n",
    "    valid_loss /= len(dataloader)\n",
    "    valid_acc /= len(dataloader)\n",
    "\n",
    "    return valid_loss, valid_acc"
   ]
  },
  {
   "cell_type": "markdown",
   "metadata": {},
   "source": [
    "# Training and overall functionality"
   ]
  },
  {
   "cell_type": "code",
   "execution_count": 55,
   "metadata": {
    "scrolled": true
   },
   "outputs": [
    {
     "name": "stdout",
     "output_type": "stream",
     "text": [
      "The model has 28769804 parameters\n"
     ]
    }
   ],
   "source": [
    "bert_model_torch = ClassificationBERTModel(bert_model, output_dim).to(device)\n",
    "num_params = sum(p.numel() for p in bert_model_torch.parameters() if p.requires_grad)\n",
    "print(f'The model has {num_params} parameters')"
   ]
  },
  {
   "cell_type": "code",
   "execution_count": 57,
   "metadata": {},
   "outputs": [],
   "source": [
    "criterion = nn.CrossEntropyLoss()\n",
    "optimizer = torch.optim.Adam(model.parameters(), lr=0.001)\n",
    "# train_validate_save(result_embed,bert_model_torch,bert_train_loader,bert_valid_loader,optimizer,criterion,'nn_emb',epochs=1,save=True)"
   ]
  },
  {
   "cell_type": "code",
   "execution_count": null,
   "metadata": {},
   "outputs": [],
   "source": []
  },
  {
   "cell_type": "code",
   "execution_count": null,
   "metadata": {},
   "outputs": [],
   "source": []
  }
 ],
 "metadata": {
  "kernelspec": {
   "display_name": "Python 3 (ipykernel)",
   "language": "python",
   "name": "python3"
  },
  "language_info": {
   "codemirror_mode": {
    "name": "ipython",
    "version": 3
   },
   "file_extension": ".py",
   "mimetype": "text/x-python",
   "name": "python",
   "nbconvert_exporter": "python",
   "pygments_lexer": "ipython3",
   "version": "3.9.18"
  }
 },
 "nbformat": 4,
 "nbformat_minor": 4
}
