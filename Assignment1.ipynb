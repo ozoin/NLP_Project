{
 "cells": [
  {
   "cell_type": "markdown",
   "metadata": {},
   "source": [
    "Please fill out the information of your group!\n",
    "\n",
    "| <p style=\"text-align: center;\">First Name</p>  | <p style=\"text-align: center;\">Family Name</p> | Matr.-No. |\n",
    "| ---------------------------------------------- | ---------------------------------------------- | -------- |\n",
    "| <p style=\"text-align: left\">*EDIT!*</p>| <p style=\"text-align: left\">*EDIT!*</p> | *EDIT!* |\n",
    "| <p style=\"text-align: left\">*EDIT!*</p>| <p style=\"text-align: left\">*EDIT!*</p> | *EDIT!* |\n"
   ]
  },
  {
   "cell_type": "markdown",
   "metadata": {},
   "source": [
    "<h2 style=\"text-align: center\">344.105/6/7 UE: Natural Language Processing (WS2022/23)</h2>\n",
    "<h1 style=\"color:rgb(0,120,170)\">Assignment 1</h1>\n",
    "<h2 style=\"color:rgb(0,120,170)\">Document Classification with Standard Machine Learning Methods</h2>"
   ]
  },
  {
   "cell_type": "markdown",
   "metadata": {},
   "source": [
    "<div>\n",
    "<b>Terms of Use</b><br>\n",
    "This  material is prepared for educational purposes at the Johannes Kepler University (JKU) Linz, and is exclusively provided to the registered students of the mentioned course at JKU. It is strictly forbidden to distribute the current file, the contents of the assignment, and its solution. The use or reproduction of this manuscript is only allowed for educational purposes in non-profit organizations, while in this case, the explicit prior acceptance of the author(s) is required.\n",
    "\n",
    "**Authors:** Navid Rekab-saz, Oleg Lesota<br>\n",
    "\n",
    "</div>"
   ]
  },
  {
   "cell_type": "markdown",
   "metadata": {},
   "source": [
    "<h2>Table of contents</h2>\n",
    "<ol>\n",
    "    <a href=\"#section-general-guidelines\"><li style=\"font-size:large;font-weight:bold\">General Guidelines</li></a>\n",
    "    <a href=\"#section-preprocessing\"><li style=\"font-size:large;font-weight:bold\">Task A: Pre-processing & Feature Extraction (15 points)</li></a>\n",
    "    <a href=\"#section-training\"><li style=\"font-size:large;font-weight:bold\">Task B: Training and Results Analysis (15 points)</li></a>\n",
    "    <a href=\"#section-optional\"><li style=\"font-size:large;font-weight:bold\">Task C: Linear Model Interpretability (2 extra point)</li></a>\n",
    "    \n",
    "</ol>"
   ]
  },
  {
   "cell_type": "markdown",
   "metadata": {},
   "source": [
    "<a name=\"section-general-guidelines\"></a><h2 style=\"color:rgb(0,120,170)\">General Guidelines</h2>"
   ]
  },
  {
   "cell_type": "markdown",
   "metadata": {},
   "source": [
    "<div>\n",
    "\n",
    "### Assignment objective\n",
    "\n",
    "The aim of this assignment is to implement a document (sentence) classification model using (standard) machine learning methods. The assignment in total has **30 points**; it also offers **2 extra points** which can cover any missing point.\n",
    "\n",
    "This Notebook encompasses all aspects of the assignment, namely the descriptions of tasks as well as your solutions and reports. Feel free to add any required cell for solutions. The cells can contain code, reports, charts, tables, or any other material, required for the assignment. Feel free to provide the solutions in an interactive and visual way! \n",
    "\n",
    "Please discuss any unclear point in the assignment in the provided forum in MOODLE. It is also encouraged to provide answers to your peer's questions. However when submitting a post, keep in mind to avoid providing solutions. Please let the tutor(s) know shall you find any error or unclarity in the assignment.\n",
    "\n",
    "</div>\n"
   ]
  },
  {
   "cell_type": "markdown",
   "metadata": {},
   "source": [
    "<div>\n",
    "\n",
    "### Libraries & Dataset\n",
    "\n",
    "The assignment should be implemented with recent versions of `Python` (>3.7). Any standard Python library can be used, so far that the library is free and can be simply installed using `pip` or `conda`. Examples of potentially useful libraries are `scikit-learn`, `numpy`, `scipy`, `gensim`, `nltk`, `spaCy`, and `AllenNLP`. Use the latest stable version of each library.\n",
    "\n",
    "To conduct the experiments, we use a subset of the `HumSet` dataset [1] (https://blog.thedeep.io/humset/). `HumSet` is created by the DEEP (https://www.thedeep.io) project – an open source platform which aims to facilitate processing of textual data for international humanitarian response organizations. The platform enables the classification of text excerpts, extracted from news and reports into a set of domain specific classes. The provided dataset contains the classes (labels) referring to the humanitarian sectors like agriculture, health, and protection. The dataset contains an overall number of 17,301 data points. \n",
    "\n",
    "Download the dataset from the Moodle page of the course.\n",
    "\n",
    "the provided zip file consists of the following files:\n",
    "- `thedeep.subset.train.txt`: Train set in csv format with three fields: sentence_id, text, and label.\n",
    "- `thedeep.subset.validation.txt`: Validation set in csv format with three fields: sentence_id, text, and label.\n",
    "- `thedeep.subset.test.txt`: Test set in csv format with three fields: sentence_id, text, and label.\n",
    "- `thedeep.subset.labels.txt`: Captions of the labels.\n",
    "- `thedeep.ToU.txt`: Terms of use of the dataset.\n",
    "\n",
    "[1] HumSet: Dataset of Multilingual Information Extraction and Classification for Humanitarian Crises Response\n",
    "*Selim Fekih, Nicolo' Tamagnone, Benjamin Minixhofer, Ranjan Shrestha, Ximena Contla, Ewan Oglethorpe and Navid Rekabsaz.* \n",
    "In Findings of the 2022 Conference on Empirical Methods in Natural Language Processing (Findings of EMNLP), December 2022.\n",
    "\n",
    "</div>\n",
    "\n"
   ]
  },
  {
   "cell_type": "markdown",
   "metadata": {},
   "source": [
    "<div >\n",
    "\n",
    "### Submission\n",
    "\n",
    "Each group should submit the following two files:\n",
    "\n",
    "- One Jupyter Notebook file (`.ipynb`), containing all the code, results, visualizations, etc. **In the submitted Notebook, all the results and visualizations should already be present, and can be observed simply by loading the Notebook in a browser.** The Notebook must be self-contained, meaning that (if necessary) one can run all the cells from top to bottom without any error. Do not forget to put in your names and student numbers in the first cell of the Notebook. \n",
    "- The HTML file (`.html`) achieved from exporting the Jupyter Notebook to HTML (Download As HTML).\n",
    "\n",
    "You do not need to include the data files in the submission.\n",
    "\n",
    "\n",
    "</div>"
   ]
  },
  {
   "cell_type": "markdown",
   "metadata": {},
   "source": [
    "<a name=\"section-preprocessing\"></a><h2 style=\"color:rgb(0,120,170)\">Task A: Pre-processing & Feature Extraction (15 points)</h2>"
   ]
  },
  {
   "cell_type": "markdown",
   "metadata": {},
   "source": [
    "<div>\n",
    "    \n",
    "**Preprocessing (5 points).** Load the train, validation, and test sets. Study the text and according to your judgements, apply at least <ins>two text cleaning/preprocessing methods</ins>. Punctuations marks, numbers, dates, case-sensitivity are some examples of the elements which can be potentially considered for cleaning/preprocessing. Tokenize the result text with a tokenizer of your choice. Report your approaches to text cleaning and tokenization and the reasons of your choices. Provide some examples, showing the effects of the applied approaches on the text.\n",
    "\n",
    "**Creating dictionary (5 points).** Create a dictionary of vocabularies following the guidelines discussed in the lecture. Next, reduce the size of dictionary using a method of your choice, for instance by considering a cut-off threshold on the tokens with low frequencies. When removing tokens from the dictionary, consider a strategy for handling Out-Of-Vocabulary (OOV) tokens, namely the ones in the train/validation/test datasets that that are not anymore in the dictionary. Some possible strategies could be to remove OOVs completely from the texts, or to replace them with a special token like <OOV\\>. Explain your approaches and report the statistics of the dictionary before and after the reduction.\n",
    "\n",
    "**Creating sentence vectors (5 points).** Use the dictionary to prepare <ins>two variations of document representation vectors</ins>, separately for train, validation, and test sets. Both variations follow a Bag-of-Words approach with a different token weighting method. One applied weighting must be `tf-idf` and the other one can be any other method discussed in the lecture such as `tc`, `tf`, `BM25`. These term weighting methods should be implemented; using a library to readily calculate the term weightings is not allowed. Report the applied approaches. Calculate and report the sparsity rate of the vectors of train, validation, and test sets, namely what percentages of the vectors in each set are filled with zeros.\n",
    "\n",
    "</div>"
   ]
  },
  {
   "cell_type": "markdown",
   "metadata": {},
   "source": [
    "# Preprocessing"
   ]
  },
  {
   "cell_type": "code",
   "execution_count": 1,
   "metadata": {},
   "outputs": [
    {
     "name": "stderr",
     "output_type": "stream",
     "text": [
      "[nltk_data] Downloading package stopwords to\n",
      "[nltk_data]     /Users/nikita/nltk_data...\n",
      "[nltk_data]   Package stopwords is already up-to-date!\n",
      "[nltk_data] Downloading package punkt to /Users/nikita/nltk_data...\n",
      "[nltk_data]   Package punkt is already up-to-date!\n"
     ]
    }
   ],
   "source": [
    "import pandas as pd\n",
    "import numpy as np\n",
    "import nltk\n",
    "from nltk.corpus import stopwords\n",
    "from nltk.tokenize import RegexpTokenizer\n",
    "from nltk.tokenize import word_tokenize\n",
    "nltk.download('stopwords')\n",
    "nltk.download('punkt')\n",
    "stopwords = stopwords.words('english')\n",
    "\n",
    "test_path = \"nlp2023_24_data/thedeep.subset.test.txt\"\n",
    "train_path = \"nlp2023_24_data/thedeep.subset.train.txt\"\n",
    "valid_path = \"nlp2023_24_data/thedeep.subset.validation.txt\"\n",
    "labels = \"nlp2023_24_data/thedeep.labels.txt\"\n",
    "\n",
    "df_test = pd.read_csv(test_path, header=None, names=[\"ID\", \"Text\", \"Label\"], delimiter=\",\")\n",
    "df_train = pd.read_csv(train_path, header=None, names=[\"ID\", \"Text\", \"Label\"], delimiter=\",\")\n",
    "df_valid = pd.read_csv(valid_path, header=None, names=[\"ID\", \"Text\", \"Label\"], delimiter=\",\")\n",
    "labels = pd.read_csv(labels, header=None, names=[\"ID\", \"Label\"], delimiter=\",\")"
   ]
  },
  {
   "cell_type": "code",
   "execution_count": 2,
   "metadata": {},
   "outputs": [],
   "source": [
    "import re\n",
    "from nltk.stem.porter import *\n",
    "\n",
    "#Text preprocesssing performed. \n",
    "#Lower all the words in the sentence\n",
    "#Tokenize each word (sentence is represented as list of elements, where each element is a word)\n",
    "#Remove numbers with <NUM>\n",
    "#Remove stowpords, such as 'i'm' . Remove punctuation!\n",
    "#Use stemmer. attacks -> attack\n",
    "def preprocessing(df):\n",
    "    \"Takes unprocessed Dataframe and returns already modified dataframe.\"\n",
    "    for i,row in df.iterrows():\n",
    "        sentence = row['Text'].lower()\n",
    "        sentence = re.sub(r'\\d+','',sentence)\n",
    "        # sentence = sentence.split()\n",
    "        tokenizer = RegexpTokenizer(r'\\w+|<NUM>')\n",
    "        sentence = tokenizer.tokenize(sentence)\n",
    "        remove_stopw = [word for word in sentence if not word in stopwords]\n",
    "        stemmer = PorterStemmer()\n",
    "        stemmed_sentence = [stemmer.stem(word) for word in remove_stopw]\n",
    "        df.at[i, 'Text'] = stemmed_sentence\n",
    "    return df\n",
    "\n",
    "#PREPROCESS ALL THE DATASETS\n",
    "df_test_prepr = preprocessing(df_test)\n",
    "df_train_prepr = preprocessing(df_train)\n",
    "df_valid_prepr = preprocessing(df_valid)"
   ]
  },
  {
   "cell_type": "code",
   "execution_count": 3,
   "metadata": {},
   "outputs": [
    {
     "data": {
      "text/html": [
       "<div>\n",
       "<style scoped>\n",
       "    .dataframe tbody tr th:only-of-type {\n",
       "        vertical-align: middle;\n",
       "    }\n",
       "\n",
       "    .dataframe tbody tr th {\n",
       "        vertical-align: top;\n",
       "    }\n",
       "\n",
       "    .dataframe thead th {\n",
       "        text-align: right;\n",
       "    }\n",
       "</style>\n",
       "<table border=\"1\" class=\"dataframe\">\n",
       "  <thead>\n",
       "    <tr style=\"text-align: right;\">\n",
       "      <th></th>\n",
       "      <th>ID</th>\n",
       "      <th>Text</th>\n",
       "      <th>Label</th>\n",
       "    </tr>\n",
       "  </thead>\n",
       "  <tbody>\n",
       "    <tr>\n",
       "      <th>0</th>\n",
       "      <td>5805</td>\n",
       "      <td>[overal, decreas, mam, children, admiss, april...</td>\n",
       "      <td>8</td>\n",
       "    </tr>\n",
       "    <tr>\n",
       "      <th>1</th>\n",
       "      <td>17120</td>\n",
       "      <td>[fear, ebola, also, led, attack, health, worke...</td>\n",
       "      <td>9</td>\n",
       "    </tr>\n",
       "    <tr>\n",
       "      <th>2</th>\n",
       "      <td>11901</td>\n",
       "      <td>[wheat, stapl, food, afghan, compris, percent,...</td>\n",
       "      <td>3</td>\n",
       "    </tr>\n",
       "    <tr>\n",
       "      <th>3</th>\n",
       "      <td>2589</td>\n",
       "      <td>[receiv, seriou, alleg, two, lna, fighter, sum...</td>\n",
       "      <td>9</td>\n",
       "    </tr>\n",
       "    <tr>\n",
       "      <th>4</th>\n",
       "      <td>4188</td>\n",
       "      <td>[somali, woreda, hotspot, k, mam, k, sam, expect]</td>\n",
       "      <td>8</td>\n",
       "    </tr>\n",
       "    <tr>\n",
       "      <th>...</th>\n",
       "      <td>...</td>\n",
       "      <td>...</td>\n",
       "      <td>...</td>\n",
       "    </tr>\n",
       "    <tr>\n",
       "      <th>2590</th>\n",
       "      <td>1979</td>\n",
       "      <td>[tropic, storm, dineo, caus, widespread, damag...</td>\n",
       "      <td>10</td>\n",
       "    </tr>\n",
       "    <tr>\n",
       "      <th>2591</th>\n",
       "      <td>7549</td>\n",
       "      <td>[monsoon, rain, increas, water, level, major, ...</td>\n",
       "      <td>10</td>\n",
       "    </tr>\n",
       "    <tr>\n",
       "      <th>2592</th>\n",
       "      <td>6064</td>\n",
       "      <td>[extrem, concern, possibl, outbreak, water, bo...</td>\n",
       "      <td>11</td>\n",
       "    </tr>\n",
       "    <tr>\n",
       "      <th>2593</th>\n",
       "      <td>3582</td>\n",
       "      <td>[newli, displac, person, al, mukha, dhubab, ar...</td>\n",
       "      <td>11</td>\n",
       "    </tr>\n",
       "    <tr>\n",
       "      <th>2594</th>\n",
       "      <td>1049</td>\n",
       "      <td>[state, emerg, declar, area, affect, heavi, ra...</td>\n",
       "      <td>10</td>\n",
       "    </tr>\n",
       "  </tbody>\n",
       "</table>\n",
       "<p>2595 rows × 3 columns</p>\n",
       "</div>"
      ],
      "text/plain": [
       "         ID                                               Text  Label\n",
       "0      5805  [overal, decreas, mam, children, admiss, april...      8\n",
       "1     17120  [fear, ebola, also, led, attack, health, worke...      9\n",
       "2     11901  [wheat, stapl, food, afghan, compris, percent,...      3\n",
       "3      2589  [receiv, seriou, alleg, two, lna, fighter, sum...      9\n",
       "4      4188  [somali, woreda, hotspot, k, mam, k, sam, expect]      8\n",
       "...     ...                                                ...    ...\n",
       "2590   1979  [tropic, storm, dineo, caus, widespread, damag...     10\n",
       "2591   7549  [monsoon, rain, increas, water, level, major, ...     10\n",
       "2592   6064  [extrem, concern, possibl, outbreak, water, bo...     11\n",
       "2593   3582  [newli, displac, person, al, mukha, dhubab, ar...     11\n",
       "2594   1049  [state, emerg, declar, area, affect, heavi, ra...     10\n",
       "\n",
       "[2595 rows x 3 columns]"
      ]
     },
     "execution_count": 3,
     "metadata": {},
     "output_type": "execute_result"
    }
   ],
   "source": [
    "df_test_prepr"
   ]
  },
  {
   "cell_type": "markdown",
   "metadata": {},
   "source": [
    "# Creating dictionary"
   ]
  },
  {
   "cell_type": "code",
   "execution_count": 4,
   "metadata": {},
   "outputs": [],
   "source": [
    "from collections import Counter\n",
    "\n",
    "\n",
    "def create_vocab_dict(preprocessed: pd.DataFrame = df_train_prepr,\n",
    "                      topN: int = 1000):\n",
    "\n",
    "    all_words = list([item for sublist in preprocessed['Text'] for item in sublist])\n",
    "\n",
    "    dictionary = pd.DataFrame.from_dict(Counter(all_words), orient='index').reset_index()\n",
    "    dict_full = dictionary.rename(columns={'index':'word', 0:'count'})\n",
    "    dict_full = dict_full.sort_values(by='count', ascending = False)\n",
    "    dict_cut = dict_full.head(topN)\n",
    "    \n",
    "    return dict_full, dict_cut"
   ]
  },
  {
   "cell_type": "code",
   "execution_count": 5,
   "metadata": {},
   "outputs": [
    {
     "data": {
      "text/html": [
       "<div>\n",
       "<style scoped>\n",
       "    .dataframe tbody tr th:only-of-type {\n",
       "        vertical-align: middle;\n",
       "    }\n",
       "\n",
       "    .dataframe tbody tr th {\n",
       "        vertical-align: top;\n",
       "    }\n",
       "\n",
       "    .dataframe thead th {\n",
       "        text-align: right;\n",
       "    }\n",
       "</style>\n",
       "<table border=\"1\" class=\"dataframe\">\n",
       "  <thead>\n",
       "    <tr style=\"text-align: right;\">\n",
       "      <th></th>\n",
       "      <th>word</th>\n",
       "      <th>count</th>\n",
       "    </tr>\n",
       "  </thead>\n",
       "  <tbody>\n",
       "    <tr>\n",
       "      <th>284</th>\n",
       "      <td>case</td>\n",
       "      <td>5767</td>\n",
       "    </tr>\n",
       "    <tr>\n",
       "      <th>156</th>\n",
       "      <td>report</td>\n",
       "      <td>5146</td>\n",
       "    </tr>\n",
       "    <tr>\n",
       "      <th>51</th>\n",
       "      <td>food</td>\n",
       "      <td>4380</td>\n",
       "    </tr>\n",
       "    <tr>\n",
       "      <th>17</th>\n",
       "      <td>peopl</td>\n",
       "      <td>3910</td>\n",
       "    </tr>\n",
       "    <tr>\n",
       "      <th>27</th>\n",
       "      <td>area</td>\n",
       "      <td>3572</td>\n",
       "    </tr>\n",
       "    <tr>\n",
       "      <th>...</th>\n",
       "      <td>...</td>\n",
       "      <td>...</td>\n",
       "    </tr>\n",
       "    <tr>\n",
       "      <th>388</th>\n",
       "      <td>doubl</td>\n",
       "      <td>97</td>\n",
       "    </tr>\n",
       "    <tr>\n",
       "      <th>215</th>\n",
       "      <td>hama</td>\n",
       "      <td>97</td>\n",
       "    </tr>\n",
       "    <tr>\n",
       "      <th>2730</th>\n",
       "      <td>loot</td>\n",
       "      <td>97</td>\n",
       "    </tr>\n",
       "    <tr>\n",
       "      <th>2776</th>\n",
       "      <td>winter</td>\n",
       "      <td>97</td>\n",
       "    </tr>\n",
       "    <tr>\n",
       "      <th>1474</th>\n",
       "      <td>hepat</td>\n",
       "      <td>97</td>\n",
       "    </tr>\n",
       "  </tbody>\n",
       "</table>\n",
       "<p>1000 rows × 2 columns</p>\n",
       "</div>"
      ],
      "text/plain": [
       "        word  count\n",
       "284     case   5767\n",
       "156   report   5146\n",
       "51      food   4380\n",
       "17     peopl   3910\n",
       "27      area   3572\n",
       "...      ...    ...\n",
       "388    doubl     97\n",
       "215     hama     97\n",
       "2730    loot     97\n",
       "2776  winter     97\n",
       "1474   hepat     97\n",
       "\n",
       "[1000 rows x 2 columns]"
      ]
     },
     "execution_count": 5,
     "metadata": {},
     "output_type": "execute_result"
    }
   ],
   "source": [
    "dict_full, dict_cut = create_vocab_dict(topN=1000)\n",
    "dict_cut"
   ]
  },
  {
   "cell_type": "code",
   "execution_count": 6,
   "metadata": {},
   "outputs": [
    {
     "data": {
      "image/png": "[encoded data removed]",
      "text/plain": [
       "<Figure size 1080x288 with 2 Axes>"
      ]
     },
     "metadata": {
      "needs_background": "light"
     },
     "output_type": "display_data"
    }
   ],
   "source": [
    "import matplotlib.pyplot as plt\n",
    "\n",
    "\n",
    "figure = plt.figure(figsize = (15, 4))\n",
    "\n",
    "figure.add_subplot(1, 2, 1)\n",
    "\n",
    "\n",
    "plt.plot(range(len(dict_full['count'])),dict_full['count'])\n",
    "plt.grid(True)\n",
    "plt.xlabel('Word index')\n",
    "plt.ylabel('Frequency')\n",
    "plt.title('Distribution of word counts \\n over the whole dataset')\n",
    "\n",
    "\n",
    "\n",
    "figure.add_subplot(1, 2, 2)\n",
    "plt.plot(range(len(dict_cut['count'])),dict_cut['count'])\n",
    "plt.grid(True)\n",
    "plt.xlabel('Word index')\n",
    "plt.ylabel('Frequency')\n",
    "plt.title(f'Distribution of word counts \\n over the cut dataset \\n (top 1000 words by frequency)')\n",
    "plt.show()\n",
    "\n",
    "\n",
    "#We can clearly see a huge disbalance which is to be addressed with model."
   ]
  },
  {
   "cell_type": "markdown",
   "metadata": {},
   "source": [
    "All out-of-cocabulary words were simply removed as well as numbers. For dictionary, it was decided to keep top N=1000 words judging by the graph. Although it is to be experimented with when training the model,therefore N is subject to changing."
   ]
  },
  {
   "cell_type": "markdown",
   "metadata": {},
   "source": [
    "# Creating sentence vectors"
   ]
  },
  {
   "cell_type": "code",
   "execution_count": 7,
   "metadata": {},
   "outputs": [],
   "source": [
    "import numpy as np\n",
    "from tqdm import tqdm\n",
    "\n",
    "class FeatureMatrix:\n",
    "    def __init__(self,\n",
    "                 text_df: pd.DataFrame,\n",
    "                 dictionary: pd.DataFrame = dict_cut):\n",
    "    \n",
    "        \n",
    "        self.dictionary = dictionary.to_numpy()\n",
    "        self.vocabulary = self.dictionary[:, 0]\n",
    "        self.dict_size = len(self.dictionary)\n",
    "        self.text_df = text_df\n",
    "        self.M = len(text_df.axes[0])\n",
    "    \n",
    "        \n",
    "        text_df['text_string'] = text_df['Text'].apply(' '.join)\n",
    "        \n",
    "        \n",
    "        \n",
    "    def tc(self, d, v):\n",
    "        \n",
    "        \"\"\"\n",
    "        number of times 'v' appears in 'd'\n",
    "        \n",
    "        \"\"\"\n",
    "        \n",
    "        return d.count(v) \n",
    "    \n",
    "    def df(self, v):\n",
    "        \n",
    "        \"\"\"\n",
    "        number of 'd' that contain 'v'\n",
    "        \n",
    "        \"\"\"\n",
    "        \n",
    "        return self.text_df['text_string'].str.contains(v, case=False).sum()\n",
    "    \n",
    "    \n",
    "    \n",
    "    def calc_sparcity(self, feat_matr):\n",
    "        \n",
    "        \n",
    "        \"\"\"\n",
    "        calculate the percentage of zeros of a feature matrix\n",
    "        \n",
    "        \"\"\"\n",
    "        \n",
    "        zeros_count = np.count_nonzero(feat_matr.flatten() == 0)\n",
    "        all_count = len(feat_matr.flatten())\n",
    "        \n",
    "        sparsity = (zeros_count / all_count) * 100\n",
    "        \n",
    "        return sparsity\n",
    "        \n",
    "        \n",
    "\n",
    "    def tf_idf_matr(self):\n",
    "        \n",
    "        \"\"\"\n",
    "        \n",
    "        extract term frequency-Inverse document frequency fearure matrix as follows from the slides\n",
    "        \n",
    "        \"\"\"\n",
    "        \n",
    "        \n",
    "        feat_matrix = np.zeros(shape=(self.M, self.dict_size))\n",
    "\n",
    "        for v in range(feat_matrix.shape[1]):\n",
    "            tc = np.array([self.tc(text, self.vocabulary[v]) for text in self.text_df['Text']])\n",
    "            df = self.df(self.vocabulary[v])\n",
    "            feat_matrix[:, v] = np.log(1 + tc) * np.log(self.M / df)\n",
    "        \n",
    "        sparsity = self.calc_sparcity(feat_matrix)\n",
    "        \n",
    "        return feat_matrix, sparsity\n",
    "    \n",
    "    def tc_matr(self):\n",
    "        \n",
    "        \"\"\"\n",
    "        \n",
    "        extract term frequency fearure matrix as follows from the slides\n",
    "        \n",
    "        \"\"\"\n",
    "        \n",
    "        \n",
    "        feat_matrix = np.zeros(shape=(self.M, self.dict_size))\n",
    "        \n",
    "        for v in range(feat_matrix.shape[1]):\n",
    "            tc = np.array([self.tc(text, self.vocabulary[v]) for text in self.text_df['Text']])\n",
    "            feat_matrix[:, v] = tc\n",
    "        \n",
    "        sparsity = self.calc_sparcity(feat_matrix)\n",
    "        \n",
    "        return feat_matrix, sparsity\n",
    "        \n",
    "        \n",
    "    "
   ]
  },
  {
   "cell_type": "code",
   "execution_count": 8,
   "metadata": {},
   "outputs": [],
   "source": [
    "fm_train = FeatureMatrix(df_train_prepr)\n",
    "fm_test = FeatureMatrix(df_test_prepr)\n",
    "fm_val = FeatureMatrix(df_valid_prepr)\n",
    "\n",
    "tf_idf_train, tf_idf_sparsity_train = fm_train.tf_idf_matr()\n",
    "tf_idf_test, tf_idf_sparsity_test = fm_test.tf_idf_matr()\n",
    "tf_idf_val, tf_idf_sparsity_val = fm_val.tf_idf_matr()\n",
    "\n",
    "tc_train, tc_sparsity_train = fm_train.tc_matr()\n",
    "tc_test, tc_sparsity_test = fm_test.tc_matr()\n",
    "tc_val, tc_sparsity_val = fm_val.tc_matr()\n"
   ]
  },
  {
   "cell_type": "code",
   "execution_count": 9,
   "metadata": {},
   "outputs": [
    {
     "data": {
      "text/plain": [
       "array([[0.        , 0.        , 0.        , ..., 0.        , 0.        ,\n",
       "        0.        ],\n",
       "       [0.        , 0.        , 1.96863043, ..., 0.        , 0.        ,\n",
       "        0.        ],\n",
       "       [0.        , 0.        , 1.96863043, ..., 0.        , 0.        ,\n",
       "        0.        ],\n",
       "       ...,\n",
       "       [0.        , 0.93716309, 0.        , ..., 0.        , 0.        ,\n",
       "        0.        ],\n",
       "       [0.        , 0.        , 0.        , ..., 0.        , 0.        ,\n",
       "        0.        ],\n",
       "       [0.        , 0.        , 1.24206751, ..., 0.        , 0.        ,\n",
       "        0.        ]])"
      ]
     },
     "execution_count": 9,
     "metadata": {},
     "output_type": "execute_result"
    }
   ],
   "source": [
    "tf_idf_train"
   ]
  },
  {
   "cell_type": "code",
   "execution_count": 10,
   "metadata": {},
   "outputs": [
    {
     "data": {
      "text/html": [
       "<div>\n",
       "<style scoped>\n",
       "    .dataframe tbody tr th:only-of-type {\n",
       "        vertical-align: middle;\n",
       "    }\n",
       "\n",
       "    .dataframe tbody tr th {\n",
       "        vertical-align: top;\n",
       "    }\n",
       "\n",
       "    .dataframe thead th {\n",
       "        text-align: right;\n",
       "    }\n",
       "</style>\n",
       "<table border=\"1\" class=\"dataframe\">\n",
       "  <thead>\n",
       "    <tr style=\"text-align: right;\">\n",
       "      <th></th>\n",
       "      <th>data_split</th>\n",
       "      <th>tc sparcity</th>\n",
       "      <th>tf_idf sparcity</th>\n",
       "    </tr>\n",
       "  </thead>\n",
       "  <tbody>\n",
       "    <tr>\n",
       "      <th>0</th>\n",
       "      <td>train</td>\n",
       "      <td>97.562469</td>\n",
       "      <td>97.562469</td>\n",
       "    </tr>\n",
       "    <tr>\n",
       "      <th>1</th>\n",
       "      <td>test</td>\n",
       "      <td>97.596185</td>\n",
       "      <td>97.596185</td>\n",
       "    </tr>\n",
       "    <tr>\n",
       "      <th>2</th>\n",
       "      <td>validation</td>\n",
       "      <td>97.592142</td>\n",
       "      <td>97.592142</td>\n",
       "    </tr>\n",
       "  </tbody>\n",
       "</table>\n",
       "</div>"
      ],
      "text/plain": [
       "   data_split  tc sparcity  tf_idf sparcity\n",
       "0       train    97.562469        97.562469\n",
       "1        test    97.596185        97.596185\n",
       "2  validation    97.592142        97.592142"
      ]
     },
     "execution_count": 10,
     "metadata": {},
     "output_type": "execute_result"
    }
   ],
   "source": [
    "x = ['train','test','validation']\n",
    "\n",
    "\n",
    "sparsities = pd.DataFrame({\n",
    "    'data_split' : x,\n",
    "    'tc sparcity': [tc_sparsity_train, tc_sparsity_test, tc_sparsity_val],\n",
    "    'tf_idf sparcity': [tf_idf_sparsity_train, tf_idf_sparsity_test, tf_idf_sparsity_val]\n",
    "})\n",
    "\n",
    "sparsities"
   ]
  },
  {
   "cell_type": "markdown",
   "metadata": {},
   "source": [
    "Clearly, sparsity is large in all scenarios."
   ]
  },
  {
   "cell_type": "markdown",
   "metadata": {},
   "source": [
    "<a name=\"section-training\"></a><h2 style=\"color:rgb(0,120,170)\">Task B: Training and Results Analysis (15 points)</h2>"
   ]
  },
  {
   "cell_type": "markdown",
   "metadata": {},
   "source": [
    "<div>\n",
    "\n",
    "To evaluate the models, use <ins>accuracy</ins> as the metric throughout the task. \n",
    "\n",
    "**Dummy baseline (2 points).** Create one dummy baseline classifier that predicts the validation/test labels only based on the distribution of the labels in the training set (without any use of the feature vectors). This is a weak baseline and acts as a sanity check for the actual classifiers.\n",
    "\n",
    "**Training and tuning classifiers (5 points).** Select at least <ins>two classification algorithms</ins> from standard machine learning classifiers. Using each classification algorithm, train a machine learning model on each of the variations of feature vectors. This should result in <ins>four experiment sets</ins> (2 variations of feature vectors × 2 classification algorithms). The ML model in each of the experiments possibly have several involving hyper-parameters. For each experiment, select <ins>one of the hyper-parameters and tune its value</ins>. The tuning process is done by first assigning at least <ins>three values</ins> to the hyper-parameter, then training separate models based on each value, and finally using the evaluation results on the validation set to select the best-performing model. Report the studied hyper-parameters, the evaluation results of each on validation set, and finally the selected value of the hyper-parameter. \n",
    "\n",
    "**Evaluation, reporting results, and discussion (3 point).** Evaluate the selected models of the four experiments on the test set. Report the results of <ins>the four experiments on both validation and test sets (side by side) in one table as well as in one plot</ins>. Compare different experiments and models. Are the test results lower(/higher) than the validation results? If it is the case, where can it be rooted from? Among all these models and variations, what are the most important factors improving the classification results?\n",
    "\n",
    "**Confusion matrix (2 point).** Select the best performing model among the experiments and use it to create a confusion matrix. The matrix shows the predicted versus true results per each label. Explain your observations on the matrix. Across which classes do you observe significant confusions?\n",
    "\n",
    "**Features visualization (3 point).** Continue with the best performing model and now take its feature vectors for the *dataitems in the test set*. Project these feature vectors to a 2-dimensional space using the TSNE method.  Using these 2-dimensional vectors, create two plots where the dataitems are shown as points (small circles) on the plots. The plots look exactly the same but only differ in the coloring of the data points. The first plot colors every dataitem with its *true label*, while the second one colors each according to its *predicted label by the model*. Keep in mind to assign the same colors to the classes of the plots, so that the plots are visually comparable. Put these two plots side by side, observe the differences, and compare the results. Report your observations.\n",
    "\n",
    "\n",
    "</div>"
   ]
  },
  {
   "cell_type": "markdown",
   "metadata": {},
   "source": [
    "# Dummy baseline"
   ]
  },
  {
   "cell_type": "code",
   "execution_count": 11,
   "metadata": {},
   "outputs": [
    {
     "data": {
      "text/plain": [
       "<AxesSubplot:>"
      ]
     },
     "execution_count": 11,
     "metadata": {},
     "output_type": "execute_result"
    },
    {
     "data": {
      "image/png": "[encoded data removed]",
      "text/plain": [
       "<Figure size 432x288 with 1 Axes>"
      ]
     },
     "metadata": {
      "needs_background": "light"
     },
     "output_type": "display_data"
    }
   ],
   "source": [
    "#Would be insightful to know the label distribution\n",
    "\n",
    "df_train_prepr['label_named'] = df_train_prepr['Label'].apply(lambda l: labels['Label'][l])\n",
    "\n",
    "df_train_prepr['label_named'].value_counts(ascending = True).plot.barh()"
   ]
  },
  {
   "cell_type": "code",
   "execution_count": 12,
   "metadata": {},
   "outputs": [
    {
     "name": "stdout",
     "output_type": "stream",
     "text": [
      "Using the dummy baseline we get...\n",
      "24.470135% accuracy on test\n",
      "25.616333 accuracyon validation\n"
     ]
    }
   ],
   "source": [
    "from sklearn.dummy import DummyClassifier\n",
    "\n",
    "\n",
    "dummy = DummyClassifier(strategy = 'most_frequent')\n",
    "\n",
    "\n",
    "X_train = df_train_prepr['Text'].to_numpy()\n",
    "y_train = df_train_prepr['Label'].to_numpy()\n",
    "\n",
    "X_test = df_test_prepr['Text'].to_numpy()\n",
    "y_test = df_test_prepr['Label'].to_numpy()\n",
    "\n",
    "X_val = df_valid_prepr['Text'].to_numpy()\n",
    "y_val = df_valid_prepr['Label'].to_numpy()\n",
    "\n",
    "\n",
    "dummy.fit(X_train, y_train)\n",
    "\n",
    "\n",
    "dummy_score_test = dummy.score(X_test, y_test)\n",
    "dummy_score_val = dummy.score(X_val, y_val)\n",
    "\n",
    "\n",
    "print(\"Using the dummy baseline we get...\")\n",
    "print(f\"{dummy_score_test*100:2f}% accuracy on test\")\n",
    "print(f\"{dummy_score_val*100:2f} accuracyon validation\")"
   ]
  },
  {
   "cell_type": "markdown",
   "metadata": {},
   "source": [
    "<a name=\"section-optional\"></a><h2 style=\"color:rgb(0,120,170)\">Task C: Linear Model Interpretability (2 extra points)</h2>"
   ]
  },
  {
   "cell_type": "markdown",
   "metadata": {},
   "source": [
    "<div>\n",
    "Train a logistic regression model on one of the document representations. Take the coefficient weights, learned by the model, on each dimension (which here corresponds to each token in the dictionary). Separately for each class, study what are the tokens that have the highest contributions/importance for the predictions of the model.\n",
    "</div>"
   ]
  },
  {
   "cell_type": "code",
   "execution_count": null,
   "metadata": {},
   "outputs": [],
   "source": []
  },
  {
   "cell_type": "code",
   "execution_count": null,
   "metadata": {},
   "outputs": [],
   "source": []
  }
 ],
 "metadata": {
  "kernelspec": {
   "display_name": "Python 3 (ipykernel)",
   "language": "python",
   "name": "python3"
  },
  "language_info": {
   "codemirror_mode": {
    "name": "ipython",
    "version": 3
   },
   "file_extension": ".py",
   "mimetype": "text/x-python",
   "name": "python",
   "nbconvert_exporter": "python",
   "pygments_lexer": "ipython3",
   "version": "3.9.13"
  }
 },
 "nbformat": 4,
 "nbformat_minor": 4
}
